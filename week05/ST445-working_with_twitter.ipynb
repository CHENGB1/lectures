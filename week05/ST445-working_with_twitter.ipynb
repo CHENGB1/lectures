{
 "cells": [
  {
   "cell_type": "markdown",
   "metadata": {
    "slideshow": {
     "slide_type": "slide"
    }
   },
   "source": [
    "### ST445 Managing and Visualizing Data\n",
    "# Working with APIs\n",
    "### Working with Twitter API\n"
   ]
  },
  {
   "cell_type": "markdown",
   "metadata": {
    "collapsed": true,
    "slideshow": {
     "slide_type": "slide"
    }
   },
   "source": [
    "## Twitter API\n",
    "\n",
    "### The twitter API can be a powerful tool for your research. Because:\n",
    "\n",
    "1. Free\n",
    "2. Easy to access\n",
    "3. Vast amount of data \n",
    "    - e.g. more than 20M brexit tweets, especially more than 5M tweets are generated on 23rd June, 2016\n",
    "    \n"
   ]
  },
  {
   "cell_type": "markdown",
   "metadata": {
    "collapsed": true,
    "slideshow": {
     "slide_type": "slide"
    }
   },
   "source": [
    "## Requirement to use Twitter API\n",
    "\n",
    "1. Twitter account (of course it's free)\n",
    "2. Programming environment (python or R)\n",
    "3. Stable internet connection (if you stream tweets)\n",
    "4. Database solution (DB? flat text?)"
   ]
  },
  {
   "cell_type": "markdown",
   "metadata": {
    "collapsed": true,
    "slideshow": {
     "slide_type": "slide"
    }
   },
   "source": [
    "## Open twitter accounts\n",
    "\n",
    "- It's recommended to have a separate account for twitter scraping\n",
    "- You can open a twitter account using a free email account (e.g. Gmail)\n",
    "    https://twitter.com/signup\n",
    "\n",
    "![signup_twitter](figs/twitter_signup.png)\n",
    "\n"
   ]
  },
  {
   "cell_type": "markdown",
   "metadata": {
    "collapsed": true,
    "slideshow": {
     "slide_type": "slide"
    }
   },
   "source": [
    "## Create an Twitter app\n",
    "\n",
    "- You can get the API access keys and tokens by registering a web-app for Twitter\n",
    "- Go to the apps page\n",
    "    https://apps.twitter.com/\n",
    "- Create New App\n",
    "\n",
    "![signup_twitter](figs/apps_register.png)\n",
    "\n"
   ]
  },
  {
   "cell_type": "markdown",
   "metadata": {
    "collapsed": true,
    "slideshow": {
     "slide_type": "slide"
    }
   },
   "source": [
    "## Get keys and tokens\n",
    "\n",
    "- Go to \"Keys and Access Tokens\" page of the app you've just register\n",
    "- Generate tokens\n",
    "- Get 4 pieces of information and store them securely\n",
    "    - Consumer Key, Consumer Secret, Access Token, Access Token Secret\n",
    "    - Make sure that everything is copied precisely (nothing left out, no additional space)\n",
    "\n",
    "![signup_twitter](figs/keys_tokens.png)\n",
    "\n"
   ]
  },
  {
   "cell_type": "markdown",
   "metadata": {
    "collapsed": true,
    "slideshow": {
     "slide_type": "slide"
    }
   },
   "source": [
    "## Twitter APIs \n",
    "\n",
    "#### There are many methods, but followings are the ones you are likely to use\n",
    "\n",
    "- Streaming\n",
    "- User_timeline\n",
    "- Users-lookup \n",
    "- Followers and friends (e.g. network analysis)\n"
   ]
  },
  {
   "cell_type": "markdown",
   "metadata": {
    "collapsed": true,
    "slideshow": {
     "slide_type": "slide"
    }
   },
   "source": [
    "## API (1): Streaming\n",
    "- Documentation: [Streaming API](https://developer.twitter.com/en/docs/tweets/filter-realtime/api-reference/post-statuses-filter.html)\n",
    "- Filter and stream up to 1% of tweets\n",
    "- Based on:\n",
    "    - twitter accounts (< 5000 ids)\n",
    "    - keywords (< 400 words)\n",
    "- Most frequently used for research purpose\n",
    "    - Because it will give you huge amount of free data\n"
   ]
  },
  {
   "cell_type": "markdown",
   "metadata": {
    "collapsed": true,
    "slideshow": {
     "slide_type": "slide"
    }
   },
   "source": [
    "## API (2): User Timeline\n",
    "- Documentation: [User_timeline](https://developer.twitter.com/en/docs/tweets/timelines/api-reference/get-statuses-user_timeline.html)\n",
    "- Returns a collection of the most recent Tweets by a user (up to 3200 tweets)\n",
    "- Based on:\n",
    "    - user_id or screen_name\n"
   ]
  },
  {
   "cell_type": "markdown",
   "metadata": {
    "collapsed": true,
    "slideshow": {
     "slide_type": "slide"
    }
   },
   "source": [
    "## API (3): Users Lookup\n",
    "- Documentation: [Users_lookup](https://developer.twitter.com/en/docs/accounts-and-users/follow-search-get-users/api-reference/get-users-lookup)\n",
    "    - Returns fully-hydrated user objects for up to 100 users per request, as specified by comma-separated values passed to the user_id and/or screen_name parameters.\n",
    "    - This method is especially useful when used in conjunction with collections of user IDs of followers and friends.\n",
    "- Based on:\n",
    "    - user_id or screen_name\n"
   ]
  },
  {
   "cell_type": "markdown",
   "metadata": {
    "collapsed": true,
    "slideshow": {
     "slide_type": "slide"
    }
   },
   "source": [
    "## Understanding the rate-limit of APIs\n",
    "\n",
    "- There are limits in the number of api-calls or amount of the data you can get in a time period\n",
    "- Examples:\n",
    "    - Users Lookup (100 users in one call, 1500 users in 15 min)\n",
    "    - Get followers (5000 users per call, 15 calls in 15 min)\n",
    "- This looks like a lot, but what if you want to get all followers of 100 very popular accounts... (Katy Perry and Justin Bieber > 100M followers)\n",
    "    - This means for a large scale analysis you need to set up a program that works very long time without breaking down\n",
    "   \n",
    "  \n",
    "\n"
   ]
  },
  {
   "cell_type": "markdown",
   "metadata": {
    "collapsed": true,
    "slideshow": {
     "slide_type": "slide"
    }
   },
   "source": [
    "## Packages\n",
    "\n",
    "### Python\n",
    "- tweepy (esp for streaming)\n",
    "- python-twitter\n",
    "- twython\n",
    "\n",
    "### R\n",
    "\n",
    "- twitteR\n",
    "- streamR (for streaming) \n"
   ]
  },
  {
   "cell_type": "markdown",
   "metadata": {
    "collapsed": true,
    "slideshow": {
     "slide_type": "slide"
    }
   },
   "source": [
    "## Working Twitter API from R\n",
    "\n",
    "### Authentication\n"
   ]
  },
  {
   "cell_type": "code",
   "execution_count": 1,
   "metadata": {},
   "outputs": [
    {
     "name": "stderr",
     "output_type": "stream",
     "text": [
      "Loading required package: twitteR\n"
     ]
    },
    {
     "name": "stdout",
     "output_type": "stream",
     "text": [
      "[1] \"Using direct authentication\"\n"
     ]
    }
   ],
   "source": [
    "require(twitteR)\n",
    "source(\"tw_credential.R\")\n",
    "# the contents of the credential file is like:\n",
    "# api_key <- \"***\"\n",
    "# api_secret <- \"***\"\n",
    "# access_token <- \"***\"\n",
    "# access_token_secret <- \"***\"\n",
    "\n",
    "# authorize the Twitter access\n",
    "setup_twitter_oauth(api_key, api_secret, access_token, access_token_secret)\n"
   ]
  },
  {
   "cell_type": "markdown",
   "metadata": {
    "collapsed": true,
    "slideshow": {
     "slide_type": "slide"
    }
   },
   "source": [
    "## Accessing Uesr-timeline \n",
    "\n",
    "### Get latest tweets from \"@POTUS\""
   ]
  },
  {
   "cell_type": "code",
   "execution_count": 2,
   "metadata": {
    "collapsed": true
   },
   "outputs": [],
   "source": [
    "## downloading 3,200 most recent tweets from the President of United States\n",
    "tw <- userTimeline(\"POTUS\", n = 3200, includeRts = TRUE)\n",
    "twDf <- twListToDF(tw)\n"
   ]
  },
  {
   "cell_type": "code",
   "execution_count": 3,
   "metadata": {
    "slideshow": {
     "slide_type": "slide"
    }
   },
   "outputs": [
    {
     "data": {
      "text/html": [
       "<table>\n",
       "<thead><tr><th scope=col>text</th><th scope=col>favorited</th><th scope=col>favoriteCount</th><th scope=col>replyToSN</th><th scope=col>created</th><th scope=col>truncated</th><th scope=col>replyToSID</th><th scope=col>id</th><th scope=col>replyToUID</th><th scope=col>statusSource</th><th scope=col>screenName</th><th scope=col>retweetCount</th><th scope=col>isRetweet</th><th scope=col>retweeted</th><th scope=col>longitude</th><th scope=col>latitude</th></tr></thead>\n",
       "<tbody>\n",
       "\t<tr><td><span style=white-space:pre-wrap>#OneAmericaAppeal #USA����\n",
       "https://t.co/BmbwA8XtGo                                                                                               </span></td><td>FALSE                                                                                                                                                                                     </td><td>9375                                                                                                                                                                                      </td><td>NA                                                                                                                                                                                        </td><td>2017-10-22 00:20:05                                                                                                                                                                       </td><td>FALSE                                                                                                                                                                                     </td><td>NA                                                                                                                                                                                        </td><td>921893887962206208                                                                                                                                                                        </td><td>NA                                                                                                                                                                                        </td><td>&lt;a href=\"http://twitter.com/download/iphone\" rel=\"nofollow\"&gt;Twitter for iPhone&lt;/a&gt;                                                                                            </td><td>POTUS                                                                                                                                                                                     </td><td> 2475                                                                                                                                                                                     </td><td>FALSE                                                                                                                                                                                     </td><td>FALSE                                                                                                                                                                                     </td><td>NA                                                                                                                                                                                        </td><td>NA                                                                                                                                                                                        </td></tr>\n",
       "\t<tr><td><span style=white-space:pre-wrap>RT @realDonaldTrump: \"Trump hails liberation of Raqqa as critical breakthrough in anti-ISIS campaign\" https://t.co/2eoYXJB7h0                     </span></td><td>FALSE                                                                                                                                                                                     </td><td><span style=white-space:pre-wrap>   0</span>                                                                                                                                              </td><td>NA                                                                                                                                                                                        </td><td>2017-10-21 16:54:42                                                                                                                                                                       </td><td>FALSE                                                                                                                                                                                     </td><td>NA                                                                                                                                                                                        </td><td>921781805296111616                                                                                                                                                                        </td><td>NA                                                                                                                                                                                        </td><td>&lt;a href=\"http://twitter.com/download/iphone\" rel=\"nofollow\"&gt;Twitter for iPhone&lt;/a&gt;                                                                                            </td><td>POTUS                                                                                                                                                                                     </td><td>10422                                                                                                                                                                                     </td><td> TRUE                                                                                                                                                                                     </td><td>FALSE                                                                                                                                                                                     </td><td>NA                                                                                                                                                                                        </td><td>NA                                                                                                                                                                                        </td></tr>\n",
       "\t<tr><td><span style=white-space:pre-wrap>RT @realDonaldTrump: Subject to the receipt of further information, I will be allowing, as President, the long blocked and classified JFK F...    </span></td><td>FALSE                                                                                                                                                                                     </td><td><span style=white-space:pre-wrap>   0</span>                                                                                                                                              </td><td>NA                                                                                                                                                                                        </td><td>2017-10-21 15:01:52                                                                                                                                                                       </td><td>FALSE                                                                                                                                                                                     </td><td>NA                                                                                                                                                                                        </td><td>921753406141796352                                                                                                                                                                        </td><td>NA                                                                                                                                                                                        </td><td>&lt;a href=\"http://twitter.com/download/iphone\" rel=\"nofollow\"&gt;Twitter for iPhone&lt;/a&gt;                                                                                            </td><td>POTUS                                                                                                                                                                                     </td><td>69262                                                                                                                                                                                     </td><td> TRUE                                                                                                                                                                                     </td><td>FALSE                                                                                                                                                                                     </td><td>NA                                                                                                                                                                                        </td><td>NA                                                                                                                                                                                        </td></tr>\n",
       "\t<tr><td><span style=white-space:pre-wrap>RT @FLOTUS: Honored today to donate my inaugural couture piece to the @amhistorymuseum! https://t.co/ENU1BeJA02                                   </span></td><td>FALSE                                                                                                                                                                                     </td><td><span style=white-space:pre-wrap>   0</span>                                                                                                                                              </td><td>NA                                                                                                                                                                                        </td><td>2017-10-21 00:17:28                                                                                                                                                                       </td><td>FALSE                                                                                                                                                                                     </td><td>NA                                                                                                                                                                                        </td><td>921530841452437504                                                                                                                                                                        </td><td>NA                                                                                                                                                                                        </td><td>&lt;a href=\"http://twitter.com/download/iphone\" rel=\"nofollow\"&gt;Twitter for iPhone&lt;/a&gt;                                                                                            </td><td>POTUS                                                                                                                                                                                     </td><td> 5901                                                                                                                                                                                     </td><td> TRUE                                                                                                                                                                                     </td><td>FALSE                                                                                                                                                                                     </td><td>NA                                                                                                                                                                                        </td><td>NA                                                                                                                                                                                        </td></tr>\n",
       "\t<tr><td>RT @fema: Protect yourself against scams after disasters like #CAWildfires &amp;amp; #Maria. If you suspect you're a victim of fraud, call: 800-323...</td><td>FALSE                                                                                                                                                 </td><td><span style=white-space:pre-wrap>   0</span>                                                                                                          </td><td>NA                                                                                                                                                    </td><td>2017-10-21 00:16:37                                                                                                                                   </td><td>FALSE                                                                                                                                                 </td><td>NA                                                                                                                                                    </td><td>921530628704817152                                                                                                                                    </td><td>NA                                                                                                                                                    </td><td>&lt;a href=\"http://twitter.com/download/iphone\" rel=\"nofollow\"&gt;Twitter for iPhone&lt;/a&gt;                                                        </td><td>POTUS                                                                                                                                                 </td><td><span style=white-space:pre-wrap>  995</span>                                                                                                         </td><td> TRUE                                                                                                                                                 </td><td>FALSE                                                                                                                                                 </td><td>NA                                                                                                                                                    </td><td>NA                                                                                                                                                    </td></tr>\n",
       "\t<tr><td><span style=white-space:pre-wrap>RT @VP: By lowering the business tax rate under @POTUS' tax reform plan, American companies will be more competitive on the world stage. ht...    </span></td><td>FALSE                                                                                                                                                                                     </td><td><span style=white-space:pre-wrap>   0</span>                                                                                                                                              </td><td>NA                                                                                                                                                                                        </td><td>2017-10-21 00:14:11                                                                                                                                                                       </td><td>FALSE                                                                                                                                                                                     </td><td>NA                                                                                                                                                                                        </td><td>921530016185442305                                                                                                                                                                        </td><td>NA                                                                                                                                                                                        </td><td>&lt;a href=\"http://twitter.com/download/iphone\" rel=\"nofollow\"&gt;Twitter for iPhone&lt;/a&gt;                                                                                            </td><td>POTUS                                                                                                                                                                                     </td><td> 2724                                                                                                                                                                                     </td><td> TRUE                                                                                                                                                                                     </td><td>FALSE                                                                                                                                                                                     </td><td>NA                                                                                                                                                                                        </td><td>NA                                                                                                                                                                                        </td></tr>\n",
       "\t<tr><td><span style=white-space:pre-wrap>RT @SecShulkin: .@POTUS @realDonaldTrump and I remain focused on providing the best possible care to our nations #Veterans https://t.co/Alr...    </span></td><td>FALSE                                                                                                                                                                                     </td><td><span style=white-space:pre-wrap>   0</span>                                                                                                                                              </td><td>NA                                                                                                                                                                                        </td><td>2017-10-21 00:14:09                                                                                                                                                                       </td><td>FALSE                                                                                                                                                                                     </td><td>NA                                                                                                                                                                                        </td><td>921530004906938368                                                                                                                                                                        </td><td>NA                                                                                                                                                                                        </td><td>&lt;a href=\"http://twitter.com/download/iphone\" rel=\"nofollow\"&gt;Twitter for iPhone&lt;/a&gt;                                                                                            </td><td>POTUS                                                                                                                                                                                     </td><td> 1188                                                                                                                                                                                     </td><td> TRUE                                                                                                                                                                                     </td><td>FALSE                                                                                                                                                                                     </td><td>NA                                                                                                                                                                                        </td><td>NA                                                                                                                                                                                        </td></tr>\n",
       "\t<tr><td><span style=white-space:pre-wrap>RT @Scavino45: Today, @POTUS @realDonaldTrump joined @MariaBartiromo for an interview. Airing Sun @FoxNews @SundayFutures 10amE. ��https://t...   </span></td><td>FALSE                                                                                                                                                                                     </td><td><span style=white-space:pre-wrap>   0</span>                                                                                                                                              </td><td>NA                                                                                                                                                                                        </td><td>2017-10-21 00:14:07                                                                                                                                                                       </td><td>FALSE                                                                                                                                                                                     </td><td>NA                                                                                                                                                                                        </td><td>921529999689240581                                                                                                                                                                        </td><td>NA                                                                                                                                                                                        </td><td>&lt;a href=\"http://twitter.com/download/iphone\" rel=\"nofollow\"&gt;Twitter for iPhone&lt;/a&gt;                                                                                            </td><td>POTUS                                                                                                                                                                                     </td><td> 1178                                                                                                                                                                                     </td><td> TRUE                                                                                                                                                                                     </td><td>FALSE                                                                                                                                                                                     </td><td>NA                                                                                                                                                                                        </td><td>NA                                                                                                                                                                                        </td></tr>\n",
       "\t<tr><td><span style=white-space:pre-wrap>RT @realDonaldTrump: This is a once-in-a-generation opportunity to offer historic tax relief to the American people! Join me today: https:/...    </span></td><td>FALSE                                                                                                                                                                                     </td><td><span style=white-space:pre-wrap>   0</span>                                                                                                                                              </td><td>NA                                                                                                                                                                                        </td><td>2017-10-20 21:13:58                                                                                                                                                                       </td><td>FALSE                                                                                                                                                                                     </td><td>NA                                                                                                                                                                                        </td><td>921484660181557249                                                                                                                                                                        </td><td>NA                                                                                                                                                                                        </td><td>&lt;a href=\"http://twitter.com/download/iphone\" rel=\"nofollow\"&gt;Twitter for iPhone&lt;/a&gt;                                                                                            </td><td>POTUS                                                                                                                                                                                     </td><td>15415                                                                                                                                                                                     </td><td> TRUE                                                                                                                                                                                     </td><td>FALSE                                                                                                                                                                                     </td><td>NA                                                                                                                                                                                        </td><td>NA                                                                                                                                                                                        </td></tr>\n",
       "\t<tr><td><span style=white-space:pre-wrap>RT @realDonaldTrump: Today, it was an honor to have @UN\n",
       "Secretary-General @AntonioGuterres at the @WhiteHouse. Speaking for the U.S.A., we...    </span></td><td>FALSE                                                                                                                                                                                     </td><td><span style=white-space:pre-wrap>   0</span>                                                                                                                                              </td><td>NA                                                                                                                                                                                        </td><td>2017-10-20 19:26:47                                                                                                                                                                       </td><td>FALSE                                                                                                                                                                                     </td><td>NA                                                                                                                                                                                        </td><td>921457687606517760                                                                                                                                                                        </td><td>NA                                                                                                                                                                                        </td><td>&lt;a href=\"http://twitter.com/download/iphone\" rel=\"nofollow\"&gt;Twitter for iPhone&lt;/a&gt;                                                                                            </td><td>POTUS                                                                                                                                                                                     </td><td> 6877                                                                                                                                                                                     </td><td> TRUE                                                                                                                                                                                     </td><td>FALSE                                                                                                                                                                                     </td><td>NA                                                                                                                                                                                        </td><td>NA                                                                                                                                                                                        </td></tr>\n",
       "</tbody>\n",
       "</table>\n"
      ],
      "text/latex": [
       "\\begin{tabular}{r|llllllllllllllll}\n",
       " text & favorited & favoriteCount & replyToSN & created & truncated & replyToSID & id & replyToUID & statusSource & screenName & retweetCount & isRetweet & retweeted & longitude & latitude\\\\\n",
       "\\hline\n",
       "\t \\#OneAmericaAppeal \\#USA����\n",
       "https://t.co/BmbwA8XtGo                                                                                                & FALSE                                                                                                                                                  & 9375                                                                                                                                                   & NA                                                                                                                                                     & 2017-10-22 00:20:05                                                                                                                                    & FALSE                                                                                                                                                  & NA                                                                                                                                                     & 921893887962206208                                                                                                                                     & NA                                                                                                                                                     & <a href=\"http://twitter.com/download/iphone\" rel=\"nofollow\">Twitter for iPhone</a>                                                                     & POTUS                                                                                                                                                  &  2475                                                                                                                                                  & FALSE                                                                                                                                                  & FALSE                                                                                                                                                  & NA                                                                                                                                                     & NA                                                                                                                                                    \\\\\n",
       "\t RT @realDonaldTrump: \"Trump hails liberation of Raqqa as critical breakthrough in anti-ISIS campaign\" https://t.co/2eoYXJB7h0                      & FALSE                                                                                                                                              &    0                                                                                                                                               & NA                                                                                                                                                 & 2017-10-21 16:54:42                                                                                                                                & FALSE                                                                                                                                              & NA                                                                                                                                                 & 921781805296111616                                                                                                                                 & NA                                                                                                                                                 & <a href=\"http://twitter.com/download/iphone\" rel=\"nofollow\">Twitter for iPhone</a>                                                                 & POTUS                                                                                                                                              & 10422                                                                                                                                              &  TRUE                                                                                                                                              & FALSE                                                                                                                                              & NA                                                                                                                                                 & NA                                                                                                                                                \\\\\n",
       "\t RT @realDonaldTrump: Subject to the receipt of further information, I will be allowing, as President, the long blocked and classified JFK F...     & FALSE                                                                                                                                              &    0                                                                                                                                               & NA                                                                                                                                                 & 2017-10-21 15:01:52                                                                                                                                & FALSE                                                                                                                                              & NA                                                                                                                                                 & 921753406141796352                                                                                                                                 & NA                                                                                                                                                 & <a href=\"http://twitter.com/download/iphone\" rel=\"nofollow\">Twitter for iPhone</a>                                                                 & POTUS                                                                                                                                              & 69262                                                                                                                                              &  TRUE                                                                                                                                              & FALSE                                                                                                                                              & NA                                                                                                                                                 & NA                                                                                                                                                \\\\\n",
       "\t RT @FLOTUS: Honored today to donate my inaugural couture piece to the @amhistorymuseum! https://t.co/ENU1BeJA02                                    & FALSE                                                                                                                                              &    0                                                                                                                                               & NA                                                                                                                                                 & 2017-10-21 00:17:28                                                                                                                                & FALSE                                                                                                                                              & NA                                                                                                                                                 & 921530841452437504                                                                                                                                 & NA                                                                                                                                                 & <a href=\"http://twitter.com/download/iphone\" rel=\"nofollow\">Twitter for iPhone</a>                                                                 & POTUS                                                                                                                                              &  5901                                                                                                                                              &  TRUE                                                                                                                                              & FALSE                                                                                                                                              & NA                                                                                                                                                 & NA                                                                                                                                                \\\\\n",
       "\t RT @fema: Protect yourself against scams after disasters like \\#CAWildfires \\&amp; \\#Maria. If you suspect you're a victim of fraud, call: 800-323... & FALSE                                                                                                                                                    &    0                                                                                                                                                     & NA                                                                                                                                                       & 2017-10-21 00:16:37                                                                                                                                      & FALSE                                                                                                                                                    & NA                                                                                                                                                       & 921530628704817152                                                                                                                                       & NA                                                                                                                                                       & <a href=\"http://twitter.com/download/iphone\" rel=\"nofollow\">Twitter for iPhone</a>                                                                       & POTUS                                                                                                                                                    &   995                                                                                                                                                    &  TRUE                                                                                                                                                    & FALSE                                                                                                                                                    & NA                                                                                                                                                       & NA                                                                                                                                                      \\\\\n",
       "\t RT @VP: By lowering the business tax rate under @POTUS' tax reform plan, American companies will be more competitive on the world stage. ht...     & FALSE                                                                                                                                              &    0                                                                                                                                               & NA                                                                                                                                                 & 2017-10-21 00:14:11                                                                                                                                & FALSE                                                                                                                                              & NA                                                                                                                                                 & 921530016185442305                                                                                                                                 & NA                                                                                                                                                 & <a href=\"http://twitter.com/download/iphone\" rel=\"nofollow\">Twitter for iPhone</a>                                                                 & POTUS                                                                                                                                              &  2724                                                                                                                                              &  TRUE                                                                                                                                              & FALSE                                                                                                                                              & NA                                                                                                                                                 & NA                                                                                                                                                \\\\\n",
       "\t RT @SecShulkin: .@POTUS @realDonaldTrump and I remain focused on providing the best possible care to our nations \\#Veterans https://t.co/Alr...     & FALSE                                                                                                                                                &    0                                                                                                                                                 & NA                                                                                                                                                   & 2017-10-21 00:14:09                                                                                                                                  & FALSE                                                                                                                                                & NA                                                                                                                                                   & 921530004906938368                                                                                                                                   & NA                                                                                                                                                   & <a href=\"http://twitter.com/download/iphone\" rel=\"nofollow\">Twitter for iPhone</a>                                                                   & POTUS                                                                                                                                                &  1188                                                                                                                                                &  TRUE                                                                                                                                                & FALSE                                                                                                                                                & NA                                                                                                                                                   & NA                                                                                                                                                  \\\\\n",
       "\t RT @Scavino45: Today, @POTUS @realDonaldTrump joined @MariaBartiromo for an interview. Airing Sun @FoxNews @SundayFutures 10amE. ��https://t...    & FALSE                                                                                                                                              &    0                                                                                                                                               & NA                                                                                                                                                 & 2017-10-21 00:14:07                                                                                                                                & FALSE                                                                                                                                              & NA                                                                                                                                                 & 921529999689240581                                                                                                                                 & NA                                                                                                                                                 & <a href=\"http://twitter.com/download/iphone\" rel=\"nofollow\">Twitter for iPhone</a>                                                                 & POTUS                                                                                                                                              &  1178                                                                                                                                              &  TRUE                                                                                                                                              & FALSE                                                                                                                                              & NA                                                                                                                                                 & NA                                                                                                                                                \\\\\n",
       "\t RT @realDonaldTrump: This is a once-in-a-generation opportunity to offer historic tax relief to the American people! Join me today: https:/...     & FALSE                                                                                                                                              &    0                                                                                                                                               & NA                                                                                                                                                 & 2017-10-20 21:13:58                                                                                                                                & FALSE                                                                                                                                              & NA                                                                                                                                                 & 921484660181557249                                                                                                                                 & NA                                                                                                                                                 & <a href=\"http://twitter.com/download/iphone\" rel=\"nofollow\">Twitter for iPhone</a>                                                                 & POTUS                                                                                                                                              & 15415                                                                                                                                              &  TRUE                                                                                                                                              & FALSE                                                                                                                                              & NA                                                                                                                                                 & NA                                                                                                                                                \\\\\n",
       "\t RT @realDonaldTrump: Today, it was an honor to have @UN\n",
       "Secretary-General @AntonioGuterres at the @WhiteHouse. Speaking for the U.S.A., we...     & FALSE                                                                                                                                              &    0                                                                                                                                               & NA                                                                                                                                                 & 2017-10-20 19:26:47                                                                                                                                & FALSE                                                                                                                                              & NA                                                                                                                                                 & 921457687606517760                                                                                                                                 & NA                                                                                                                                                 & <a href=\"http://twitter.com/download/iphone\" rel=\"nofollow\">Twitter for iPhone</a>                                                                 & POTUS                                                                                                                                              &  6877                                                                                                                                              &  TRUE                                                                                                                                              & FALSE                                                                                                                                              & NA                                                                                                                                                 & NA                                                                                                                                                \\\\\n",
       "\\end{tabular}\n"
      ],
      "text/markdown": [
       "\n",
       "text | favorited | favoriteCount | replyToSN | created | truncated | replyToSID | id | replyToUID | statusSource | screenName | retweetCount | isRetweet | retweeted | longitude | latitude | \n",
       "|---|---|---|---|---|---|---|---|---|---|\n",
       "| #OneAmericaAppeal #USA����\n",
       "https://t.co/BmbwA8XtGo                                                                                                | FALSE                                                                                                                                              | 9375                                                                                                                                               | NA                                                                                                                                                 | 2017-10-22 00:20:05                                                                                                                                | FALSE                                                                                                                                              | NA                                                                                                                                                 | 921893887962206208                                                                                                                                 | NA                                                                                                                                                 | <a href=\"http://twitter.com/download/iphone\" rel=\"nofollow\">Twitter for iPhone</a>                                                                 | POTUS                                                                                                                                              |  2475                                                                                                                                              | FALSE                                                                                                                                              | FALSE                                                                                                                                              | NA                                                                                                                                                 | NA                                                                                                                                                 | \n",
       "| RT @realDonaldTrump: \"Trump hails liberation of Raqqa as critical breakthrough in anti-ISIS campaign\" https://t.co/2eoYXJB7h0                      | FALSE                                                                                                                                              |    0                                                                                                                                               | NA                                                                                                                                                 | 2017-10-21 16:54:42                                                                                                                                | FALSE                                                                                                                                              | NA                                                                                                                                                 | 921781805296111616                                                                                                                                 | NA                                                                                                                                                 | <a href=\"http://twitter.com/download/iphone\" rel=\"nofollow\">Twitter for iPhone</a>                                                                 | POTUS                                                                                                                                              | 10422                                                                                                                                              |  TRUE                                                                                                                                              | FALSE                                                                                                                                              | NA                                                                                                                                                 | NA                                                                                                                                                 | \n",
       "| RT @realDonaldTrump: Subject to the receipt of further information, I will be allowing, as President, the long blocked and classified JFK F...     | FALSE                                                                                                                                              |    0                                                                                                                                               | NA                                                                                                                                                 | 2017-10-21 15:01:52                                                                                                                                | FALSE                                                                                                                                              | NA                                                                                                                                                 | 921753406141796352                                                                                                                                 | NA                                                                                                                                                 | <a href=\"http://twitter.com/download/iphone\" rel=\"nofollow\">Twitter for iPhone</a>                                                                 | POTUS                                                                                                                                              | 69262                                                                                                                                              |  TRUE                                                                                                                                              | FALSE                                                                                                                                              | NA                                                                                                                                                 | NA                                                                                                                                                 | \n",
       "| RT @FLOTUS: Honored today to donate my inaugural couture piece to the @amhistorymuseum! https://t.co/ENU1BeJA02                                    | FALSE                                                                                                                                              |    0                                                                                                                                               | NA                                                                                                                                                 | 2017-10-21 00:17:28                                                                                                                                | FALSE                                                                                                                                              | NA                                                                                                                                                 | 921530841452437504                                                                                                                                 | NA                                                                                                                                                 | <a href=\"http://twitter.com/download/iphone\" rel=\"nofollow\">Twitter for iPhone</a>                                                                 | POTUS                                                                                                                                              |  5901                                                                                                                                              |  TRUE                                                                                                                                              | FALSE                                                                                                                                              | NA                                                                                                                                                 | NA                                                                                                                                                 | \n",
       "| RT @fema: Protect yourself against scams after disasters like #CAWildfires &amp; #Maria. If you suspect you're a victim of fraud, call: 800-323... | FALSE                                                                                                                                              |    0                                                                                                                                               | NA                                                                                                                                                 | 2017-10-21 00:16:37                                                                                                                                | FALSE                                                                                                                                              | NA                                                                                                                                                 | 921530628704817152                                                                                                                                 | NA                                                                                                                                                 | <a href=\"http://twitter.com/download/iphone\" rel=\"nofollow\">Twitter for iPhone</a>                                                                 | POTUS                                                                                                                                              |   995                                                                                                                                              |  TRUE                                                                                                                                              | FALSE                                                                                                                                              | NA                                                                                                                                                 | NA                                                                                                                                                 | \n",
       "| RT @VP: By lowering the business tax rate under @POTUS' tax reform plan, American companies will be more competitive on the world stage. ht...     | FALSE                                                                                                                                              |    0                                                                                                                                               | NA                                                                                                                                                 | 2017-10-21 00:14:11                                                                                                                                | FALSE                                                                                                                                              | NA                                                                                                                                                 | 921530016185442305                                                                                                                                 | NA                                                                                                                                                 | <a href=\"http://twitter.com/download/iphone\" rel=\"nofollow\">Twitter for iPhone</a>                                                                 | POTUS                                                                                                                                              |  2724                                                                                                                                              |  TRUE                                                                                                                                              | FALSE                                                                                                                                              | NA                                                                                                                                                 | NA                                                                                                                                                 | \n",
       "| RT @SecShulkin: .@POTUS @realDonaldTrump and I remain focused on providing the best possible care to our nations #Veterans https://t.co/Alr...     | FALSE                                                                                                                                              |    0                                                                                                                                               | NA                                                                                                                                                 | 2017-10-21 00:14:09                                                                                                                                | FALSE                                                                                                                                              | NA                                                                                                                                                 | 921530004906938368                                                                                                                                 | NA                                                                                                                                                 | <a href=\"http://twitter.com/download/iphone\" rel=\"nofollow\">Twitter for iPhone</a>                                                                 | POTUS                                                                                                                                              |  1188                                                                                                                                              |  TRUE                                                                                                                                              | FALSE                                                                                                                                              | NA                                                                                                                                                 | NA                                                                                                                                                 | \n",
       "| RT @Scavino45: Today, @POTUS @realDonaldTrump joined @MariaBartiromo for an interview. Airing Sun @FoxNews @SundayFutures 10amE. ��https://t...    | FALSE                                                                                                                                              |    0                                                                                                                                               | NA                                                                                                                                                 | 2017-10-21 00:14:07                                                                                                                                | FALSE                                                                                                                                              | NA                                                                                                                                                 | 921529999689240581                                                                                                                                 | NA                                                                                                                                                 | <a href=\"http://twitter.com/download/iphone\" rel=\"nofollow\">Twitter for iPhone</a>                                                                 | POTUS                                                                                                                                              |  1178                                                                                                                                              |  TRUE                                                                                                                                              | FALSE                                                                                                                                              | NA                                                                                                                                                 | NA                                                                                                                                                 | \n",
       "| RT @realDonaldTrump: This is a once-in-a-generation opportunity to offer historic tax relief to the American people! Join me today: https:/...     | FALSE                                                                                                                                              |    0                                                                                                                                               | NA                                                                                                                                                 | 2017-10-20 21:13:58                                                                                                                                | FALSE                                                                                                                                              | NA                                                                                                                                                 | 921484660181557249                                                                                                                                 | NA                                                                                                                                                 | <a href=\"http://twitter.com/download/iphone\" rel=\"nofollow\">Twitter for iPhone</a>                                                                 | POTUS                                                                                                                                              | 15415                                                                                                                                              |  TRUE                                                                                                                                              | FALSE                                                                                                                                              | NA                                                                                                                                                 | NA                                                                                                                                                 | \n",
       "| RT @realDonaldTrump: Today, it was an honor to have @UN\n",
       "Secretary-General @AntonioGuterres at the @WhiteHouse. Speaking for the U.S.A., we...     | FALSE                                                                                                                                              |    0                                                                                                                                               | NA                                                                                                                                                 | 2017-10-20 19:26:47                                                                                                                                | FALSE                                                                                                                                              | NA                                                                                                                                                 | 921457687606517760                                                                                                                                 | NA                                                                                                                                                 | <a href=\"http://twitter.com/download/iphone\" rel=\"nofollow\">Twitter for iPhone</a>                                                                 | POTUS                                                                                                                                              |  6877                                                                                                                                              |  TRUE                                                                                                                                              | FALSE                                                                                                                                              | NA                                                                                                                                                 | NA                                                                                                                                                 | \n",
       "\n",
       "\n"
      ],
      "text/plain": [
       "   text                                                                                                                                              \n",
       "1  #OneAmericaAppeal #USA����\\nhttps://t.co/BmbwA8XtGo                                                                                               \n",
       "2  RT @realDonaldTrump: \"Trump hails liberation of Raqqa as critical breakthrough in anti-ISIS campaign\" https://t.co/2eoYXJB7h0                     \n",
       "3  RT @realDonaldTrump: Subject to the receipt of further information, I will be allowing, as President, the long blocked and classified JFK F...    \n",
       "4  RT @FLOTUS: Honored today to donate my inaugural couture piece to the @amhistorymuseum! https://t.co/ENU1BeJA02                                   \n",
       "5  RT @fema: Protect yourself against scams after disasters like #CAWildfires &amp; #Maria. If you suspect you're a victim of fraud, call: 800-323...\n",
       "6  RT @VP: By lowering the business tax rate under @POTUS' tax reform plan, American companies will be more competitive on the world stage. ht...    \n",
       "7  RT @SecShulkin: .@POTUS @realDonaldTrump and I remain focused on providing the best possible care to our nations #Veterans https://t.co/Alr...    \n",
       "8  RT @Scavino45: Today, @POTUS @realDonaldTrump joined @MariaBartiromo for an interview. Airing Sun @FoxNews @SundayFutures 10amE. ��https://t...   \n",
       "9  RT @realDonaldTrump: This is a once-in-a-generation opportunity to offer historic tax relief to the American people! Join me today: https:/...    \n",
       "10 RT @realDonaldTrump: Today, it was an honor to have @UN\\nSecretary-General @AntonioGuterres at the @WhiteHouse. Speaking for the U.S.A., we...    \n",
       "   favorited favoriteCount replyToSN created             truncated replyToSID\n",
       "1  FALSE     9375          NA        2017-10-22 00:20:05 FALSE     NA        \n",
       "2  FALSE        0          NA        2017-10-21 16:54:42 FALSE     NA        \n",
       "3  FALSE        0          NA        2017-10-21 15:01:52 FALSE     NA        \n",
       "4  FALSE        0          NA        2017-10-21 00:17:28 FALSE     NA        \n",
       "5  FALSE        0          NA        2017-10-21 00:16:37 FALSE     NA        \n",
       "6  FALSE        0          NA        2017-10-21 00:14:11 FALSE     NA        \n",
       "7  FALSE        0          NA        2017-10-21 00:14:09 FALSE     NA        \n",
       "8  FALSE        0          NA        2017-10-21 00:14:07 FALSE     NA        \n",
       "9  FALSE        0          NA        2017-10-20 21:13:58 FALSE     NA        \n",
       "10 FALSE        0          NA        2017-10-20 19:26:47 FALSE     NA        \n",
       "   id                 replyToUID\n",
       "1  921893887962206208 NA        \n",
       "2  921781805296111616 NA        \n",
       "3  921753406141796352 NA        \n",
       "4  921530841452437504 NA        \n",
       "5  921530628704817152 NA        \n",
       "6  921530016185442305 NA        \n",
       "7  921530004906938368 NA        \n",
       "8  921529999689240581 NA        \n",
       "9  921484660181557249 NA        \n",
       "10 921457687606517760 NA        \n",
       "   statusSource                                                                      \n",
       "1  <a href=\"http://twitter.com/download/iphone\" rel=\"nofollow\">Twitter for iPhone</a>\n",
       "2  <a href=\"http://twitter.com/download/iphone\" rel=\"nofollow\">Twitter for iPhone</a>\n",
       "3  <a href=\"http://twitter.com/download/iphone\" rel=\"nofollow\">Twitter for iPhone</a>\n",
       "4  <a href=\"http://twitter.com/download/iphone\" rel=\"nofollow\">Twitter for iPhone</a>\n",
       "5  <a href=\"http://twitter.com/download/iphone\" rel=\"nofollow\">Twitter for iPhone</a>\n",
       "6  <a href=\"http://twitter.com/download/iphone\" rel=\"nofollow\">Twitter for iPhone</a>\n",
       "7  <a href=\"http://twitter.com/download/iphone\" rel=\"nofollow\">Twitter for iPhone</a>\n",
       "8  <a href=\"http://twitter.com/download/iphone\" rel=\"nofollow\">Twitter for iPhone</a>\n",
       "9  <a href=\"http://twitter.com/download/iphone\" rel=\"nofollow\">Twitter for iPhone</a>\n",
       "10 <a href=\"http://twitter.com/download/iphone\" rel=\"nofollow\">Twitter for iPhone</a>\n",
       "   screenName retweetCount isRetweet retweeted longitude latitude\n",
       "1  POTUS       2475        FALSE     FALSE     NA        NA      \n",
       "2  POTUS      10422         TRUE     FALSE     NA        NA      \n",
       "3  POTUS      69262         TRUE     FALSE     NA        NA      \n",
       "4  POTUS       5901         TRUE     FALSE     NA        NA      \n",
       "5  POTUS        995         TRUE     FALSE     NA        NA      \n",
       "6  POTUS       2724         TRUE     FALSE     NA        NA      \n",
       "7  POTUS       1188         TRUE     FALSE     NA        NA      \n",
       "8  POTUS       1178         TRUE     FALSE     NA        NA      \n",
       "9  POTUS      15415         TRUE     FALSE     NA        NA      \n",
       "10 POTUS       6877         TRUE     FALSE     NA        NA      "
      ]
     },
     "metadata": {},
     "output_type": "display_data"
    }
   ],
   "source": [
    "library(stringi)\n",
    "twDf$text <- stri_trans_general(twDf$text, \"latin-ascii\") ## convert everything into ascii\n",
    "twDf[1:10, ] \n",
    "# obviously there are a lot of retweets of \"@realDonaldTrump\""
   ]
  },
  {
   "cell_type": "markdown",
   "metadata": {
    "collapsed": true,
    "slideshow": {
     "slide_type": "slide"
    }
   },
   "source": [
    "### Some simple data exploration\n",
    "\n",
    "- how many retweets? \n",
    "- who was retweeted?"
   ]
  },
  {
   "cell_type": "code",
   "execution_count": 4,
   "metadata": {},
   "outputs": [
    {
     "name": "stderr",
     "output_type": "stream",
     "text": [
      "\n",
      "Attaching package: ‘dplyr’\n",
      "\n",
      "The following objects are masked from ‘package:twitteR’:\n",
      "\n",
      "    id, location\n",
      "\n",
      "The following objects are masked from ‘package:stats’:\n",
      "\n",
      "    filter, lag\n",
      "\n",
      "The following objects are masked from ‘package:base’:\n",
      "\n",
      "    intersect, setdiff, setequal, union\n",
      "\n"
     ]
    },
    {
     "data": {
      "text/plain": [
       "\n",
       "FALSE  TRUE \n",
       "  403  1017 "
      ]
     },
     "metadata": {},
     "output_type": "display_data"
    },
    {
     "data": {
      "text/plain": [
       ".\n",
       "@realDonaldTrump              @VP      @WhiteHouse       @Scavino45 \n",
       "             381              131               86               69 \n",
       "         @FLOTUS     @IvankaTrump        @PressSec      @SecShulkin \n",
       "              40               30               22               11 \n",
       " @SecretaryPerry          @USNavy \n",
       "               9                8 "
      ]
     },
     "metadata": {},
     "output_type": "display_data"
    }
   ],
   "source": [
    "library(dplyr)\n",
    "library(stringr)\n",
    "table(twDf$isRetweet)\n",
    "texts <- twDf %>% filter(isRetweet == T) %>% select(text) %>% unlist\n",
    "\n",
    "str_replace(texts, \"\\\\n\", \" \") %>% \n",
    "   str_replace(\"^RT\\\\s*(@[[:alnum:]]+).+\", \"\\\\1\") %>% \n",
    "   table %>% sort(decreasing = T) %>% head(10)\n"
   ]
  },
  {
   "cell_type": "markdown",
   "metadata": {
    "collapsed": true,
    "slideshow": {
     "slide_type": "slide"
    }
   },
   "source": [
    "### Some simple data exploration\n",
    "\n",
    "- which month?"
   ]
  },
  {
   "cell_type": "code",
   "execution_count": 5,
   "metadata": {
    "scrolled": true
   },
   "outputs": [
    {
     "name": "stderr",
     "output_type": "stream",
     "text": [
      "\n",
      "Attaching package: ‘lubridate’\n",
      "\n",
      "The following object is masked from ‘package:base’:\n",
      "\n",
      "    date\n",
      "\n"
     ]
    },
    {
     "data": {},
     "metadata": {},
     "output_type": "display_data"
    },
    {
     "data": {
      "image/png": "[encoded data removed]",
      "text/plain": [
       "plot without title"
      ]
     },
     "metadata": {},
     "output_type": "display_data"
    }
   ],
   "source": [
    "library(lubridate)\n",
    "library(ggplot2)\n",
    "\n",
    "tmp <- twDf$created %>% month() %>% factor\n",
    "qplot(tmp, geom = 'bar')\n"
   ]
  },
  {
   "cell_type": "markdown",
   "metadata": {
    "collapsed": true,
    "slideshow": {
     "slide_type": "slide"
    }
   },
   "source": [
    "### Some simple data exploration\n",
    "\n",
    "- time of the day?\n"
   ]
  },
  {
   "cell_type": "code",
   "execution_count": 6,
   "metadata": {
    "scrolled": true
   },
   "outputs": [
    {
     "data": {},
     "metadata": {},
     "output_type": "display_data"
    },
    {
     "data": {
      "image/png": "[encoded data removed]",
      "text/plain": [
       "plot without title"
      ]
     },
     "metadata": {},
     "output_type": "display_data"
    }
   ],
   "source": [
    "library(lubridate)\n",
    "library(ggplot2)\n",
    "\n",
    "tmp <- twDf$created %>% hour() %>% factor\n",
    "qplot(tmp, geom = 'bar')\n"
   ]
  },
  {
   "cell_type": "markdown",
   "metadata": {
    "collapsed": true,
    "slideshow": {
     "slide_type": "slide"
    }
   },
   "source": [
    "## Get some user infomation using lookupUsers()\n",
    "\n",
    "1. extract screen_names from retweeted accounts (30 most retweeted)\n",
    "2. get the information of these accounts"
   ]
  },
  {
   "cell_type": "code",
   "execution_count": 7,
   "metadata": {},
   "outputs": [
    {
     "data": {
      "text/html": [
       "<ol class=list-inline>\n",
       "\t<li>'realDonaldTrump'</li>\n",
       "\t<li>'VP'</li>\n",
       "\t<li>'WhiteHouse'</li>\n",
       "\t<li>'Scavino45'</li>\n",
       "\t<li>'FLOTUS'</li>\n",
       "\t<li>'IvankaTrump'</li>\n",
       "\t<li>'PressSec'</li>\n",
       "\t<li>'SecShulkin'</li>\n",
       "\t<li>'SecretaryPerry'</li>\n",
       "\t<li>'USNavy'</li>\n",
       "\t<li>'GOPLeader'</li>\n",
       "\t<li>'GorsuchFacts'</li>\n",
       "\t<li>'FoxNews'</li>\n",
       "\t<li>'netanyahu'</li>\n",
       "\t<li>'SBALinda'</li>\n",
       "\t<li>'SecPriceMD'</li>\n",
       "\t<li>'SecondLady'</li>\n",
       "\t<li>'SHSanders45'</li>\n",
       "\t<li>'StateDept'</li>\n",
       "\t<li>'CENTCOM'</li>\n",
       "\t<li>'foxandfriends'</li>\n",
       "\t<li>'marcorubio'</li>\n",
       "\t<li>'SenateMajLdr'</li>\n",
       "\t<li>'TRUCKINGdotORG'</li>\n",
       "\t<li>'fema'</li>\n",
       "\t<li>'FLGovScott'</li>\n",
       "\t<li>'NASA'</li>\n",
       "\t<li>'ricardorossello'</li>\n",
       "\t<li>'SecretaryAcosta'</li>\n",
       "\t<li>'TomBossert45'</li>\n",
       "</ol>\n"
      ],
      "text/latex": [
       "\\begin{enumerate*}\n",
       "\\item 'realDonaldTrump'\n",
       "\\item 'VP'\n",
       "\\item 'WhiteHouse'\n",
       "\\item 'Scavino45'\n",
       "\\item 'FLOTUS'\n",
       "\\item 'IvankaTrump'\n",
       "\\item 'PressSec'\n",
       "\\item 'SecShulkin'\n",
       "\\item 'SecretaryPerry'\n",
       "\\item 'USNavy'\n",
       "\\item 'GOPLeader'\n",
       "\\item 'GorsuchFacts'\n",
       "\\item 'FoxNews'\n",
       "\\item 'netanyahu'\n",
       "\\item 'SBALinda'\n",
       "\\item 'SecPriceMD'\n",
       "\\item 'SecondLady'\n",
       "\\item 'SHSanders45'\n",
       "\\item 'StateDept'\n",
       "\\item 'CENTCOM'\n",
       "\\item 'foxandfriends'\n",
       "\\item 'marcorubio'\n",
       "\\item 'SenateMajLdr'\n",
       "\\item 'TRUCKINGdotORG'\n",
       "\\item 'fema'\n",
       "\\item 'FLGovScott'\n",
       "\\item 'NASA'\n",
       "\\item 'ricardorossello'\n",
       "\\item 'SecretaryAcosta'\n",
       "\\item 'TomBossert45'\n",
       "\\end{enumerate*}\n"
      ],
      "text/markdown": [
       "1. 'realDonaldTrump'\n",
       "2. 'VP'\n",
       "3. 'WhiteHouse'\n",
       "4. 'Scavino45'\n",
       "5. 'FLOTUS'\n",
       "6. 'IvankaTrump'\n",
       "7. 'PressSec'\n",
       "8. 'SecShulkin'\n",
       "9. 'SecretaryPerry'\n",
       "10. 'USNavy'\n",
       "11. 'GOPLeader'\n",
       "12. 'GorsuchFacts'\n",
       "13. 'FoxNews'\n",
       "14. 'netanyahu'\n",
       "15. 'SBALinda'\n",
       "16. 'SecPriceMD'\n",
       "17. 'SecondLady'\n",
       "18. 'SHSanders45'\n",
       "19. 'StateDept'\n",
       "20. 'CENTCOM'\n",
       "21. 'foxandfriends'\n",
       "22. 'marcorubio'\n",
       "23. 'SenateMajLdr'\n",
       "24. 'TRUCKINGdotORG'\n",
       "25. 'fema'\n",
       "26. 'FLGovScott'\n",
       "27. 'NASA'\n",
       "28. 'ricardorossello'\n",
       "29. 'SecretaryAcosta'\n",
       "30. 'TomBossert45'\n",
       "\n",
       "\n"
      ],
      "text/plain": [
       " [1] \"realDonaldTrump\" \"VP\"              \"WhiteHouse\"      \"Scavino45\"      \n",
       " [5] \"FLOTUS\"          \"IvankaTrump\"     \"PressSec\"        \"SecShulkin\"     \n",
       " [9] \"SecretaryPerry\"  \"USNavy\"          \"GOPLeader\"       \"GorsuchFacts\"   \n",
       "[13] \"FoxNews\"         \"netanyahu\"       \"SBALinda\"        \"SecPriceMD\"     \n",
       "[17] \"SecondLady\"      \"SHSanders45\"     \"StateDept\"       \"CENTCOM\"        \n",
       "[21] \"foxandfriends\"   \"marcorubio\"      \"SenateMajLdr\"    \"TRUCKINGdotORG\" \n",
       "[25] \"fema\"            \"FLGovScott\"      \"NASA\"            \"ricardorossello\"\n",
       "[29] \"SecretaryAcosta\" \"TomBossert45\"   "
      ]
     },
     "metadata": {},
     "output_type": "display_data"
    }
   ],
   "source": [
    "rt_user_screen_names <- str_replace(texts, \"\\\\n\", \" \") %>% \n",
    "   str_replace(\"^RT\\\\s*@([[:alnum:]]+).+\", \"\\\\1\") %>% \n",
    "   table %>% sort(decreasing = T) %>% head(30) %>% names\n",
    "rt_user_screen_names\n",
    "## FoxNews and foxandfriends are there..."
   ]
  },
  {
   "cell_type": "markdown",
   "metadata": {
    "collapsed": true,
    "slideshow": {
     "slide_type": "slide"
    }
   },
   "source": [
    "## Get some user infomation using lookupUsers()\n",
    "\n",
    "1. extract screen_names from retweeted accounts (30 most retweeted)\n",
    "2. get the information of these accounts"
   ]
  },
  {
   "cell_type": "code",
   "execution_count": 8,
   "metadata": {
    "collapsed": true
   },
   "outputs": [],
   "source": [
    "library(stringi)\n",
    "rt_user_information <- \n",
    "   lookupUsers(rt_user_screen_names) %>% twListToDF\n",
    "rt_user_information <- rt_user_information %>% \n",
    "   mutate(description = stri_trans_general(description, \"latin-ascii\"))\n"
   ]
  },
  {
   "cell_type": "markdown",
   "metadata": {
    "collapsed": true,
    "slideshow": {
     "slide_type": "slide"
    }
   },
   "source": [
    "## Check data\n",
    "\n",
    "- Who has most followers?"
   ]
  },
  {
   "cell_type": "code",
   "execution_count": 9,
   "metadata": {},
   "outputs": [
    {
     "data": {
      "text/html": [
       "<table>\n",
       "<thead><tr><th scope=col>screenName</th><th scope=col>followersCount</th></tr></thead>\n",
       "<tbody>\n",
       "\t<tr><td>realDonaldTrump</td><td>40996784       </td></tr>\n",
       "\t<tr><td>NASA           </td><td>26712586       </td></tr>\n",
       "\t<tr><td>FoxNews        </td><td>16220441       </td></tr>\n",
       "\t<tr><td>WhiteHouse     </td><td>15715928       </td></tr>\n",
       "\t<tr><td>FLOTUS         </td><td> 8736466       </td></tr>\n",
       "\t<tr><td>StateDept      </td><td> 4780381       </td></tr>\n",
       "\t<tr><td>IvankaTrump    </td><td> 4726903       </td></tr>\n",
       "\t<tr><td>VP             </td><td> 4720429       </td></tr>\n",
       "\t<tr><td>marcorubio     </td><td> 3151582       </td></tr>\n",
       "\t<tr><td>PressSec       </td><td> 2230210       </td></tr>\n",
       "\t<tr><td>netanyahu      </td><td> 1157393       </td></tr>\n",
       "\t<tr><td>foxandfriends  </td><td> 1055251       </td></tr>\n",
       "\t<tr><td>USNavy         </td><td>  965902       </td></tr>\n",
       "\t<tr><td>fema           </td><td>  696856       </td></tr>\n",
       "\t<tr><td>SenateMajLdr   </td><td>  322124       </td></tr>\n",
       "\t<tr><td>CENTCOM        </td><td>  286262       </td></tr>\n",
       "\t<tr><td>SecondLady     </td><td>  269889       </td></tr>\n",
       "\t<tr><td>Scavino45      </td><td>  177056       </td></tr>\n",
       "\t<tr><td>FLGovScott     </td><td>  171985       </td></tr>\n",
       "\t<tr><td>ricardorossello</td><td>  134686       </td></tr>\n",
       "\t<tr><td>GOPLeader      </td><td>  122762       </td></tr>\n",
       "\t<tr><td>SHSanders45    </td><td>  117992       </td></tr>\n",
       "\t<tr><td>SecPriceMD     </td><td>   51446       </td></tr>\n",
       "\t<tr><td>SecretaryPerry </td><td>   47279       </td></tr>\n",
       "\t<tr><td>SecShulkin     </td><td>   42072       </td></tr>\n",
       "\t<tr><td>GorsuchFacts   </td><td>   38099       </td></tr>\n",
       "\t<tr><td>TRUCKINGdotORG </td><td>   33850       </td></tr>\n",
       "\t<tr><td>SBALinda       </td><td>   14008       </td></tr>\n",
       "\t<tr><td>SecretaryAcosta</td><td>    7681       </td></tr>\n",
       "\t<tr><td>TomBossert45   </td><td>    7115       </td></tr>\n",
       "</tbody>\n",
       "</table>\n"
      ],
      "text/latex": [
       "\\begin{tabular}{r|ll}\n",
       " screenName & followersCount\\\\\n",
       "\\hline\n",
       "\t realDonaldTrump & 40996784       \\\\\n",
       "\t NASA            & 26712586       \\\\\n",
       "\t FoxNews         & 16220441       \\\\\n",
       "\t WhiteHouse      & 15715928       \\\\\n",
       "\t FLOTUS          &  8736466       \\\\\n",
       "\t StateDept       &  4780381       \\\\\n",
       "\t IvankaTrump     &  4726903       \\\\\n",
       "\t VP              &  4720429       \\\\\n",
       "\t marcorubio      &  3151582       \\\\\n",
       "\t PressSec        &  2230210       \\\\\n",
       "\t netanyahu       &  1157393       \\\\\n",
       "\t foxandfriends   &  1055251       \\\\\n",
       "\t USNavy          &   965902       \\\\\n",
       "\t fema            &   696856       \\\\\n",
       "\t SenateMajLdr    &   322124       \\\\\n",
       "\t CENTCOM         &   286262       \\\\\n",
       "\t SecondLady      &   269889       \\\\\n",
       "\t Scavino45       &   177056       \\\\\n",
       "\t FLGovScott      &   171985       \\\\\n",
       "\t ricardorossello &   134686       \\\\\n",
       "\t GOPLeader       &   122762       \\\\\n",
       "\t SHSanders45     &   117992       \\\\\n",
       "\t SecPriceMD      &    51446       \\\\\n",
       "\t SecretaryPerry  &    47279       \\\\\n",
       "\t SecShulkin      &    42072       \\\\\n",
       "\t GorsuchFacts    &    38099       \\\\\n",
       "\t TRUCKINGdotORG  &    33850       \\\\\n",
       "\t SBALinda        &    14008       \\\\\n",
       "\t SecretaryAcosta &     7681       \\\\\n",
       "\t TomBossert45    &     7115       \\\\\n",
       "\\end{tabular}\n"
      ],
      "text/markdown": [
       "\n",
       "screenName | followersCount | \n",
       "|---|---|---|---|---|---|---|---|---|---|---|---|---|---|---|---|---|---|---|---|---|---|---|---|---|---|---|---|---|---|\n",
       "| realDonaldTrump | 40996784        | \n",
       "| NASA            | 26712586        | \n",
       "| FoxNews         | 16220441        | \n",
       "| WhiteHouse      | 15715928        | \n",
       "| FLOTUS          |  8736466        | \n",
       "| StateDept       |  4780381        | \n",
       "| IvankaTrump     |  4726903        | \n",
       "| VP              |  4720429        | \n",
       "| marcorubio      |  3151582        | \n",
       "| PressSec        |  2230210        | \n",
       "| netanyahu       |  1157393        | \n",
       "| foxandfriends   |  1055251        | \n",
       "| USNavy          |   965902        | \n",
       "| fema            |   696856        | \n",
       "| SenateMajLdr    |   322124        | \n",
       "| CENTCOM         |   286262        | \n",
       "| SecondLady      |   269889        | \n",
       "| Scavino45       |   177056        | \n",
       "| FLGovScott      |   171985        | \n",
       "| ricardorossello |   134686        | \n",
       "| GOPLeader       |   122762        | \n",
       "| SHSanders45     |   117992        | \n",
       "| SecPriceMD      |    51446        | \n",
       "| SecretaryPerry  |    47279        | \n",
       "| SecShulkin      |    42072        | \n",
       "| GorsuchFacts    |    38099        | \n",
       "| TRUCKINGdotORG  |    33850        | \n",
       "| SBALinda        |    14008        | \n",
       "| SecretaryAcosta |     7681        | \n",
       "| TomBossert45    |     7115        | \n",
       "\n",
       "\n"
      ],
      "text/plain": [
       "   screenName      followersCount\n",
       "1  realDonaldTrump 40996784      \n",
       "2  NASA            26712586      \n",
       "3  FoxNews         16220441      \n",
       "4  WhiteHouse      15715928      \n",
       "5  FLOTUS           8736466      \n",
       "6  StateDept        4780381      \n",
       "7  IvankaTrump      4726903      \n",
       "8  VP               4720429      \n",
       "9  marcorubio       3151582      \n",
       "10 PressSec         2230210      \n",
       "11 netanyahu        1157393      \n",
       "12 foxandfriends    1055251      \n",
       "13 USNavy            965902      \n",
       "14 fema              696856      \n",
       "15 SenateMajLdr      322124      \n",
       "16 CENTCOM           286262      \n",
       "17 SecondLady        269889      \n",
       "18 Scavino45         177056      \n",
       "19 FLGovScott        171985      \n",
       "20 ricardorossello   134686      \n",
       "21 GOPLeader         122762      \n",
       "22 SHSanders45       117992      \n",
       "23 SecPriceMD         51446      \n",
       "24 SecretaryPerry     47279      \n",
       "25 SecShulkin         42072      \n",
       "26 GorsuchFacts       38099      \n",
       "27 TRUCKINGdotORG     33850      \n",
       "28 SBALinda           14008      \n",
       "29 SecretaryAcosta     7681      \n",
       "30 TomBossert45        7115      "
      ]
     },
     "metadata": {},
     "output_type": "display_data"
    }
   ],
   "source": [
    "rt_user_information %>% select(c(\"screenName\", \"followersCount\")) %>%\n",
    "  arrange(desc(followersCount))\n"
   ]
  },
  {
   "cell_type": "markdown",
   "metadata": {
    "collapsed": true,
    "slideshow": {
     "slide_type": "slide"
    }
   },
   "source": [
    "## Check data\n",
    "\n",
    "- Who has most tweets?"
   ]
  },
  {
   "cell_type": "code",
   "execution_count": 10,
   "metadata": {},
   "outputs": [
    {
     "data": {
      "text/html": [
       "<table>\n",
       "<thead><tr><th scope=col>screenName</th><th scope=col>statusesCount</th></tr></thead>\n",
       "<tbody>\n",
       "\t<tr><td>FoxNews        </td><td>337630         </td></tr>\n",
       "\t<tr><td>foxandfriends  </td><td> 73905         </td></tr>\n",
       "\t<tr><td>StateDept      </td><td> 50373         </td></tr>\n",
       "\t<tr><td>NASA           </td><td> 49210         </td></tr>\n",
       "\t<tr><td>realDonaldTrump</td><td> 36172         </td></tr>\n",
       "\t<tr><td>ricardorossello</td><td> 34395         </td></tr>\n",
       "\t<tr><td>USNavy         </td><td> 23760         </td></tr>\n",
       "\t<tr><td>IvankaTrump    </td><td> 13646         </td></tr>\n",
       "\t<tr><td>fema           </td><td> 13555         </td></tr>\n",
       "\t<tr><td>CENTCOM        </td><td> 10088         </td></tr>\n",
       "\t<tr><td>FLGovScott     </td><td>  9453         </td></tr>\n",
       "\t<tr><td>GOPLeader      </td><td>  8870         </td></tr>\n",
       "\t<tr><td>marcorubio     </td><td>  7164         </td></tr>\n",
       "\t<tr><td>TRUCKINGdotORG </td><td>  5394         </td></tr>\n",
       "\t<tr><td>netanyahu      </td><td>  2944         </td></tr>\n",
       "\t<tr><td>VP             </td><td>  2625         </td></tr>\n",
       "\t<tr><td>SenateMajLdr   </td><td>  2313         </td></tr>\n",
       "\t<tr><td>WhiteHouse     </td><td>  2037         </td></tr>\n",
       "\t<tr><td>Scavino45      </td><td>  1838         </td></tr>\n",
       "\t<tr><td>PressSec       </td><td>  1341         </td></tr>\n",
       "\t<tr><td>SecretaryPerry </td><td>  1126         </td></tr>\n",
       "\t<tr><td>SecPriceMD     </td><td>   965         </td></tr>\n",
       "\t<tr><td>SecShulkin     </td><td>   835         </td></tr>\n",
       "\t<tr><td>SBALinda       </td><td>   818         </td></tr>\n",
       "\t<tr><td>SHSanders45    </td><td>   466         </td></tr>\n",
       "\t<tr><td>SecondLady     </td><td>   457         </td></tr>\n",
       "\t<tr><td>SecretaryAcosta</td><td>   282         </td></tr>\n",
       "\t<tr><td>FLOTUS         </td><td>   166         </td></tr>\n",
       "\t<tr><td>TomBossert45   </td><td>   157         </td></tr>\n",
       "\t<tr><td>GorsuchFacts   </td><td>   148         </td></tr>\n",
       "</tbody>\n",
       "</table>\n"
      ],
      "text/latex": [
       "\\begin{tabular}{r|ll}\n",
       " screenName & statusesCount\\\\\n",
       "\\hline\n",
       "\t FoxNews         & 337630         \\\\\n",
       "\t foxandfriends   &  73905         \\\\\n",
       "\t StateDept       &  50373         \\\\\n",
       "\t NASA            &  49210         \\\\\n",
       "\t realDonaldTrump &  36172         \\\\\n",
       "\t ricardorossello &  34395         \\\\\n",
       "\t USNavy          &  23760         \\\\\n",
       "\t IvankaTrump     &  13646         \\\\\n",
       "\t fema            &  13555         \\\\\n",
       "\t CENTCOM         &  10088         \\\\\n",
       "\t FLGovScott      &   9453         \\\\\n",
       "\t GOPLeader       &   8870         \\\\\n",
       "\t marcorubio      &   7164         \\\\\n",
       "\t TRUCKINGdotORG  &   5394         \\\\\n",
       "\t netanyahu       &   2944         \\\\\n",
       "\t VP              &   2625         \\\\\n",
       "\t SenateMajLdr    &   2313         \\\\\n",
       "\t WhiteHouse      &   2037         \\\\\n",
       "\t Scavino45       &   1838         \\\\\n",
       "\t PressSec        &   1341         \\\\\n",
       "\t SecretaryPerry  &   1126         \\\\\n",
       "\t SecPriceMD      &    965         \\\\\n",
       "\t SecShulkin      &    835         \\\\\n",
       "\t SBALinda        &    818         \\\\\n",
       "\t SHSanders45     &    466         \\\\\n",
       "\t SecondLady      &    457         \\\\\n",
       "\t SecretaryAcosta &    282         \\\\\n",
       "\t FLOTUS          &    166         \\\\\n",
       "\t TomBossert45    &    157         \\\\\n",
       "\t GorsuchFacts    &    148         \\\\\n",
       "\\end{tabular}\n"
      ],
      "text/markdown": [
       "\n",
       "screenName | statusesCount | \n",
       "|---|---|---|---|---|---|---|---|---|---|---|---|---|---|---|---|---|---|---|---|---|---|---|---|---|---|---|---|---|---|\n",
       "| FoxNews         | 337630          | \n",
       "| foxandfriends   |  73905          | \n",
       "| StateDept       |  50373          | \n",
       "| NASA            |  49210          | \n",
       "| realDonaldTrump |  36172          | \n",
       "| ricardorossello |  34395          | \n",
       "| USNavy          |  23760          | \n",
       "| IvankaTrump     |  13646          | \n",
       "| fema            |  13555          | \n",
       "| CENTCOM         |  10088          | \n",
       "| FLGovScott      |   9453          | \n",
       "| GOPLeader       |   8870          | \n",
       "| marcorubio      |   7164          | \n",
       "| TRUCKINGdotORG  |   5394          | \n",
       "| netanyahu       |   2944          | \n",
       "| VP              |   2625          | \n",
       "| SenateMajLdr    |   2313          | \n",
       "| WhiteHouse      |   2037          | \n",
       "| Scavino45       |   1838          | \n",
       "| PressSec        |   1341          | \n",
       "| SecretaryPerry  |   1126          | \n",
       "| SecPriceMD      |    965          | \n",
       "| SecShulkin      |    835          | \n",
       "| SBALinda        |    818          | \n",
       "| SHSanders45     |    466          | \n",
       "| SecondLady      |    457          | \n",
       "| SecretaryAcosta |    282          | \n",
       "| FLOTUS          |    166          | \n",
       "| TomBossert45    |    157          | \n",
       "| GorsuchFacts    |    148          | \n",
       "\n",
       "\n"
      ],
      "text/plain": [
       "   screenName      statusesCount\n",
       "1  FoxNews         337630       \n",
       "2  foxandfriends    73905       \n",
       "3  StateDept        50373       \n",
       "4  NASA             49210       \n",
       "5  realDonaldTrump  36172       \n",
       "6  ricardorossello  34395       \n",
       "7  USNavy           23760       \n",
       "8  IvankaTrump      13646       \n",
       "9  fema             13555       \n",
       "10 CENTCOM          10088       \n",
       "11 FLGovScott        9453       \n",
       "12 GOPLeader         8870       \n",
       "13 marcorubio        7164       \n",
       "14 TRUCKINGdotORG    5394       \n",
       "15 netanyahu         2944       \n",
       "16 VP                2625       \n",
       "17 SenateMajLdr      2313       \n",
       "18 WhiteHouse        2037       \n",
       "19 Scavino45         1838       \n",
       "20 PressSec          1341       \n",
       "21 SecretaryPerry    1126       \n",
       "22 SecPriceMD         965       \n",
       "23 SecShulkin         835       \n",
       "24 SBALinda           818       \n",
       "25 SHSanders45        466       \n",
       "26 SecondLady         457       \n",
       "27 SecretaryAcosta    282       \n",
       "28 FLOTUS             166       \n",
       "29 TomBossert45       157       \n",
       "30 GorsuchFacts       148       "
      ]
     },
     "metadata": {},
     "output_type": "display_data"
    }
   ],
   "source": [
    "rt_user_information %>% select(c(\"screenName\", \"statusesCount\")) %>%\n",
    "  arrange(desc(statusesCount))\n"
   ]
  }
 ],
 "metadata": {
  "celltoolbar": "Slideshow",
  "kernelspec": {
   "display_name": "R",
   "language": "R",
   "name": "ir"
  },
  "language_info": {
   "codemirror_mode": "r",
   "file_extension": ".r",
   "mimetype": "text/x-r-source",
   "name": "R",
   "pygments_lexer": "r",
   "version": "3.4.2"
  }
 },
 "nbformat": 4,
 "nbformat_minor": 2
}
