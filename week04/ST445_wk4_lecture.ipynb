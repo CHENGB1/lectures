{
 "cells": [
  {
   "cell_type": "markdown",
   "metadata": {
    "slideshow": {
     "slide_type": "slide"
    }
   },
   "source": [
    "### ST445 Managing and Visualizing Data\n",
    "#  Using data from the Internet\n",
    "### Week 4 Lecture, MT 2017 - Kenneth Benoit, Dr. Akitaka Matsuo"
   ]
  },
  {
   "cell_type": "markdown",
   "metadata": {
    "slideshow": {
     "slide_type": "slide"
    }
   },
   "source": [
    "## Plan for today\n",
    "\n",
    "-  the basics of TCP/IP and how the internet works\n",
    "   *  Network architecture\n",
    "   *  URLs/URIs\n",
    "   *  the client-server model\n",
    "-  HTML, XML, other data Markup languages\n",
    "-  Web scraping"
   ]
  },
  {
   "cell_type": "markdown",
   "metadata": {
    "slideshow": {
     "slide_type": "slide"
    }
   },
   "source": [
    "## Protocols and server requests\n",
    "\n",
    "*  Client requests a connection to a server\n",
    "*  This is done using a specific _protocol_"
   ]
  },
  {
   "cell_type": "markdown",
   "metadata": {
    "slideshow": {
     "slide_type": "slide"
    }
   },
   "source": [
    "*  Example: Email client sends a request to send a message using SMTP (Simple Mail Transfer Protocol)\n",
    "\n",
    "    [For Google:](https://support.google.com/a/answer/176600?hl=en)\n",
    "\n",
    "    ![Gmail SMTP](figs/gmail-smtp.png)"
   ]
  },
  {
   "cell_type": "markdown",
   "metadata": {
    "slideshow": {
     "slide_type": "slide"
    }
   },
   "source": [
    "## Network architecture\n",
    "\n",
    "| **Layer** | Examples |    \n",
    "|:----------------|:------|\n",
    "| **Application** | DNS, TFTP, TLS/SSL, FTP, HTTP, IMAP4, POP3, SIP, SMTP, SNMP, SSH, Telnet, RTP |\n",
    "| **Transport**   | [TCP](https://en.wikipedia.org/wiki/Transmission_Control_Protocol), [UDP](https://en.wikipedia.org/wiki/User_Datagram_Protocol) |\n",
    "| **Internet**    | IP (IPv4, IPv6), [ICMP](https://en.wikipedia.org/wiki/Internet_Control_Message_Protocol), [IGMP](https://en.wikipedia.org/wiki/Internet_Group_Management_Protocol) |\n",
    "| **Link**        | [ARP](https://en.wikipedia.org/wiki/Address_Resolution_Protocol) |\n"
   ]
  },
  {
   "cell_type": "markdown",
   "metadata": {
    "slideshow": {
     "slide_type": "slide"
    }
   },
   "source": [
    "## Link Layer\n",
    "\n",
    "*  Connects the computer to its local network, and moves data from server to server (in \"hops\")\n",
    "    - Example: your laptop's Wifi connection to a base station\n",
    "*  Needs to know how to _encode_ and _send_ data across the link\n",
    "*  Needs to manage multiple computers sending data at the same time\n",
    "*  Breaks data into _packets_ and sends each separately"
   ]
  },
  {
   "cell_type": "markdown",
   "metadata": {
    "slideshow": {
     "slide_type": "slide"
    }
   },
   "source": [
    "## Internet(work) Layer (IP)\n",
    "\n",
    "*  \"Routers\" are like traffic cops directing packet traffic toward their destinations, to get packets to the computers where they are aimed\n",
    "*   Routers will redirect packets to get as close as possible, and early steps are only approximate\n",
    "*   This is why the Internet is so robust, since there are many routes to the same destination "
   ]
  },
  {
   "cell_type": "markdown",
   "metadata": {
    "slideshow": {
     "slide_type": "slide"
    }
   },
   "source": [
    "*   Data is sent in _datagrams_, consisting of a _header_ and a _payload_\n",
    "    -  The IP **header** includes source IP address, destination IP address, and other metadata needed to route and deliver the datagram\n",
    "    -  The **payload** is the data that is transported\n",
    "    -  The method of nesting the data payload in a packet with a header is called **encapsulation**\n",
    "*   Examples:\n",
    "    - IPv4\n",
    "    - IPv6"
   ]
  },
  {
   "cell_type": "markdown",
   "metadata": {
    "slideshow": {
     "slide_type": "slide"
    }
   },
   "source": [
    "### IPv4\n",
    "\n",
    "![IPv4](figs/750px-Ipv4_address.png)"
   ]
  },
  {
   "cell_type": "markdown",
   "metadata": {
    "slideshow": {
     "slide_type": "slide"
    }
   },
   "source": [
    "### IPv6\n",
    "\n",
    "![IPv6](figs/760px-Ipv6_address_leading_zeros.png)"
   ]
  },
  {
   "cell_type": "markdown",
   "metadata": {
    "slideshow": {
     "slide_type": "slide"
    }
   },
   "source": [
    "## Transport Layer\n",
    "\n",
    "*  Describes how the destination computer can reconstruct the original data, even if packets were received out of order\n",
    "*  Allows for variable \"window sizes\" describing the amount of data that source computer will spend waiting for acknowledgement, before sending more data\n",
    "*  This allows for the same transport protocol across both fast and slow network connections\n"
   ]
  },
  {
   "cell_type": "markdown",
   "metadata": {
    "slideshow": {
     "slide_type": "slide"
    }
   },
   "source": [
    "## Application Layer\n",
    "\n",
    "*  This is where the **client-server model** comes in: applications are split between a (destination) server computer and a (source) client computer\n",
    "*  These require an \"application protocol\", such as http, ftp, smtp, etc.\n"
   ]
  },
  {
   "cell_type": "markdown",
   "metadata": {
    "slideshow": {
     "slide_type": "slide"
    }
   },
   "source": [
    "## Client-server model\n",
    "\n",
    "*  Client: user computer; tablet; phone; software application; etc.\n",
    "*  Server: Jupyter server on Fabian; mail server; file server; web server; etc.\n",
    "\n",
    "![Client-server model](figs/Client-server-mode.png)"
   ]
  },
  {
   "cell_type": "markdown",
   "metadata": {
    "slideshow": {
     "slide_type": "slide"
    }
   },
   "source": [
    "## Network architecture (revisited)\n",
    "\n",
    "| **Layer** | Examples |    \n",
    "|:----------------|:------|\n",
    "| **Application** | DNS, TFTP, TLS/SSL, FTP, HTTP, IMAP4, POP3, SIP, SMTP, SNMP, SSH, Telnet, RTP |\n",
    "| **Transport**   | [TCP](https://en.wikipedia.org/wiki/Transmission_Control_Protocol), [UDP](https://en.wikipedia.org/wiki/User_Datagram_Protocol) |\n",
    "| **Internet**    | IP (IPv4, IPv6), [ICMP](https://en.wikipedia.org/wiki/Internet_Control_Message_Protocol), [IGMP](https://en.wikipedia.org/wiki/Internet_Group_Management_Protocol) |\n",
    "| **Link**        | [ARP](https://en.wikipedia.org/wiki/Address_Resolution_Protocol) |\n"
   ]
  },
  {
   "cell_type": "markdown",
   "metadata": {
    "slideshow": {
     "slide_type": "slide"
    }
   },
   "source": [
    "## Uniform Resource Locators (URLs)\n",
    "\n",
    "*  A reference to a web resource, used by the application layer\n",
    "*  Syntax:\n",
    "\n",
    "    ```\n",
    "    scheme:[//[user[:password]@]host[:port]][/path][?query][#fragment]\n",
    "    ```\n",
    "    \n",
    "*  Examples:\n",
    "    ```\n",
    "    http://localhost:8888/notebooks/GitHub/lse-st445/lectures/week04/ST445_wk4_lecture.ipynb\n",
    "    https://en.wikipedia.org/wiki/URL\n",
    "    ftp://example.myftpserver.com/files/myfiles\n",
    "    ```  "
   ]
  },
  {
   "cell_type": "markdown",
   "metadata": {
    "slideshow": {
     "slide_type": "slide"
    }
   },
   "source": [
    "### Internationalized URLs: What about `http://例子.卷筒纸` ??\n",
    "\n",
    "* Solution: Internationalized Resource Identifier (IRI), a form of URL that includes Unicode characters\n",
    "    - Automatic converson of the domain name into [punycode](https://en.wikipedia.org/wiki/Punycode) usable by the [Domain Name System](https://en.wikipedia.org/wiki/Domain_Name_System)\n",
    "    - any characters not part of the basic URL character set are escaped as hexadecimal using [percent-encoding](https://en.wikipedia.org/wiki/Percent-encoding)\n",
    "* Examples:\n",
    "     \n",
    "    - `http://例子.卷筒纸 `becomes `http://xn--fsqu00a.xn--3lr804guic/`\n",
    "    - `http://example.com/引き割り.html` becomes `http://example.com/%E5%BC%95%E3%81%8D%E5%89%B2%E3%82%8A.html`  "
   ]
  },
  {
   "cell_type": "markdown",
   "metadata": {
    "slideshow": {
     "slide_type": "slide"
    }
   },
   "source": [
    "## HTML\n",
    "\n",
    "- HTML = Hyper Text Markup Language\n",
    "- HTML is the standard markup language to create webpages\n",
    "- HTML consists of a various kind of tags\n",
    "    - `html`\n",
    "    - `head` and `body`\n",
    "    - `h1`, `h2`, `h3`...\n",
    "    - `p` (paragraph)\n",
    "    - `a` link tag (e.g. hyperlink in the text)\n",
    "    - `img`"
   ]
  },
  {
   "cell_type": "markdown",
   "metadata": {
    "slideshow": {
     "slide_type": "slide"
    }
   },
   "source": [
    "- tags opens with `<tagname>` and closes with `</tagname>`\n",
    "- tags have attributes such as: \n",
    "    - `id`\n",
    "    - `class`\n",
    "    - `href`"
   ]
  },
  {
   "cell_type": "markdown",
   "metadata": {
    "slideshow": {
     "slide_type": "slide"
    }
   },
   "source": [
    "## HTML\n",
    "\n",
    "### A simplest html file\n",
    "\n",
    "https://www.w3schools.com/html/tryit.asp?filename=tryhtml_intro\n",
    "\n",
    "```html\n",
    "<!DOCTYPE html>\n",
    "<html>\n",
    "<head>\n",
    "<title>Page Title</title>\n",
    "</head>\n",
    "<body>\n",
    "\n",
    "<h1>My First Heading</h1>\n",
    "<p>My first paragraph.</p>\n",
    "\n",
    "</body>\n",
    "</html>\n",
    "\n",
    "```\n"
   ]
  },
  {
   "cell_type": "markdown",
   "metadata": {
    "slideshow": {
     "slide_type": "slide"
    }
   },
   "source": [
    "## HTML\n",
    "\n",
    "### Another simple html file\n",
    "\n",
    "\n",
    "```html\n",
    "<!DOCTYPE html>\n",
    "<html>\n",
    "<head>\n",
    "<title>My Title</title>\n",
    "</head>\n",
    "<body>\n",
    "\n",
    "<h1>My Header</h1>\n",
    "<a href=\"http://kenbenoit.net\">My link</a>\n",
    "\n",
    "</body>\n",
    "</html>\n",
    "\n",
    "```\n"
   ]
  },
  {
   "cell_type": "markdown",
   "metadata": {
    "slideshow": {
     "slide_type": "slide"
    }
   },
   "source": [
    "## HTML\n",
    "\n",
    "### The HTML in the previous page can be presented in a tree like this:\n",
    "![html tree](figs/pic_htmltree.gif)\n",
    "\n"
   ]
  },
  {
   "cell_type": "markdown",
   "metadata": {
    "slideshow": {
     "slide_type": "slide"
    }
   },
   "source": [
    "## HTML\n",
    "\n",
    "- HTML displays mostly presents **static** contents. \n",
    "- Many contents of dynamic webpages cannot be found anywhere in html\n",
    "    - Example: google maps\n",
    "- Understanding what's static and what's dynamic in a webpage is a crucial first step for web scraping"
   ]
  },
  {
   "cell_type": "markdown",
   "metadata": {
    "slideshow": {
     "slide_type": "slide"
    }
   },
   "source": [
    "## Other data formats: XML\n",
    "\n",
    "- XML = eXtensible Markup Language\n",
    "- XML is used for distributing data over the Internet.\n",
    "    - Examples: \n",
    "        - RSS (web feeds):\n",
    "            http://onlinelibrary.wiley.com/rss/journal/10.1111/(ISSN)1540-5907\n",
    "        - SVG (graphic):\n",
    "            https://upload.wikimedia.org/wikipedia/commons/b/be/BlankMap-LondonBoroughs.svg            \n",
    "        - epub (books)\n",
    "        - Office documents (OpenOffice, MS)\n",
    "- XML looks a lot like HTML, but more frexible (e.g. basically no preset definitions of tags)."
   ]
  },
  {
   "cell_type": "markdown",
   "metadata": {
    "slideshow": {
     "slide_type": "slide"
    }
   },
   "source": [
    "## XML, Example 1 (no schema)\n",
    "\n",
    "```xml\n",
    "<?xml version=\"1.0\" encoding=\"UTF-8\"?>\n",
    "<notes>\n",
    "<note>\n",
    "  <to>Tove</to>\n",
    "  <from>Jani</from>\n",
    "  <heading>Reminder</heading>\n",
    "  <body>Don't forget me this weekend!</body>\n",
    "</note>\n",
    "<note>\n",
    "  <to>Jason</to>\n",
    "  <from>Kelly</from>\n",
    "  <heading>Offer</heading>\n",
    "  <body>You won 10M. Contact us immediately.</body>\n",
    "</note>\n",
    "</notes>\n",
    "```\n",
    "\n",
    "- This file contains two notes, seems to have common strcuture for notes but you never know!\n"
   ]
  },
  {
   "cell_type": "markdown",
   "metadata": {
    "slideshow": {
     "slide_type": "slide"
    }
   },
   "source": [
    "## XML, Example 2 (with DTD)\n",
    "\n",
    "```xml\n",
    "<?xml version=\"1.0\"?>\n",
    "<!DOCTYPE note [\n",
    "<!ELEMENT note (to,from,heading,body)>\n",
    "<!ELEMENT to (#PCDATA)>\n",
    "<!ELEMENT from (#PCDATA)>\n",
    "<!ELEMENT heading (#PCDATA)>\n",
    "<!ELEMENT body (#PCDATA)>\n",
    "]>\n",
    "<note>\n",
    "    <to>Tove</to>\n",
    "    <from>Jani</from>\n",
    "    <heading>Reminder</heading>\n",
    "    <body>Don't forget me this weekend</body>\n",
    "</note>\n",
    "```\n",
    "\n",
    "- This XML has a DTD (Document Type Definition)\n",
    "- DTD is one of the XML schematic languages, that are used as a validator of data input"
   ]
  },
  {
   "cell_type": "markdown",
   "metadata": {
    "slideshow": {
     "slide_type": "slide"
    }
   },
   "source": [
    "## Other data formats: JSON\n",
    "\n",
    "- JSON = **J**ava**S**cript **O**bject **N**otation\n",
    "- Another format for data exchange in the net\n",
    "- Lightweight, easy to read, less formatted\n",
    "- Written with JavaScript object notation, but independent from any language\n",
    "- Used in many APIs including (See [here](https://www.sitepoint.com/10-example-json-files/)):\n",
    "    - Twitter\n",
    "    - Facebook\n",
    "    - YouTube"
   ]
  },
  {
   "cell_type": "markdown",
   "metadata": {
    "slideshow": {
     "slide_type": "slide"
    }
   },
   "source": [
    "## JSON Example \n",
    "\n",
    "```json\n",
    "{\n",
    "\t\"note\" : {\n",
    "\t\t\"to\" : \"Tove\",\n",
    "\t\t\"from\" : \"Jani\",\n",
    "\t\t\"heading\" : \"Reminder\",\n",
    "\t\t\"body\" : \"Don't forget me this weekend!\"\n",
    "\t},\n",
    "\t\"note\" : {\n",
    "\t\t\"to\" : \"Jason\",\n",
    "\t\t\"from\" : \"Kelly\",\n",
    "\t\t\"heading\" : \"Offer\",\n",
    "\t\t\"body\" : \"You won 10M. Contact us immediately.\"\n",
    "\t}\n",
    "}\n",
    "```"
   ]
  },
  {
   "cell_type": "markdown",
   "metadata": {
    "slideshow": {
     "slide_type": "slide"
    }
   },
   "source": [
    "## Web scraping \n",
    "\n",
    "#### What is it?\n",
    "\"Web scraping (web harvesting or web data extraction) is data scraping used for extracting data from websites\" [Wikipedia: Web Scraping](https://en.wikipedia.org/wiki/Web_scraping)\n",
    "\n",
    "\n",
    "![Web Scraping](figs/Scrapp.jpg)\n",
    "\n",
    "\n",
    "\n",
    "\n"
   ]
  },
  {
   "cell_type": "markdown",
   "metadata": {
    "slideshow": {
     "slide_type": "slide"
    }
   },
   "source": [
    "## Web-scraping steps\n",
    "1. Get contents from the web\n",
    "2. Extract information\n",
    "3. Reshape and save the information as data"
   ]
  },
  {
   "cell_type": "markdown",
   "metadata": {
    "slideshow": {
     "slide_type": "slide"
    }
   },
   "source": [
    "## Get contents from the web\n",
    "\n",
    "- First of all you need to know where is the information \n",
    "- Examples:\n",
    "    - Government's administrative data\n",
    "    - Newspaper websites\n",
    "- The data format\n",
    "    - web-pages (in html)\n",
    "    - data files in various format (csv, spss, stata)\n",
    "    - document files (MS-Word, pdf)\n",
    "    - API (e.g. JSON)\n",
    "    - pictures\n",
    "\n",
    "     \n"
   ]
  },
  {
   "cell_type": "markdown",
   "metadata": {
    "slideshow": {
     "slide_type": "slide"
    }
   },
   "source": [
    "## Get to know the target website\n",
    "\n",
    "1. Open the website, learn how it's structured\n",
    "2. \"View page source\" and \"Inspect\"\n",
    "    - [Example 0](http://www.r-datacollection.com/materials/ch-2-html/fortunes.html)\n",
    "    - [Example 1](http://www.r-datacollection.com/materials/ch-6-ajax/fortunes/fortunes1.html)\n",
    "    - [Example 2](http://www.r-datacollection.com/materials/ch-6-ajax/fortunes/fortunes2.html)\n",
    "    - [Example 3](http://www.r-datacollection.com/materials/ch-6-ajax/fortunes/fortunes3.html)\n",
    "\n",
    "These examples looks similar (especially Ex 0 and Ex 2) but the static contents are different, so what a normal scraper can see might be different.\n",
    "\n",
    "     \n"
   ]
  },
  {
   "cell_type": "markdown",
   "metadata": {
    "slideshow": {
     "slide_type": "slide"
    }
   },
   "source": [
    "## Get webpage contents\n",
    "\n",
    "- Suppose that I you know that what you want to get is in static contents of the webpage (i.e. something you can find in \"View page source\")\n",
    "- Then steps are \n",
    "    1. Get the page contents\n",
    "    2. Parse the contents\n",
    "    3. Extract and format the contents\n",
    "     \n"
   ]
  },
  {
   "cell_type": "markdown",
   "metadata": {
    "slideshow": {
     "slide_type": "slide"
    }
   },
   "source": [
    "## Get webpage contents in Python    \n"
   ]
  },
  {
   "cell_type": "code",
   "execution_count": 8,
   "metadata": {
    "slideshow": {
     "slide_type": "fragment"
    }
   },
   "outputs": [
    {
     "name": "stdout",
     "output_type": "stream",
     "text": [
      "b'<!DOCTYPE HTML PUBLIC \"-//IETF//DTD HTML//EN\">\\n<html> <head>\\n<title>Collected R wisdoms</title>\\n</head>\\n\\n<body>\\n<div id=\"R Inventor\" lang=\"english\" date=\"June/2003\">\\n  <h1>Robert Gentleman</h1>\\n  <p><i>\\'What we have is nice, but we need something very different\\'</i></p>\\n  <p><b>Source: </b>Statistical Computing 2003, Reisensburg</p>\\n</div>\\n\\n<div lang=\"english\" date=\"October/2011\">\\n  <h1>Rolf Turner</h1>\\n  <p><i>\\'R is wonderful, but it cannot work magic\\'</i> <br><emph>answering a request for automatic generation of \\'data from a known mean and 95% CI\\'</emph></p>\\n  <p><b>Source: </b><a href=\"https://stat.ethz.ch/mailman/listinfo/r-help\">R-help</a></p>\\n</div>\\n\\n<address><a href=\"http://www.rdatacollectionbook.com\"><i>The book homepage</i><a/></address>\\n\\n</body> </html>\\n'\n"
     ]
    }
   ],
   "source": [
    "from urllib.request import urlopen\n",
    "html = urlopen(\"http://www.r-datacollection.com/materials/ch-2-html/fortunes.html\") \n",
    "print(html.read())"
   ]
  },
  {
   "cell_type": "markdown",
   "metadata": {
    "slideshow": {
     "slide_type": "slide"
    }
   },
   "source": [
    "## Get webpage contents in R    \n",
    "\n",
    "```r\n",
    "url <- \"http://www.r-datacollection.com/materials/html/fortunes.html\"\n",
    "fortunes <- readLines(con = url)\n",
    "cat(fortunes)\n",
    "## <!DOCTYPE HTML PUBLIC \"-//IETF//DTD HTML//EN\"> <html> <head> <title>Collected R wisdoms</title> </head>  <body> <div id=\"R Inventor\" lang=\"english\" date=\"June/2003\">   <h1>Robert Gentleman</h1>   <p><i>'What we have is nice, but we need something very different'</i></p>   <p><b>Source: </b>Statistical Computing 2003, Reisensburg </div>  <div lang=english date=\"October/2011\">   <h1>Rolf Turner</h1>   <p><i>'R is wonderful, but it cannot work magic'</i> <br><emph>answering a request for automatic generation of 'data from a known mean and 95% CI'</emph></p>   <p><b>Source: </b><a href=\"https://stat.ethz.ch/mailman/listinfo/r-help\">R-help</a></p> </div>  <address><a href=\"www.r-datacollectionbook.com\"><i>The book homepage</i><a/></address>  </body> </html>\n",
    "```\n"
   ]
  },
  {
   "cell_type": "markdown",
   "metadata": {
    "slideshow": {
     "slide_type": "slide"
    }
   },
   "source": [
    "## HTML Parsing\n",
    "\n",
    "The next step is to parse the content of html \n",
    "### A very simple example"
   ]
  },
  {
   "cell_type": "code",
   "execution_count": 9,
   "metadata": {
    "slideshow": {
     "slide_type": "fragment"
    }
   },
   "outputs": [
    {
     "name": "stdout",
     "output_type": "stream",
     "text": [
      "Robert Gentleman\n",
      "Rolf Turner\n"
     ]
    }
   ],
   "source": [
    "from bs4 import BeautifulSoup\n",
    "\n",
    "html = urlopen(\"http://www.r-datacollection.com/materials/ch-2-html/fortunes.html\")\n",
    "bsObj = BeautifulSoup(html, \"html.parser\")\n",
    "nameList = bsObj.findAll(\"h1\") # this line extract \"h1\" tags\n",
    "for name in nameList: # this loop print out the content of \"h1\" tags\n",
    "    print(name.get_text())"
   ]
  },
  {
   "cell_type": "markdown",
   "metadata": {
    "slideshow": {
     "slide_type": "slide"
    }
   },
   "source": [
    "## XPath\n",
    "\n",
    "You may want to navigate through html structure to get a particular information. \n",
    "\n",
    "#### Example\n",
    "- Select in the text of `<i>`-tag inside `<p>`-tag \n",
    "- Select based on the class value (this can be achieved with BeautifulSoup, though)\n",
    "\n",
    "Use `etree` in `lxml`\n"
   ]
  },
  {
   "cell_type": "code",
   "execution_count": 3,
   "metadata": {
    "slideshow": {
     "slide_type": "slide"
    }
   },
   "outputs": [
    {
     "name": "stdout",
     "output_type": "stream",
     "text": [
      "Robert Gentleman\n",
      "Rolf Turner\n"
     ]
    }
   ],
   "source": [
    "from lxml import etree\n",
    "\n",
    "parser = etree.HTMLParser()\n",
    "tree = etree.parse(\"http://www.r-datacollection.com/materials/ch-2-html/fortunes.html\", parser) \n",
    "h1nodes = tree.xpath('.//div/h1') # find the h1 in div\n",
    "for nod in h1nodes:\n",
    "    print(nod.text)"
   ]
  },
  {
   "cell_type": "code",
   "execution_count": 4,
   "metadata": {
    "scrolled": true,
    "slideshow": {
     "slide_type": "fragment"
    }
   },
   "outputs": [
    {
     "name": "stdout",
     "output_type": "stream",
     "text": [
      "Rolf Turner\n"
     ]
    }
   ],
   "source": [
    "h1nodes_oct2011 = tree.xpath('.//div[@date=\"October/2011\"]/h1') # find the h1 in div with specific date value\n",
    "for nod in h1nodes_oct2011:\n",
    "    print(nod.text)"
   ]
  },
  {
   "cell_type": "markdown",
   "metadata": {
    "slideshow": {
     "slide_type": "slide"
    }
   },
   "source": [
    "## R web scraping toolbox\n",
    "\n",
    "-  Get contents\n",
    "    - `RCurl`\n",
    "    - `httr`\n",
    "-  Parse and extract information \n",
    "    - parsing and analyzing markup language:\n",
    "        - `XML`\n",
    "        - `XML2`\n",
    "    - content extraction with matching \n",
    "        - (base R)\n",
    "        - `stringr`\n",
    "        - `sgringi`\n"
   ]
  },
  {
   "cell_type": "markdown",
   "metadata": {
    "slideshow": {
     "slide_type": "slide"
    }
   },
   "source": [
    "## Python web scraping toolbox\n",
    "\n",
    "-  Get contents\n",
    "    - `urllib`\n",
    "    - `httplib`\n",
    "    - `requests`\n",
    "-  Parse and extract information \n",
    "    - parsing and analyzing markup language:\n",
    "        - `bs4` (`BeautifulSoup`)\n",
    "        - `lxml`\n",
    "    - content extraction with matching \n",
    "        - `re`\n"
   ]
  },
  {
   "cell_type": "markdown",
   "metadata": {
    "slideshow": {
     "slide_type": "slide"
    }
   },
   "source": [
    "## Selenium\n",
    "\n",
    "- Standard tools for web scraping (e.g. `httr` in R or `urllib` in Python) may not work in some occasions\n",
    "- Reasons:\n",
    "    - \"Some websites don’t like to be webscraped. In these cases you may need to disguise your webscraping bot as a human being. Selenium is just the tool for that.\" [webscraping with Selenium](http://thiagomarzagao.com/2013/11/12/webscraping-with-selenium-part-1/)\n",
    "    - The information is in non-static contents \n",
    "- Solution:\n",
    "    - Use `selenium` = an automated testing suite for web applications \n",
    "    - Manipulate actual web-browser (e.g. Chrome, Firefox) using selenium drivers\n",
    "    \n",
    "WIth selenium, you should be able to get whatever you can get with your browser (theoretically speaking...)\n"
   ]
  },
  {
   "cell_type": "markdown",
   "metadata": {
    "slideshow": {
     "slide_type": "slide"
    }
   },
   "source": [
    "## Caveats\n",
    "\n",
    "#### Web-scraping is not always (or never) welcomed by site-owners\n",
    "\n",
    "#### Why?\n",
    "- excessive traffic \n",
    "- influence on their revenues\n",
    "\n",
    "You can be warned, blocked, and even sued."
   ]
  },
  {
   "cell_type": "markdown",
   "metadata": {
    "slideshow": {
     "slide_type": "fragment"
    }
   },
   "source": [
    "#### So, what to do?\n",
    "\n",
    "1. Read TOC carefully \n",
    "2. Check `robot.txt` (c.f. http://www.robotstxt.org/)\n",
    "2. Get permission if possible \n",
    "3. Be nice \n",
    "    - place short breaks between fetching\n",
    "    - scrape during off-peak hours\n",
    "    - avoid scraping exessive materials"
   ]
  },
  {
   "cell_type": "markdown",
   "metadata": {
    "slideshow": {
     "slide_type": "slide"
    }
   },
   "source": [
    "## Further reading\n",
    "\n",
    "#### Python\n",
    "*  [Automate the Boring Stuff with Python](https://automatetheboringstuff.com/)\n",
    "*  [Web Scraping with Python](http://shop.oreilly.com/product/0636920034391.do)\n",
    "\n",
    "#### R\n",
    "*  [Automated Data Collection with R](http://www.r-datacollection.com/)\n"
   ]
  },
  {
   "cell_type": "markdown",
   "metadata": {
    "slideshow": {
     "slide_type": "slide"
    }
   },
   "source": [
    "## Coming soon\n",
    "\n",
    "* **Lab**: Simple web-scraping exercise\n",
    "* **Next week**: APIs, getting and analyzing Twitter data, working with text"
   ]
  }
 ],
 "metadata": {
  "celltoolbar": "Slideshow",
  "kernelspec": {
   "display_name": "Python 3",
   "language": "python",
   "name": "python3"
  },
  "language_info": {
   "codemirror_mode": {
    "name": "ipython",
    "version": 3
   },
   "file_extension": ".py",
   "mimetype": "text/x-python",
   "name": "python",
   "nbconvert_exporter": "python",
   "pygments_lexer": "ipython3",
   "version": "3.6.1"
  }
 },
 "nbformat": 4,
 "nbformat_minor": 2
}
