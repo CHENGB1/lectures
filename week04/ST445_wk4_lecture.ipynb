{
 "cells": [
  {
   "cell_type": "markdown",
   "metadata": {
    "slideshow": {
     "slide_type": "slide"
    }
   },
   "source": [
    "### ST445 Managing and Visualizing Data\n",
    "#  Using data from the Internet\n",
    "### Week 4 Lecture, MT 2017 - Kenneth Benoit, Akitaka Matsuo"
   ]
  },
  {
   "cell_type": "markdown",
   "metadata": {
    "slideshow": {
     "slide_type": "slide"
    }
   },
   "source": [
    "## Plan for today\n",
    "\n",
    "- \n",
    "- Web-scraping"
   ]
  },
  {
   "cell_type": "markdown",
   "metadata": {
    "slideshow": {
     "slide_type": "slide"
    }
   },
   "source": [
    "## Web scraping \n",
    "\n",
    "#### What is it?\n",
    "\"Web scraping (web harvesting or web data extraction) is data scraping used for extracting data from websites\" [Wikipedia: Web Scraping](https://en.wikipedia.org/wiki/Web_scraping)\n",
    "\n",
    "\n",
    "![Web Scraping](https://upload.wikimedia.org/wikipedia/commons/d/da/Scrapp.jpg)\n",
    "\n",
    "\n",
    "\n",
    "\n"
   ]
  },
  {
   "cell_type": "markdown",
   "metadata": {
    "slideshow": {
     "slide_type": "slide"
    }
   },
   "source": [
    "## Web-scraping steps\n",
    "1. Get contents from the web\n",
    "2. Extract information\n",
    "3. Reshape and save the information as data"
   ]
  },
  {
   "cell_type": "markdown",
   "metadata": {
    "slideshow": {
     "slide_type": "slide"
    }
   },
   "source": [
    "## Get contents from the web\n",
    "\n",
    "- First of all you need to know where is the information \n",
    "- Examples:\n",
    "    - Government's administrative data\n",
    "    - Newspaper websites\n",
    "- The data format\n",
    "    - web-pages (in html)\n",
    "    - data files in various format (csv, spss, stata)\n",
    "    - document files (MS-Word, pdf)\n",
    "    - API (e.g. JSON)\n",
    "    - pictures\n",
    "\n",
    "     \n"
   ]
  },
  {
   "cell_type": "markdown",
   "metadata": {
    "slideshow": {
     "slide_type": "slide"
    }
   },
   "source": [
    "## Get to know the target website\n",
    "\n",
    "1. Open the website, learn how it's structured\n",
    "2. \"View page source\" and \"Inspect\"\n",
    "\n",
    "\n",
    "     \n"
   ]
  },
  {
   "cell_type": "markdown",
   "metadata": {
    "slideshow": {
     "slide_type": "slide"
    }
   },
   "source": [
    "## Parse HTML\n",
    "\n",
    "- \n",
    "     \n"
   ]
  },
  {
   "cell_type": "markdown",
   "metadata": {
    "slideshow": {
     "slide_type": "slide"
    }
   },
   "source": [
    "## XPath\n",
    "\n",
    "- \n",
    "     \n"
   ]
  },
  {
   "cell_type": "markdown",
   "metadata": {
    "slideshow": {
     "slide_type": "slide"
    }
   },
   "source": [
    "## R web scraping toolbox\n",
    "\n",
    "-  get contents\n",
    "    - `RCurl`\n",
    "    - `httr`\n",
    "-  extract information \n",
    "    - parsing and analyzing markup language:\n",
    "        - `XML`\n",
    "        - `XML2`\n",
    "    - content extraction with matching \n",
    "        - (base R)\n",
    "        - `stringr`\n",
    "        - `sgringi`\n"
   ]
  },
  {
   "cell_type": "markdown",
   "metadata": {
    "slideshow": {
     "slide_type": "slide"
    }
   },
   "source": [
    "## Python web scraping toolbox\n",
    "\n",
    "-  get contents\n",
    "    - `urllib`\n",
    "    - `httplib`\n",
    "    - `requests`\n",
    "-  extract information \n",
    "    - parsing and analyzing markup language:\n",
    "        - `bs4` (`BeautifulSoup`)\n",
    "    - content extraction with matching \n",
    "        - `re`\n"
   ]
  },
  {
   "cell_type": "markdown",
   "metadata": {
    "slideshow": {
     "slide_type": "slide"
    }
   },
   "source": [
    "## Selenium\n",
    "\n",
    "- Standard tools for web scraping (e.g. `httr` in R or `urllib`  may not work\n",
    "- Reasons:\n",
    "    - \"Some websites don’t like to be webscraped. In these cases you may need to disguise your webscraping bot as a human being. Selenium is just the tool for that.\" [webscraping with Selenium](http://thiagomarzagao.com/2013/11/12/webscraping-with-selenium-part-1/)\n",
    "    - The information is in non-static contents \n",
    "        - [Example 1](http://www.r-datacollection.com/materials/ch-6-ajax/fortunes/fortunes1.html)\n",
    "        - [Example 2](http://www.r-datacollection.com/materials/ch-6-ajax/fortunes/fortunes2.html)\n",
    "        - [Example 3](http://www.r-datacollection.com/materials/ch-6-ajax/fortunes/fortunes3.html)\n",
    "- Solution:\n",
    "    - Use `selenium` = an automated testing suite for web applications \n",
    "    - Manipulate actual web-browser (e.g. Chrome, Firefox) using selenium drivers\n",
    "    \n",
    "WIth selenium, you should be able to get whatever you can get with your browser (theoretically speaking...)\n"
   ]
  },
  {
   "cell_type": "markdown",
   "metadata": {
    "slideshow": {
     "slide_type": "slide"
    }
   },
   "source": [
    "## Caveats\n",
    "\n",
    "#### Web-scraping is not always (or never) welcomed by site-owners\n",
    "\n",
    "#### Why?\n",
    "- excessive traffic \n",
    "- influence on their revenues\n",
    "\n",
    "You can be warned, blocked, and even sued. \n",
    "\n",
    "#### So, what to do?\n",
    "1. Read TOC carefully \n",
    "2. Check `robot.txt` (c.f. http://www.robotstxt.org/)\n",
    "2. Get permission if possible \n",
    "3. Be nice \n",
    "    - place short breaks between fetching\n",
    "    - scrape during off-peak hours\n",
    "    - avoid scraping exessive materials\n",
    "\n"
   ]
  },
  {
   "cell_type": "markdown",
   "metadata": {
    "slideshow": {
     "slide_type": "slide"
    }
   },
   "source": [
    "## Further reading\n",
    "\n",
    "#### Python\n",
    "*  [Automate the Boring Stuff with Python](https://automatetheboringstuff.com/)\n",
    "*  [Web Scraping with Python](http://shop.oreilly.com/product/0636920034391.do)\n",
    "\n",
    "#### R\n",
    "*  [Automated Data Collection with R](http://www.r-datacollection.com/)\n"
   ]
  },
  {
   "cell_type": "markdown",
   "metadata": {
    "slideshow": {
     "slide_type": "slide"
    }
   },
   "source": [
    "## Coming soon\n",
    "\n",
    "* **Lab**: Simple web-scraping exercise\n",
    "* **Next week**: API"
   ]
  }
 ],
 "metadata": {
  "celltoolbar": "Slideshow",
  "kernelspec": {
   "display_name": "Python 3",
   "language": "python",
   "name": "python3"
  },
  "language_info": {
   "codemirror_mode": {
    "name": "ipython",
    "version": 3
   },
   "file_extension": ".py",
   "mimetype": "text/x-python",
   "name": "python",
   "nbconvert_exporter": "python",
   "pygments_lexer": "ipython3",
   "version": "3.6.1"
  }
 },
 "nbformat": 4,
 "nbformat_minor": 2
}
