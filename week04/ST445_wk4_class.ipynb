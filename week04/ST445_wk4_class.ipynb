{
 "cells": [
  {
   "cell_type": "markdown",
   "metadata": {
    "slideshow": {
     "slide_type": "slide"
    }
   },
   "source": [
    "### ST445 Managing and Visualizing Data\n",
    "# Using data from the Internet (with R)\n",
    "### Week 4 Lab, MT 2017"
   ]
  },
  {
   "cell_type": "markdown",
   "metadata": {
    "collapsed": true,
    "slideshow": {
     "slide_type": "slide"
    }
   },
   "source": [
    "## Scrape a table from a webpage\n",
    "\n",
    "### Task: Scrape a list of UK Parliamentary Consituencies from Wikipedia\n",
    "\n",
    "### Steps\n",
    "\n",
    "1. Access to the url: https://en.wikipedia.org/wiki/List_of_United_Kingdom_Parliament_constituencies\n",
    "2. Parse the html (today we will use `xml2`)\n",
    "3. Find the tables (`xml_find_all`)\n",
    "    - how many tables in the page?\n",
    "    - how to select the appropriate table? (just seelct with the index number of the table or use XPath)\n",
    "4. Convert html tables to R data.frame (use `html_table` in `rvest`)\n",
    "5. Convert some of the columns from text to numeric\n",
    "    - change column names\n",
    "    - remove commas from the population columns, then convert it to numeric\n",
    "6. Save as csv\n",
    "    \n",
    "\n"
   ]
  },
  {
   "cell_type": "markdown",
   "metadata": {
    "collapsed": true,
    "slideshow": {
     "slide_type": "slide"
    }
   },
   "source": [
    "## Get and parse an HTML \n"
   ]
  },
  {
   "cell_type": "code",
   "execution_count": null,
   "metadata": {
    "collapsed": true
   },
   "outputs": [],
   "source": [
    "library(httr)\n",
    "library(xml2)\n",
    "library(dplyr)\n",
    "\n",
    "url <- 'https://en.wikipedia.org/wiki/List_of_United_Kingdom_Parliament_constituencies'\n",
    "\n",
    "# get the file\n",
    "\n",
    "# parse html\n",
    "\n",
    "\n"
   ]
  },
  {
   "cell_type": "markdown",
   "metadata": {
    "collapsed": true,
    "slideshow": {
     "slide_type": "slide"
    }
   },
   "source": [
    "## Find table tags\n"
   ]
  },
  {
   "cell_type": "code",
   "execution_count": null,
   "metadata": {
    "collapsed": true
   },
   "outputs": [],
   "source": [
    "tables <- xml_find_all(parsed_html, xpath = \"???\")\n",
    "\n",
    "# how many tables?\n",
    "\n",
    "# which one is the one you want to get?\n",
    "print(tables)\n",
    "\n",
    "# how to select them?\n",
    "\n",
    "\n"
   ]
  },
  {
   "cell_type": "markdown",
   "metadata": {
    "collapsed": true,
    "slideshow": {
     "slide_type": "slide"
    }
   },
   "source": [
    "## Convert html table to R data.frame\n"
   ]
  },
  {
   "cell_type": "code",
   "execution_count": null,
   "metadata": {
    "collapsed": true
   },
   "outputs": [],
   "source": [
    "library(rvest)\n",
    "constituency_data <- html_table(...)\n"
   ]
  },
  {
   "cell_type": "markdown",
   "metadata": {
    "collapsed": true,
    "slideshow": {
     "slide_type": "slide"
    }
   },
   "source": [
    "## Manipulate the data (change variable names and convert column types)\n"
   ]
  },
  {
   "cell_type": "code",
   "execution_count": null,
   "metadata": {
    "collapsed": true
   },
   "outputs": [],
   "source": [
    "# change variable names\n",
    "names(constituency_data) <- ??\n",
    "\n",
    "# convert column types\n",
    "constituency_data <- constituency_data %>%\n",
    "    mutate(...)\n",
    "\n"
   ]
  },
  {
   "cell_type": "markdown",
   "metadata": {
    "collapsed": true,
    "slideshow": {
     "slide_type": "slide"
    }
   },
   "source": [
    "## Save\n"
   ]
  },
  {
   "cell_type": "code",
   "execution_count": null,
   "metadata": {
    "collapsed": true
   },
   "outputs": [],
   "source": [
    "write.csv()"
   ]
  },
  {
   "cell_type": "markdown",
   "metadata": {
    "collapsed": true,
    "slideshow": {
     "slide_type": "slide"
    }
   },
   "source": [
    "## Download files from a website (if time allows...)\n",
    "\n",
    "### Task: Scrape Prof. Benoit's publication page\n",
    "\n",
    "1. Download some of the pdfs\n",
    "2. Generate a frequency table of the journals he published \n",
    "\n",
    "### Steps\n",
    "\n",
    "1. Access to the url: http://kenbenoit.net/cv/publications\n",
    "2. Parse the html \n",
    "1. Get pdfs\n",
    "    3. extracct all pdf links\n",
    "        - how can we select only pdf links? (use attribute selector in XPath)\n",
    "    4. download a few pdf files (use `download.file()` in utils)\n",
    "5. Generate a frequency table of the journals \n",
    "    1. identify the journal names in the html\n",
    "    2. extract texts\n",
    "    3. calculate frequency\n",
    "\n"
   ]
  },
  {
   "cell_type": "markdown",
   "metadata": {
    "collapsed": true,
    "slideshow": {
     "slide_type": "slide"
    }
   },
   "source": [
    "## Get and parse an HTML \n"
   ]
  },
  {
   "cell_type": "code",
   "execution_count": null,
   "metadata": {
    "collapsed": true
   },
   "outputs": [],
   "source": [
    "library(httr)\n",
    "library(xml2)\n",
    "library(dplyr)\n",
    "\n",
    "url <- 'http://kenbenoit.net/cv/publications'\n",
    "\n",
    "# get the file\n",
    "\n",
    "# parse html\n",
    "\n",
    "\n"
   ]
  },
  {
   "cell_type": "markdown",
   "metadata": {
    "collapsed": true,
    "slideshow": {
     "slide_type": "slide"
    }
   },
   "source": [
    "## Get pdf links and download some of the files"
   ]
  },
  {
   "cell_type": "code",
   "execution_count": null,
   "metadata": {
    "collapsed": true
   },
   "outputs": [],
   "source": [
    "a_tags <- xml_find_all(parsed_html, xpath = \"??\")\n",
    "pdf_links <- xml_attr(a_tags)\n",
    "\n",
    "for(pdf_link in pdf_links[1:3]){\n",
    "    ###\n",
    "}\n"
   ]
  },
  {
   "cell_type": "markdown",
   "metadata": {
    "collapsed": true,
    "slideshow": {
     "slide_type": "slide"
    }
   },
   "source": [
    "## Journal names and count"
   ]
  },
  {
   "cell_type": "code",
   "execution_count": null,
   "metadata": {
    "collapsed": true
   },
   "outputs": [],
   "source": [
    "journal_count <- xml_find_all(parsed_html, xpath = \"??\") %>% xml_text %>% table\n"
   ]
  }
 ],
 "metadata": {
  "celltoolbar": "Slideshow",
  "kernelspec": {
   "display_name": "R",
   "language": "R",
   "name": "ir"
  },
  "language_info": {
   "codemirror_mode": "r",
   "file_extension": ".r",
   "mimetype": "text/x-r-source",
   "name": "R",
   "pygments_lexer": "r",
   "version": "3.4.2"
  }
 },
 "nbformat": 4,
 "nbformat_minor": 2
}
