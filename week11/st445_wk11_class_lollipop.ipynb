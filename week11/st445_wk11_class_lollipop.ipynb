{
 "cells": [
  {
   "cell_type": "markdown",
   "metadata": {},
   "source": [
    "# ST445 Managing and Visualizing Data\n",
    "## Graph Visualization\n",
    "### Milan Vojnovic and Christine Yuen, MT 2017\n",
    "---\n",
    "\n",
    "\n",
    "## Lollipop\n",
    "\n",
    "In this notebook we demonstrate basic functionalities of networkX for creating, manipulating, and drawing graph data, using a simple _lollipop_ graph instance. \n",
    "\n",
    "## Create a simple graph \n",
    "\n",
    "Read through \"Nodes\", \"Edges\" and \"Drawing graphs\" sections in this [tutorial](tutorial_full.ipynb) and then try create this simple lollipop graph:\n",
    "\n",
    "![](lollipop.png)"
   ]
  },
  {
   "cell_type": "code",
   "execution_count": 3,
   "metadata": {
    "collapsed": true
   },
   "outputs": [],
   "source": [
    "import networkx as nx\n",
    "import matplotlib.pyplot as plt\n",
    "\n",
    "#Suppress Deprecation and Incorrect Usage Warnings \n",
    "import warnings \n",
    "warnings.filterwarnings('ignore')"
   ]
  },
  {
   "cell_type": "markdown",
   "metadata": {},
   "source": [
    "## Create and visualize a graph object"
   ]
  },
  {
   "cell_type": "code",
   "execution_count": 4,
   "metadata": {
    "collapsed": true
   },
   "outputs": [],
   "source": [
    "G = nx.Graph()\n",
    "G.add_edges_from([(1,2),(2,3),(3,4),(4,1),(1,5)])\n",
    "\n",
    "plt.subplots()\n",
    "\n",
    "nx.draw_spectral(G, with_labels=True)\n",
    "\n",
    "plt.show()"
   ]
  },
  {
   "cell_type": "markdown",
   "metadata": {},
   "source": [
    "## Set graph attributes"
   ]
  },
  {
   "cell_type": "markdown",
   "metadata": {},
   "source": [
    "### Change the color and width of edges\n",
    "\n",
    "Read through \"Edge attributes\" section in this [tutorial](tutorial_full.ipynb) to find how to set the edge attributes. Create the following lollipop graph by setting the corresponding edge attributes:\n",
    "\n",
    "![](lollipop_e.png)\n",
    "\n",
    "Hint: see [here](https://stackoverflow.com/questions/25639169/networkx-change-color-width-according-to-edge-attributes-inconsistent-result) to find out how to retrieve the attribute value of an edge and use it to set color of edges in the plot."
   ]
  },
  {
   "cell_type": "code",
   "execution_count": 5,
   "metadata": {
    "collapsed": true
   },
   "outputs": [],
   "source": [
    "G1 = G.copy()\n",
    "edges = G1.edges()\n",
    "\n",
    "# get the attributes (color and width) of edges\n",
    "for u,v in edges:\n",
    "    G1[u][v]['color'] = 'b'\n",
    "    G1[u][v]['width'] = 2\n",
    "\n",
    "G1[1][2]['color'] = 'r'\n",
    "G1[2][3]['width'] = 4\n",
    "\n",
    "# get the attribute information\n",
    "colors = [G1[u][v]['color'] for u,v in edges]\n",
    "widths = [G1[u][v]['width'] for u,v in edges]\n",
    "\n",
    "# draw the graph using the information collected above\n",
    "pos = nx.spectral_layout(G1)\n",
    "nx.draw(G1, pos=pos, edge_color=colors, width=widths, with_labels=True)\n",
    "plt.show()"
   ]
  },
  {
   "cell_type": "markdown",
   "metadata": {},
   "source": [
    "### Change the node color\n",
    "\n",
    "Read the \"Node attributes\" section in this [tutorial](tutorial_full.ipynb) to see how to set the node attributes. Create the following lollipop by setting the corresponding node attributes:\n",
    "\n",
    "![](lollipop_n.png)\n",
    "\n",
    "Hint: the way to get the node attribute information and set the color of nodes is very similar to how this can be done for edges."
   ]
  },
  {
   "cell_type": "code",
   "execution_count": 6,
   "metadata": {
    "collapsed": true
   },
   "outputs": [],
   "source": [
    "G2 = G.copy()\n",
    "nodes = G2.nodes()\n",
    "\n",
    "# set the color attribute for nodes\n",
    "for u in nodes:\n",
    "    G2.node[u]['color'] = 'b'\n",
    "    \n",
    "G2.node[1]['color'] = 'g'\n",
    "\n",
    "# get the color information\n",
    "n_colors = [G2.node[u]['color'] for u in nodes]\n",
    "\n",
    "# draw the graph with the color information\n",
    "pos = nx.spectral_layout(G2)\n",
    "nx.draw(G2, pos=pos, node_color=n_colors, with_labels=True)\n",
    "plt.show()"
   ]
  },
  {
   "cell_type": "markdown",
   "metadata": {},
   "source": [
    "## Analysing graph properties\n",
    "\n",
    "Read the \"Analyzing graphs\" section in this [tutorial](tutorial_full.ipynb) to find out how to get node degrees and read [here](https://networkx.github.io/documentation/networkx-1.10/reference/generated/networkx.algorithms.shortest_paths.generic.shortest_path.html) about how to calculate a shortest path between two given nodes. In particular, to the following:\n",
    "\n",
    "1. Get the degree of node 1\n",
    "2. Calculate shortest path from node 3 to node 5"
   ]
  },
  {
   "cell_type": "code",
   "execution_count": 7,
   "metadata": {
    "collapsed": true,
    "scrolled": true
   },
   "outputs": [],
   "source": [
    "# add code"
   ]
  },
  {
   "cell_type": "markdown",
   "metadata": {},
   "source": [
    "Now, highlight the shortest path from node 3 to node 5 by doubling the width of edges on this shortest path and setting their color to green."
   ]
  },
  {
   "cell_type": "code",
   "execution_count": 2,
   "metadata": {
    "collapsed": true
   },
   "outputs": [],
   "source": [
    "# add code"
   ]
  }
 ],
 "metadata": {
  "anaconda-cloud": {},
  "kernelspec": {
   "display_name": "Python 3",
   "language": "python",
   "name": "python3"
  },
  "language_info": {
   "codemirror_mode": {
    "name": "ipython",
    "version": 3
   },
   "file_extension": ".py",
   "mimetype": "text/x-python",
   "name": "python",
   "nbconvert_exporter": "python",
   "pygments_lexer": "ipython3",
   "version": "3.6.1"
  }
 },
 "nbformat": 4,
 "nbformat_minor": 2
}
