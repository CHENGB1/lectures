{
 "cells": [
  {
   "cell_type": "markdown",
   "metadata": {},
   "source": [
    "# ST445 Managing and Visualizing Data\n",
    "## Matrix Data Visualization\n",
    "### Milan Vojnovic and Christine Yuen, MT 2017"
   ]
  },
  {
   "cell_type": "markdown",
   "metadata": {},
   "source": [
    "# Seriation\n",
    "\n",
    "This notebook demonstrates symmetric reordering of rows and columns of a matrix by using the *seriation method* to the adjacency matrix of a random graph according to the [stochastic block model](https://en.wikipedia.org/wiki/Stochastic_block_model). \n",
    "\n",
    "We consider a stochastic block model where vertices are partitioned in two equally-sized subsets of vertices with parameters $p$ and $q$, where $p$ is the probability that two vertices are connected by an edge if they belong to the same subset of the bipartition, and $q$ is the probability that two vertices are connected by an edge if they belong to different subsets of the bipartition."
   ]
  },
  {
   "cell_type": "code",
   "execution_count": 1,
   "metadata": {
    "collapsed": true
   },
   "outputs": [],
   "source": [
    "import numpy as np\n",
    "\n",
    "import matplotlib.pyplot as plt\n",
    "\n",
    "%matplotlib inline"
   ]
  },
  {
   "cell_type": "markdown",
   "metadata": {},
   "source": [
    "## Generating adjacency matrix according to stochastic block model "
   ]
  },
  {
   "cell_type": "code",
   "execution_count": 2,
   "metadata": {
    "collapsed": false
   },
   "outputs": [],
   "source": [
    "p = 1; q = 0 # no noise case\n",
    "#p = 0.99; q = 0.11 # tiny noise case\n",
    "#p = 0.9; q = 0.1 # small noise case\n",
    "\n",
    "# number of nodes in each component of the bipartition\n",
    "n = 50\n",
    "\n",
    "B1 = np.random.binomial(1, p, [n, n])\n",
    "B2 = np.random.binomial(1, p, [n, n])\n",
    "C  = np.random.binomial(1, q, [n, n])\n",
    "\n",
    "A = np.bmat('B1, C; C, B2') # constructing a block matrix\n",
    "\n",
    "# making the matrix symmetric\n",
    "A = np.tril(A,-1)\n",
    "A = A + A.T\n",
    "\n",
    "# ensuring that the graph is connected \n",
    "#A[n-1,n:2*n] = 1\n",
    "#A[n:2*n,n] = 1\n",
    "#A[n,0:n] = 1\n",
    "#A[0:n,n] = 1"
   ]
  },
  {
   "cell_type": "code",
   "execution_count": 3,
   "metadata": {
    "collapsed": false
   },
   "outputs": [
    {
     "data": {
      "image/png": "[encoded data removed]",
      "text/plain": [
       "<matplotlib.figure.Figure at 0x105fc01d0>"
      ]
     },
     "metadata": {},
     "output_type": "display_data"
    }
   ],
   "source": [
    "fig, ax = plt.subplots()\n",
    "\n",
    "ax.imshow(A, cmap=plt.cm.gray_r) # reversed gray colormap\n",
    "\n",
    "ax.set_xticks([0, n, 2*n]);\n",
    "ax.set_yticks([0, n, 2*n]);"
   ]
  },
  {
   "cell_type": "markdown",
   "metadata": {},
   "source": [
    "Note: See here about [imshow()](https://matplotlib.org/devdocs/api/_as_gen/matplotlib.pyplot.imshow.html). You may also use [matshow()](https://matplotlib.org/api/_as_gen/matplotlib.axes.Axes.matshow.html). See [here](https://matplotlib.org/examples/color/colormaps_reference.html) and [here](https://matplotlib.org/users/colormaps.html) for references about choosing a colormap. "
   ]
  },
  {
   "cell_type": "markdown",
   "metadata": {},
   "source": [
    "## Reordering rows and columns according to random permutation"
   ]
  },
  {
   "cell_type": "code",
   "execution_count": 4,
   "metadata": {
    "collapsed": false
   },
   "outputs": [
    {
     "data": {
      "image/png": "[encoded data removed]",
      "text/plain": [
       "<matplotlib.figure.Figure at 0x105fe3fd0>"
      ]
     },
     "metadata": {},
     "output_type": "display_data"
    }
   ],
   "source": [
    "rndperm = np.random.permutation(2*n)\n",
    "\n",
    "Aperm = A[rndperm,:] # permute rows\n",
    "Aperm = Aperm[:,rndperm] # permute columns\n",
    "\n",
    "fig, ax = plt.subplots()\n",
    "\n",
    "ax.matshow(Aperm, cmap=plt.cm.gray_r)\n",
    "\n",
    "ax.set_xticks([0, n, 2*n]);\n",
    "ax.set_yticks([0, n, 2*n]);"
   ]
  },
  {
   "cell_type": "markdown",
   "metadata": {},
   "source": [
    "Note: Numpy's [np.random.permutation()](https://docs.scipy.org/doc/numpy-1.13.0/reference/generated/numpy.random.permutation.html) function came handy here."
   ]
  },
  {
   "cell_type": "markdown",
   "metadata": {},
   "source": [
    "## Reordering rows and columns in order of the Fiedler vector elements"
   ]
  },
  {
   "cell_type": "code",
   "execution_count": 5,
   "metadata": {
    "collapsed": false
   },
   "outputs": [
    {
     "name": "stdout",
     "output_type": "stream",
     "text": [
      "True\n",
      "[[49  0  0 ...,  0 -1 -1]\n",
      " [ 0 49 -1 ..., -1  0  0]\n",
      " [ 0 -1 49 ..., -1  0  0]\n",
      " ..., \n",
      " [ 0 -1 -1 ..., 49  0  0]\n",
      " [-1  0  0 ...,  0 49 -1]\n",
      " [-1  0  0 ...,  0 -1 49]]\n",
      "[ -2.77558030e-14  -5.55271067e-15   5.00000000e+01   5.00000000e+01\n",
      "   5.00000000e+01   5.00000000e+01   5.00000000e+01   5.00000000e+01\n",
      "   5.00000000e+01   5.00000000e+01   5.00000000e+01   5.00000000e+01\n",
      "   5.00000000e+01   5.00000000e+01   5.00000000e+01   5.00000000e+01\n",
      "   5.00000000e+01   5.00000000e+01   5.00000000e+01   5.00000000e+01\n",
      "   5.00000000e+01   5.00000000e+01   5.00000000e+01   5.00000000e+01\n",
      "   5.00000000e+01   5.00000000e+01   5.00000000e+01   5.00000000e+01\n",
      "   5.00000000e+01   5.00000000e+01   5.00000000e+01   5.00000000e+01\n",
      "   5.00000000e+01   5.00000000e+01   5.00000000e+01   5.00000000e+01\n",
      "   5.00000000e+01   5.00000000e+01   5.00000000e+01   5.00000000e+01\n",
      "   5.00000000e+01   5.00000000e+01   5.00000000e+01   5.00000000e+01\n",
      "   5.00000000e+01   5.00000000e+01   5.00000000e+01   5.00000000e+01\n",
      "   5.00000000e+01   5.00000000e+01   5.00000000e+01   5.00000000e+01\n",
      "   5.00000000e+01   5.00000000e+01   5.00000000e+01   5.00000000e+01\n",
      "   5.00000000e+01   5.00000000e+01   5.00000000e+01   5.00000000e+01\n",
      "   5.00000000e+01   5.00000000e+01   5.00000000e+01   5.00000000e+01\n",
      "   5.00000000e+01   5.00000000e+01   5.00000000e+01   5.00000000e+01\n",
      "   5.00000000e+01   5.00000000e+01   5.00000000e+01   5.00000000e+01\n",
      "   5.00000000e+01   5.00000000e+01   5.00000000e+01   5.00000000e+01\n",
      "   5.00000000e+01   5.00000000e+01   5.00000000e+01   5.00000000e+01\n",
      "   5.00000000e+01   5.00000000e+01   5.00000000e+01   5.00000000e+01\n",
      "   5.00000000e+01   5.00000000e+01   5.00000000e+01   5.00000000e+01\n",
      "   5.00000000e+01   5.00000000e+01   5.00000000e+01   5.00000000e+01\n",
      "   5.00000000e+01   5.00000000e+01   5.00000000e+01   5.00000000e+01\n",
      "   5.00000000e+01   5.00000000e+01   5.00000000e+01   5.00000000e+01]\n"
     ]
    },
    {
     "data": {
      "image/png": "[encoded data removed]",
      "text/plain": [
       "<matplotlib.figure.Figure at 0x10606d7f0>"
      ]
     },
     "metadata": {},
     "output_type": "display_data"
    }
   ],
   "source": [
    "# compute the Laplacian matrix\n",
    "L = np.diag(np.sum(Aperm,1)) - Aperm\n",
    "\n",
    "# check that L is a symmetrix matrix\n",
    "print((L.transpose() == L).all())\n",
    "\n",
    "print(L)\n",
    "\n",
    "# compute eigenvalues and eigenvectors of the Laplacian matrix\n",
    "D, V = np.linalg.eigh(L)\n",
    "\n",
    "argD = np.argsort(D)\n",
    "\n",
    "D=D[argD]\n",
    "V=V[:,argD]\n",
    "\n",
    "print(D)\n",
    "\n",
    "# get the Fiedler eigenvector\n",
    "fiedler = V[:,1]\n",
    "\n",
    "# permutation in the order of Fiedler vector elements\n",
    "Fperm = np.argsort(fiedler)\n",
    "\n",
    "# permute rows\n",
    "Aperm2 = Aperm[Fperm,:]\n",
    "# permute columns\n",
    "Aperm2 = Aperm2[:,Fperm]\n",
    "\n",
    "# show the transformed matrix\n",
    "fig, ax = plt.subplots()\n",
    "\n",
    "ax.matshow(Aperm2, cmap=plt.cm.gray_r)\n",
    "\n",
    "ax.set_xticks([0, n, 2*n]);\n",
    "ax.set_yticks([0, n, 2*n]);"
   ]
  },
  {
   "cell_type": "code",
   "execution_count": null,
   "metadata": {
    "collapsed": true
   },
   "outputs": [],
   "source": []
  }
 ],
 "metadata": {
  "anaconda-cloud": {},
  "kernelspec": {
   "display_name": "Python [default]",
   "language": "python",
   "name": "python3"
  },
  "language_info": {
   "codemirror_mode": {
    "name": "ipython",
    "version": 3
   },
   "file_extension": ".py",
   "mimetype": "text/x-python",
   "name": "python",
   "nbconvert_exporter": "python",
   "pygments_lexer": "ipython3",
   "version": "3.5.2"
  }
 },
 "nbformat": 4,
 "nbformat_minor": 1
}
