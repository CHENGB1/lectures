{
 "cells": [
  {
   "cell_type": "markdown",
   "metadata": {
    "slideshow": {
     "slide_type": "slide"
    }
   },
   "source": [
    "### ST445 Managing and Visualizing Data\n",
    "\n",
    "# The Shape of Data\n",
    "\n",
    "### Week 2 Lecture, MT 2017 - Kenneth Benoit"
   ]
  },
  {
   "cell_type": "markdown",
   "metadata": {
    "slideshow": {
     "slide_type": "slide"
    }
   },
   "source": [
    "# Plan today\n",
    "\n",
    "* Questions and administration\n",
    "* Representing text data: Unicode\n",
    "* Representing dates\n",
    "* Representing sparse matrix formats\n",
    "* Data and datasets\n",
    "    * \"tidy\" data\n",
    "    * reshaping data\n",
    "    * normalization forms\n",
    "* Lab preview"
   ]
  },
  {
   "cell_type": "markdown",
   "metadata": {
    "slideshow": {
     "slide_type": "slide"
    }
   },
   "source": [
    "# How to represent text data: encoding\n",
    "\n",
    "-   a “character set\" is a list of character with associated numerical\n",
    "    representations\n",
    "\n",
    "-   ASCII: the original character set, uses just 7 bits ($2^7$) – see\n",
    "    <http://ergoemacs.org/emacs/unicode_basics.html>\n",
    "\n",
    "-   ASCII was later extended, e.g. ISO-8859\n",
    "    <http://www.ic.unicamp.br/~stolfi/EXPORT/www/ISO-8859-1-Encoding.html>,\n",
    "    using 8 bits ($2^8$)\n",
    "\n",
    "-   but this became a jungle, with no standards:\n",
    "    <http://en.wikipedia.org/wiki/Character_encoding>"
   ]
  },
  {
   "cell_type": "markdown",
   "metadata": {
    "slideshow": {
     "slide_type": "slide"
    }
   },
   "source": [
    "# Solution: Unicode\n",
    "\n",
    "-   Unicode was developed to provide a unique number ( a “code point”)\n",
    "    to every known character – even some that are “unknown”\n",
    "\n",
    "-   more here"
   ]
  },
  {
   "cell_type": "markdown",
   "metadata": {
    "slideshow": {
     "slide_type": "slide"
    }
   },
   "source": [
    "# Unicode details\n",
    "\n",
    "- here\n",
    "- here\n"
   ]
  },
  {
   "cell_type": "markdown",
   "metadata": {
    "slideshow": {
     "slide_type": "slide"
    }
   },
   "source": [
    "# Unicode must still be _encoded_\n",
    "\n",
    "-   problem: there are more far code points than fit into 8-bit\n",
    "    encodings. Hence there are multiple ways to *encode* the Unicode\n",
    "    code points\n",
    "\n",
    "-   *variable-byte* encodings use multiple bytes as needed. Advantage is\n",
    "    efficiency, since most ASCII and simple extended character sets can\n",
    "    use just one byte, and these were set in the Unicode standard to\n",
    "    their ASCII and ISO-8859 equivalents\n",
    "\n",
    "-   two most common are and , using 8 and 16 bits respectively"
   ]
  },
  {
   "cell_type": "markdown",
   "metadata": {
    "slideshow": {
     "slide_type": "slide"
    }
   },
   "source": [
    "# Text encoding: Caution\n",
    "\n",
    "-   Input texts can be very different\n",
    "\n",
    "-   Many text production software (e.g. MS Office-based products) still\n",
    "    tend to use proprietary formats, such as Windows-1252\n",
    "\n",
    "-   Windows tends to use UTF-16, while Mac and other Unix-based\n",
    "    platforms use UTF-8\n",
    "\n",
    "-   Your eyes can be deceiving: a client may display gibberish but the\n",
    "    encoding might still be as intended\n",
    "\n",
    "-   No easy method of detecting encodings (except in HTML meta-data)\n"
   ]
  },
  {
   "cell_type": "markdown",
   "metadata": {
    "slideshow": {
     "slide_type": "slide"
    }
   },
   "source": [
    "# A note on \"meta-data\"\n",
    "\n",
    "-   Data that provides infomation about other (primary) data  \n",
    "-   Usually not meant to be analyzed as data itself  "
   ]
  },
  {
   "cell_type": "markdown",
   "metadata": {
    "slideshow": {
     "slide_type": "fragment"
    }
   },
   "source": [
    "-   Example: HTML\n",
    "\n",
    "    ```html\n",
    "    <!DOCTYPE html>\n",
    "    <html class=\"client-nojs\" lang=\"en\" dir=\"ltr\">\n",
    "    <head>\n",
    "    <meta charset=\"UTF-8\"/>\n",
    "    <title>Metadata - Wikipedia</title>\n",
    "    ```"
   ]
  },
  {
   "cell_type": "markdown",
   "metadata": {
    "slideshow": {
     "slide_type": "fragment"
    }
   },
   "source": [
    "-   Example of a standard attempting to address this need:\n",
    "    [Dublin Core Metadata Initiative](http://dublincore.org/documents/dc-text/)"
   ]
  },
  {
   "cell_type": "markdown",
   "metadata": {
    "slideshow": {
     "slide_type": "slide"
    }
   },
   "source": [
    "### Representing dates: Different formats?\n",
    "\n",
    "![data orders](figs/dateformatorder.png \"Date format order\")\n",
    "    "
   ]
  },
  {
   "cell_type": "markdown",
   "metadata": {
    "slideshow": {
     "slide_type": "slide"
    }
   },
   "source": [
    "# Representing dates\n",
    "\n",
    "| Description\t| Format\t| Examples |\n",
    "|:------------|:--------|:---------|\n",
    "| American month and day\t      | mm/dd\t           | \"5/12\", \"10/27\" |\n",
    "| American month, day and year\t| mm/dd/y\t         | \"1/17/2006\" |\n",
    "| Four digit year, month and day with slashes\t| YY/mm/dd | \"2008/6/30\", \"1978/12/22\" |\n",
    "| Four digit year and month (GNU)\t| YY-mm\t         | \"2008-6\", \"2008-06\", \"1978-12\" |\n",
    "| Year, month and day with dashes\t| y-mm-dd\t       | \"2008-6-30\", \"78-12-22\", \"8-6-21\" |\n",
    "| Day, month and four digit year\t| dd-mm-YY\t     | \"30-6-2008\" |\n",
    "| Day, month and two digit year   | dd.mm.yy\t     | \"30.6.08\" |\n",
    "| Day, textual month and year\t    | dd-m y\t       | \"30-June 2008\" |\n",
    "| Textual month and four digit year | m YY\t       | \"June 2008\",  \"March 1879\" |\n",
    "| Four digit year and textual month | YY  m\t       | \"2008 June\" |\n",
    "| Textual month, day and year\t    | m dd, y\t       | \"April 17, 1790\" |\n",
    "| Day and textual month\t          | d m\t           | \"1 July\" |\n",
    "| Month abbreviation, day and year\t| M-DD-y\t     | \"May-09-78\", \"Apr-17-1790\" |\n",
    "| Year, month abbreviation and day\t| y-M-DD\t     | \"78-Dec-22\", \"1814-MAY-17\" |\n",
    "| Year (and just the year)        |\tYY\t| \"1978\", \"2008\" |\n",
    "| Textual month (and just the month)\t| m\t| \"March\", \"jun\", \"DEC\" |"
   ]
  },
  {
   "cell_type": "markdown",
   "metadata": {
    "slideshow": {
     "slide_type": "slide"
    }
   },
   "source": [
    "# ISO8601: Imposing common standards\n",
    "\n",
    "* Purpose: to provide unambiguous and well-defined method of representing dates and times\n",
    "* Goal: to avoid misinterpretation of numeric representations of dates and times, particularly when data are transferred between countries with different conventions for writing numeric dates and time\n",
    "* First published in 1988\n",
    "* Introduces a common notation, and a common order (most-to-least-significant order [YYYY]-[MM]-[DD])\n",
    "    - matches lexicographical order with chronological order\n",
    "* Uses codes for date and time elements, to represent dates (and times) in either a basic format (no separators) or in an extended format with added separators (to enhance human readability)\n"
   ]
  },
  {
   "cell_type": "markdown",
   "metadata": {
    "slideshow": {
     "slide_type": "slide"
    }
   },
   "source": [
    "## ISO8601 formatting components\n",
    "\n",
    "|  Symbol  |  Meaning       |  Example   |  Notes |\n",
    "|:---------|:---------------|:----------:|:-------|\n",
    "| YYYY     | 4-digit year   |  2017    | Avoids the \"Y2K\" problem |\n",
    "| MM       | 2-digit day of the month | 10  | |\n",
    "| DD       | 2-digit day of the month | 03 | |\n",
    "| Www      | Week number    | 52 | |\n",
    "| D        | Weekday number |  2 | Starts on Monday! |\n",
    "| hh       | hour (0-24)    |  10 | 24 is only used to denote midnight at the end of a calendar day |\n",
    "| mm       | minute (0-59)  |  05 | |\n",
    "| ss       | second (0-60)  |  20 | 60 is only used to denote an added leap second |\n"
   ]
  },
  {
   "cell_type": "markdown",
   "metadata": {
    "slideshow": {
     "slide_type": "slide"
    }
   },
   "source": [
    "## Coordinated Universal Time (UTC)\n",
    "\n",
    "* World standard for time\n",
    "* Does not include Daylight Savings Time\n",
    "* Interchangeable with Greenwich Mean Time (GMT), but GMT is no longer precisely defined by the scientific community\n",
    "* [Time zones around the world](https://en.wikipedia.org/wiki/List_of_UTC_time_offsets) are expressed using positive or negative offsets from UTC"
   ]
  },
  {
   "cell_type": "markdown",
   "metadata": {
    "slideshow": {
     "slide_type": "fragment"
    }
   },
   "source": [
    "* French v. English\n",
    "    - English speakers originally proposed _CUT_ (for \"coordinated universal time\")\n",
    "    - French speakers proposed _TUC_ (for \"temps universel coordonné\") \n",
    "    - Compromise: _UTC_"
   ]
  },
  {
   "cell_type": "markdown",
   "metadata": {
    "slideshow": {
     "slide_type": "slide"
    }
   },
   "source": [
    "# POSIX Time\n",
    "\n",
    "- a system for describing a point in time, defined as the number of seconds that have elapsed since 00:00:00 UTC, Thursday, 1 January 1970\n",
    "- Also known as \"Unix time\", or \"<a href=\"https://en.wikipedia.org/wiki/Epoch_(reference_date)#Computing\">[epoch time](</a>)\", because it represents elapsed time from a defined \"epoch\"\n",
    "- Problem: How much elapsed time can you store?  "
   ]
  },
  {
   "cell_type": "markdown",
   "metadata": {
    "slideshow": {
     "slide_type": "slide"
    }
   },
   "source": [
    "* The _Year 2038 Problem_\n",
    "    -  Many Unix-like operating systems which keep time as seconds elapsed from the epoch date of January 1, 1970\n",
    "    -  For signed 32-bit integers, this means that cannot encoding times after 03:14:07 UTC on 19 January 2038\n",
    "    -  Times beyond that will wrap around and be stored internally as a negative number, which these systems will interpret as having occurred on 13 December 1901\n",
    "    -  A solution: 64-bit signed integers allow a new wraparound date that is 20x greater than the estimated age of the universe: approximately 290 billion years in the future"
   ]
  },
  {
   "cell_type": "markdown",
   "metadata": {
    "slideshow": {
     "slide_type": "slide"
    }
   },
   "source": [
    "# Compression\n",
    "\n",
    "-   Seeks to economize on space by representing recurring items using\n",
    "    patterns that represent the uncompressed data\n",
    "\n",
    "-   Common in formats for graphics and video encoding\n",
    "\n",
    "-   “Lossless” formats compress data without reducing information -\n",
    "    examples are .zip and .gz compression\n",
    "\n",
    "-   This (and avoiding errors) is also a principle in normalized\n",
    "    relational data forms\n",
    "\n",
    "-   Also very important for sparse matrix representations, where many of\n",
    "    the cells are zero, but it would be very wasteful to record a double\n",
    "    precision numeric zero for each of these non-informative cells"
   ]
  },
  {
   "cell_type": "markdown",
   "metadata": {
    "slideshow": {
     "slide_type": "slide"
    }
   },
   "source": [
    "## Compression: Sparse matrix formats\n",
    "\n",
    "* used because many forms of matrix are very sparse - for example, document-term matrixes, which are commonly 80-90% sparse"
   ]
  },
  {
   "cell_type": "code",
   "execution_count": null,
   "metadata": {
    "collapsed": true,
    "slideshow": {
     "slide_type": "fragment"
    }
   },
   "outputs": [],
   "source": [
    "suppressPackageStartupMessages(library(\"quanteda\"))\n",
    "mydfm <- dfm(data_corpus_inaugural[1:5])\n",
    "head(mydfm, nfeature = 10)\n",
    "## Document-feature matrix of: 5 documents, 10 features (38% sparse).\n",
    "## 5 x 10 sparse Matrix of class \"dfmSparse\"\n",
    "##                  features\n",
    "## docs              fellow-citizens  of the senate and house representatives : among vicissitudes\n",
    "##   1789-Washington               1  71 116      1  48     2               2 1     1            1\n",
    "##   1793-Washington               0  11  13      0   2     0               0 1     0            0\n",
    "##   1797-Adams                    3 140 163      1 130     0               2 0     4            0\n",
    "##   1801-Jefferson                2 104 130      0  81     0               0 1     1            0\n",
    "##   1805-Jefferson                0 101 143      0  93     0               0 0     7            0"
   ]
  },
  {
   "cell_type": "markdown",
   "metadata": {
    "slideshow": {
     "slide_type": "slide"
    }
   },
   "source": [
    "### \"simple triplet\" format\n",
    "\n",
    "-   “simple triplet” format\n",
    "\n",
    "    - $i$:   indexes row\n",
    "\n",
    "    - $j$:   indexes column\n",
    "\n",
    "    - $x$:   indicates value\n",
    "    \n",
    "(indexes will be from zero)"
   ]
  },
  {
   "cell_type": "markdown",
   "metadata": {},
   "source": [
    "#### example:\n",
    "\n",
    "This matrix:\n",
    "\n",
    "```\n",
    "     [,1] [,2] [,3] [,4]\n",
    "[1,]    1    0    3   12\n",
    "[2,]    0    0   10    1\n",
    "[3,]    2    0    0    0    \n",
    "```\n",
    "\n",
    "Would be represented by:\n",
    "- $i$: 0 2 0 1 0 1\n",
    "- $j$: 0 2 0 1 0 1\n",
    "- $x$: 0 0 2 2 3 3\n",
    "\n",
    "\n"
   ]
  },
  {
   "cell_type": "markdown",
   "metadata": {},
   "source": [
    "###   “compressed sparse column” format\n",
    "\n",
    "- More efficient than the STF\n",
    "\n",
    "    - $i$:   indexes row\n",
    "\n",
    "    - $p$:   indexes the first nonzero element in each column of the matrix\n",
    "\n",
    "    - $x$:   indicates value\n",
    "    \n",
    "    \n",
    "-   \"compressed sparse row\" format is also possible"
   ]
  },
  {
   "cell_type": "markdown",
   "metadata": {},
   "source": [
    "#### example:\n",
    "\n",
    "This matrix:\n",
    "\n",
    "```\n",
    "     [,1] [,2] [,3] [,4]\n",
    "[1,]    1    0    3   12\n",
    "[2,]    0    0   10    1\n",
    "[3,]    2    0    0    0    \n",
    "```\n",
    "\n",
    "Would be represented by:\n",
    "- $i$: 0 2 0 1 0 1\n",
    "- $p$: 2 2 4 6\n",
    "- $x$: 0 0 2 2 3 3\n",
    "\n",
    "\n"
   ]
  },
  {
   "cell_type": "markdown",
   "metadata": {
    "slideshow": {
     "slide_type": "slide"
    }
   },
   "source": [
    "# Dataset manipulation\n",
    "\n",
    "### What is a “Dataset”?\n",
    "\n",
    "-   A dataset is a “rectangular\" formatted table of data in which all\n",
    "    the values of the same variable must be in a single column\n",
    "\n",
    "-   Many of the datasets we use have been artificially reshaped in order\n",
    "    to fulfill this criterion of rectangularity\n",
    "\n",
    "### Revisting basic data concepts\n",
    "\n",
    "-   The difference between tables and *datasets*\n",
    "\n",
    "-   This is a (partial) :\n",
    "\n",
    "        district    incumbf wonseatf\n",
    "        1      Carlow Kilkenny Challenger     Lost\n",
    "        2      Carlow Kilkenny Challenger     Lost\n",
    "        5      Carlow Kilkenny  Incumbent      Won\n",
    "        100 Donegal South West Challenger     Lost\n",
    "        459            Wicklow  Incumbent      Won\n",
    "        464            Wicklow Challenger     Lost\n",
    "\n",
    "-   This is a :\n",
    "\n",
    "                   Lost Won\n",
    "        Challenger  266  60\n",
    "        Incumbent    32 106\n",
    "\n",
    "-   The key with a dataset is that\n",
    "\n",
    "### Example: Comparative Manifesto Project dataset\n",
    "\n",
    "Note: Available from <https://manifestoproject.wzb.eu/>\n",
    "\n",
    "\\\n",
    "\n",
    "[****]{}\n",
    "\n",
    "### Example: Comparative Manifesto Project dataset\n",
    "\n",
    "This is “wide\" format: ![image](figures/cmpdata.png){width=\"105.00000%\"}\n",
    "\n",
    "### Long v. wide formats\n",
    "\n",
    "-   reshape\n",
    "\n",
    "    -   the “old\" R way to do this, using ‘base::reshape()‘\n",
    "\n",
    "    -   problem: confusing and difficult to use\n",
    "\n",
    "-   reshape2\n",
    "\n",
    "    -   from Hadley Wickham’s `reshape2` package\n",
    "\n",
    "    -   data is first ‘melt‘ed into long format\n",
    "\n",
    "    -   then ‘cast‘ into desired format"
   ]
  },
  {
   "cell_type": "markdown",
   "metadata": {
    "slideshow": {
     "slide_type": "slide"
    }
   },
   "source": [
    "# Upcoming\n",
    "\n",
    "-------\n",
    "\n",
    "* **Lab**: Working with Jupyter, working with Github, setting up a web page\n",
    "* **Next week**: The shape of data"
   ]
  }
 ],
 "metadata": {
  "celltoolbar": "Slideshow",
  "kernelspec": {
   "display_name": "R",
   "language": "R",
   "name": "ir"
  },
  "language_info": {
   "codemirror_mode": "r",
   "file_extension": ".r",
   "mimetype": "text/x-r-source",
   "name": "R",
   "pygments_lexer": "r",
   "version": "3.4.1"
  }
 },
 "nbformat": 4,
 "nbformat_minor": 2
}
