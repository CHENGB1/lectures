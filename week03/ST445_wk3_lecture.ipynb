{
 "cells": [
  {
   "cell_type": "markdown",
   "metadata": {
    "slideshow": {
     "slide_type": "slide"
    }
   },
   "source": [
    "### ST445 Managing and Visualizing Data\n",
    "# Creating and managing databases\n",
    "### Week 3 Lecture, MT 2017 - Kenneth Benoit, Christian Mueller"
   ]
  },
  {
   "cell_type": "markdown",
   "metadata": {
    "slideshow": {
     "slide_type": "slide"
    }
   },
   "source": [
    "## Plan for today\n",
    "\n",
    "- Relational and non-relational databases\n",
    "- SQL and SQLite:\n",
    "    - Creating tables\n",
    "    - Querying data\n",
    "    - Filtering\n",
    "    - Grouping and aggregation\n",
    "    - Joining tables\n",
    "    - Adding indexes"
   ]
  },
  {
   "cell_type": "markdown",
   "metadata": {
    "slideshow": {
     "slide_type": "slide"
    }
   },
   "source": [
    "## Relational data structures\n",
    "\n",
    "-  invented by E. F. Codd at IBM in 1970\n",
    "-  A relational database is a collection of data organized as a set\n",
    "of formally defined tables\n",
    "-  These tables can be accessed or reassembled in many different ways without having to reorganize the underlying tables that organize the data\n",
    "-  RDBMS: a relational database management system. Examples include: MySQL, SQLite, PostgreSQL, Oracle. MS Access is a lite version of this too.\n",
    "- The standard user and application programmer interface to a relational database is structured query language (SQL)"
   ]
  },
  {
   "cell_type": "markdown",
   "metadata": {
    "slideshow": {
     "slide_type": "slide"
    }
   },
   "source": [
    "## Example\n",
    "\n",
    "from: Database of Parties, Elections, and Governments (DPEG) relational database\n",
    "\n",
    "```sql\n",
    "SELECT c.countryName, c.countryAbbrev, p.* FROM party AS p\n",
    "  LEFT JOIN country AS c\n",
    "  ON p.countryID = c.countryID\n",
    "```"
   ]
  },
  {
   "cell_type": "markdown",
   "metadata": {
    "slideshow": {
     "slide_type": "slide"
    }
   },
   "source": [
    "## Database systems\n",
    "\n",
    "#### Relational databases\n",
    "\n",
    "- Mainly implementations and extensions of the SQL Standard ([ISO/IEC 9075:2016](https://www.iso.org/standard/63556.html))\n",
    "- Transactions are always **ACID** (atomic, consistent, isolated, durable)\n",
    "- Data needs to be defined\n",
    "\n",
    "#### Non-relational databases\n",
    "\n",
    "- Key-value storage types (e.g. Amazon DynamoDB) or document storage types (e.g. CouchDB, MongoDB)\n",
    "- Sometime labelled as providing **ACID** transactions but often only _eventually consistent_"
   ]
  },
  {
   "cell_type": "markdown",
   "metadata": {
    "slideshow": {
     "slide_type": "notes"
    }
   },
   "source": [
    "- FYI for clicking on the SQL standard link: The standard is open, i.e. anyone get it, but subject to a fee"
   ]
  },
  {
   "cell_type": "markdown",
   "metadata": {
    "slideshow": {
     "slide_type": "slide"
    }
   },
   "source": [
    "## Basic SQL concepts\n",
    "\n",
    "(Most of this will be familiar from last week's lecture and class on managing data)\n",
    "\n",
    "- The basic unit is the **database**\n",
    "- It might be stored on disk in a single file or a range of files managed by a server\n",
    "- The database constists of **tables** which store actual data\n",
    "- A table consist of at least one **column** whose name and data type need to be declared\n",
    "- Data is stored in the **rows** of a table"
   ]
  },
  {
   "cell_type": "markdown",
   "metadata": {
    "slideshow": {
     "slide_type": "slide"
    }
   },
   "source": [
    "## Basic relational structures\n",
    "\n",
    "*  tables\n",
    "   -  also known as “relations”\n",
    "   -  tables define the forms of the data that are linked to other data through key relations"
   ]
  },
  {
   "cell_type": "markdown",
   "metadata": {
    "slideshow": {
     "slide_type": "fragment"
    }
   },
   "source": [
    "* keys: how tables are cross-referenced\n",
    "   - **primary key**: an column in a table that uniquely identifies the remaining data in the table\n",
    "   - **foreign key**: a field in a relational table that matches the primary key column of another table\n",
    "   - **join operations** link tables in a structured query"
   ]
  },
  {
   "cell_type": "markdown",
   "metadata": {
    "slideshow": {
     "slide_type": "slide"
    }
   },
   "source": [
    "## Normal forms 1\n",
    "\n",
    "“Normalizing” a database means creating a proper set of relations\n",
    "\n",
    "First normal form: No Repeating Elements or Groups of Elements\n",
    "\n",
    "        countryname                   partyname   date per108 per110\n",
    "    175     Austria           FPÖ Freedom Party 199010      3      0\n",
    "    176     Austria        GA Green Alternative 199010      0      3\n",
    "    177     Austria SPÖ Social Democratic Party 199010      5      0\n",
    "    178     Austria          ÖVP People's Party 199010      8      0\n",
    "    179     Austria           FPÖ Freedom Party 199410      1     11\n",
    "    180     Austria            LF Liberal Forum 199410      0      0\n",
    "\n",
    "Here, this is violated because of the wide format of per108 and per110.\n",
    "To solve this, we have to move this to \"long\" format.\n"
   ]
  },
  {
   "cell_type": "markdown",
   "metadata": {
    "slideshow": {
     "slide_type": "slide"
    }
   },
   "source": [
    "## Normal forms 2\n",
    "\n",
    "Second normal form: No Partial Dependencies on a Concatenated Key\n",
    "\n",
    "      countryname party   date category catcount\n",
    "    1     Austria 42420 199010   per101        0\n",
    "    2     Austria 42110 199010   per101        0\n",
    "    3     Austria 42320 199010   per101        0\n",
    "    4     Austria 42520 199010   per101        5\n",
    "    5     Austria 42420 199410   per101        0\n",
    "    6     Austria 42421 199410   per101        0\n",
    "\n",
    "Here, the format is still violated, because party 42420 is repeated. To\n",
    "solve this we need to create a party table and link to it using a\n",
    "foreign key."
   ]
  },
  {
   "cell_type": "markdown",
   "metadata": {
    "slideshow": {
     "slide_type": "slide"
    }
   },
   "source": [
    "## Normal forms 3\n",
    "\n",
    "Third normal form: No Dependencies on Non-Key Attributes. Every\n",
    "non-prime attribute of data in a table must be dependent on a primary\n",
    "key.\n",
    "\n",
    "      countryname party   date category catcount\n",
    "    1     Austria 42420 199010   per101        0\n",
    "    2     Austria 42110 199010   per101        0\n",
    "    3     Austria 42320 199010   per101        0\n",
    "    4     Austria 42520 199010   per101        5\n",
    "    5     Austria 42420 199410   per101        0\n",
    "    6     Austria 42421 199410   per101        0\n",
    "\n",
    "Here, this is violated because election data repeats across multiple\n",
    "values of the category count table, when it should have its own table."
   ]
  },
  {
   "cell_type": "markdown",
   "metadata": {
    "slideshow": {
     "slide_type": "slide"
    }
   },
   "source": [
    "## Basic SQL syntax\n",
    "\n",
    "- Defining data: `CREATE TABLE`\n",
    "- Adding, changing, and deleting data: `INSERT`, `UPDATE`, `DELETE`\n",
    "- Accessing data: `SELECT`\n",
    "- Most functionality is part of the `SELECT` statement:\n",
    "    - Filter: `SELECT ... WHERE`\n",
    "    - Sort: `SELECT ... ORDER BY`\n",
    "    - Aggregate: `SELECT ... GROUP BY`\n",
    "    <!-- - Aggregate and filter: `SELECT ... GROUP BY ... HAVING` -->\n",
    "    - Combining data: `SELECT ... JOIN`\n",
    "- Adding constraints: `CREATE CONSTRAINT`\n",
    "- Adding indexes: `CREATE INDEX`"
   ]
  },
  {
   "cell_type": "markdown",
   "metadata": {
    "slideshow": {
     "slide_type": "slide"
    }
   },
   "source": [
    "## SQL Syntax caveats\n",
    "\n",
    "- SQL syntax is **case-insensitive**\n",
    "- `;` has to be added at the end of a line to terminate it (as in C-family languages, Javascript, ...)\n"
   ]
  },
  {
   "cell_type": "markdown",
   "metadata": {
    "slideshow": {
     "slide_type": "slide"
    }
   },
   "source": [
    "## Setting up the SQLite command line\n",
    "\n",
    "\n",
    "#### Installation via anaconda\n",
    "\n",
    "```\n",
    "conda install sqlite\n",
    "```\n",
    "\n",
    "#### Connecting to a database\n",
    "\n",
    "```sh\n",
    "sqlite st445-week03.db\n",
    "```\n",
    "\n",
    "```\n",
    "SQLite version 3.20.1 2017-08-24 16:21:36\n",
    "Enter \".help\" for usage hints.\n",
    "sqlite>\n",
    "```"
   ]
  },
  {
   "cell_type": "markdown",
   "metadata": {
    "slideshow": {
     "slide_type": "slide"
    }
   },
   "source": [
    "### Creating a table\n",
    "\n",
    "```SQL\n",
    "CREATE TABLE table_name (column_name column_type [, column_name column_type]) ;\n",
    "```\n",
    "\n",
    "Creating a table involves two things:\n",
    "\n",
    "1. Giving the table a name constiting of alphanumeric characters and `_`\n",
    "2. Giving each column a name and a **data type**\n",
    "\n",
    "The SQL Standard defines several common data types and most SQL implementations provide additional ones:\n",
    "\n",
    "| Type | Description                |\n",
    "|:-----|:---------------------------|\n",
    "| INT, BIGINT | Integer (4- and 8-byte). |\n",
    "| FLOAT, DOUBLE | Single or double precision floating point number (4 or 8 bytes). |\n",
    "| TEXT | String, stored using the database encoding (UTF-8, ...).|\n",
    "| BLOB | Raw binary data. |\n",
    "| BOOLEAN | True or false. |\n",
    "| DATE, TIMESTAMP | Date and date-time. |\n",
    "\n",
    "Compare data types available in [SQLite](https://www.sqlite.org/datatype3.html), [MySQL](https://dev.mysql.com/doc/refman/5.7/en/data-type-overview.html), and [PostgreSQL](https://www.postgresql.org/docs/current/static/datatype.html#DATATYPE-TABLE).\n",
    "\n",
    "#### Example\n",
    "\n",
    "```SQL\n",
    "CREATE TABLE my_table (my_integer INT, my_float FLOAT, my_text TEXT) ;\n",
    "```"
   ]
  },
  {
   "cell_type": "markdown",
   "metadata": {
    "slideshow": {
     "slide_type": "slide"
    }
   },
   "source": [
    "## Adding data to a table\n",
    "\n",
    "You probably will not do this by hand but rather via a script. This is the topic of the class.\n",
    "\n",
    "```SQL\n",
    "INSERT INTO table_name [(column_name [, column_name])] VALUES (value1 [, value2]);\n",
    "```\n",
    "\n",
    "#### Example\n",
    "\n",
    "```SQL\n",
    "INSERT INTO my_table VALUES (1, 1.3, 'abc') ;\n",
    "INSERT INTO my_table (my_integer, my_float, my_text) VALUES (4, 4.3, 'def') ;\n",
    "INSERT INTO my_table (my_integer, my_float) VALUES (8, 8.3) ;\n",
    "```\n",
    "\n",
    "[INSERT documentation](https://www.postgresql.org/docs/current/static/dml-insert.html)"
   ]
  },
  {
   "cell_type": "markdown",
   "metadata": {
    "slideshow": {
     "slide_type": "slide"
    }
   },
   "source": [
    "## Changing or deleting data in a table\n",
    "\n",
    "As above, you probably do not want to do this by hand.\n",
    "\n",
    "```SQL\n",
    "UPDATE table_name SET column_name = value [, column_name = value] WHERE ... ;\n",
    "```\n",
    "\n",
    "```SQL\n",
    "DELETE FROM table_name WHERE ... ;\n",
    "```\n",
    "\n",
    "#### Example\n",
    "\n",
    "```SQL\n",
    "UPDATE my_table SET my_float = 1.5 WHERE my_integer = 1 ;\n",
    "UPDATE my_table SET my_integer = my_integer * 2 WHERE my_text = 'def' ;\n",
    "```\n",
    "\n",
    "\n",
    "```SQL\n",
    "DELETE FROM my_table WHERE my_integer = 8 ;\n",
    "```"
   ]
  },
  {
   "cell_type": "markdown",
   "metadata": {
    "slideshow": {
     "slide_type": "slide"
    }
   },
   "source": [
    "### Retrieving data\n",
    "\n",
    "Whenever data should be retrieved, the statement starts with `SELECT`.\n",
    "\n",
    "```SQL\n",
    "SELECT column_name [, column_name] | * FROM table_name ;\n",
    "```\n",
    "\n",
    "- The most simple invocation selects all the columns with `*`\n",
    "\n",
    "#### Example 1: Dummy table created above\n",
    "\n",
    "```SQL\n",
    "SELECT * FROM my_table ;\n",
    "```\n",
    "\n",
    "```\n",
    "1|1.3|abc\n",
    "4|4.3|def\n",
    "```\n",
    "\n",
    "#### Example 2: Actual data\n",
    "\n",
    "\n",
    "```SQL\n",
    "SELECT * FROM lecture_TBD ;\n",
    "```\n",
    "\n",
    "```\n",
    "TBD\n",
    "```\n",
    "\n",
    "- This will return all the rows in the table which is not practical for tables with many rows\n",
    "- To just have a glance at the first X rows of the data:\n",
    "    ```SQL\n",
    "    SELECT * FROM lecture_TBD LIMIT 20 ;\n",
    "    ```\n",
    "\n",
    "\n",
    "- This works the same as the `head(dat, n = 20)` function in R from last week\n",
    "- **NB: There is no implicit ordering of rows in SQL**\n",
    "- If the data is not explicitly ordered (will be explained shortly) there is no order whatsoever\n",
    "- This is one of the main differences between SQL tables and tabular data in, e.g., an Excel sheet"
   ]
  },
  {
   "cell_type": "markdown",
   "metadata": {
    "slideshow": {
     "slide_type": "slide"
    }
   },
   "source": [
    "## Filtering data\n",
    "\n",
    "```SQL\n",
    "SELECT ... WHERE condition ;\n",
    "```\n",
    "The `WHERE` clause is part and parcel of the power of SQL (`WHERE`, `JOIN`, and indexing)\n",
    "\n",
    "You can test for many `condition`s:\n",
    "\n",
    "- Equality: `WHERE column_name = value` (as used in the example above)\n",
    "- Interval: `WHERE column_name BETWEEN lower_value AND higher_value`\n",
    "- Set membership: `WHERE column_name IN (value1, value2, ...)`\n",
    "- The set can be generated on the fly: `WHERE column_name IN (SELECT myvar FROM mytable)`\n",
    "- Simple pattern match in strings: `WHERE string_column LIKE '_ab%'` \n",
    "    (`_` denotes _one_ character, `%` denotes zero or more characters, see also `GLOB` and `REGEX`)\n",
    "- Missing values: `WHERE column_name IS NULL`\n",
    "\n",
    "Individual `condition`s can be composed with the logic operators `AND`, `OR`, and `NOT`"
   ]
  },
  {
   "cell_type": "markdown",
   "metadata": {
    "slideshow": {
     "slide_type": "slide"
    }
   },
   "source": [
    "* **Lab**: Working with a relational database manager\n",
    "* **Next week**: Using data from the Internet"
   ]
  }
 ],
 "metadata": {
  "celltoolbar": "Slideshow",
  "kernelspec": {
   "display_name": "Python 3",
   "language": "python",
   "name": "python3"
  },
  "language_info": {
   "codemirror_mode": {
    "name": "ipython",
    "version": 3
   },
   "file_extension": ".py",
   "mimetype": "text/x-python",
   "name": "python",
   "nbconvert_exporter": "python",
   "pygments_lexer": "ipython3",
   "version": "3.6.1"
  }
 },
 "nbformat": 4,
 "nbformat_minor": 2
}
