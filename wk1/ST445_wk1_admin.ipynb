{
 "cells": [
  {
   "cell_type": "markdown",
   "metadata": {
    "slideshow": {
     "slide_type": "slide"
    }
   },
   "source": [
    "### MY470 Computer Programming\n",
    "# Welcome to Computer Programming\n",
    "### Week 1 Admin, MT 2017"
   ]
  },
  {
   "cell_type": "markdown",
   "metadata": {
    "slideshow": {
     "slide_type": "slide"
    }
   },
   "source": [
    "## Course Content\n",
    "\n",
    "* Introduction to the fundamentals of computer programming"
   ]
  },
  {
   "cell_type": "markdown",
   "metadata": {
    "slideshow": {
     "slide_type": "fragment"
    }
   },
   "source": [
    "* We will cover the foundations of computer languages, object-oriented programming, and algorithms"
   ]
  },
  {
   "cell_type": "markdown",
   "metadata": {
    "slideshow": {
     "slide_type": "fragment"
    }
   },
   "source": [
    "* You will learn how to design, write and debug computer programs and how to evaluate algorithms"
   ]
  },
  {
   "cell_type": "markdown",
   "metadata": {
    "slideshow": {
     "slide_type": "slide"
    }
   },
   "source": [
    "## Prerequisites and Software\n",
    "\n",
    "* Introductory course — no prerequisites"
   ]
  },
  {
   "cell_type": "markdown",
   "metadata": {
    "slideshow": {
     "slide_type": "-"
    }
   },
   "source": [
    "* Software\n",
    "  * Python and R (Anaconda distributions) to learn basic concepts in computer science\n",
    "  * Jupyter notebooks web app to write code\n",
    "  * Github to share course documents and assignments"
   ]
  },
  {
   "cell_type": "markdown",
   "metadata": {
    "slideshow": {
     "slide_type": "slide"
    }
   },
   "source": [
    "## Books\n",
    "\n",
    "* Guttag, John V. *Introduction to Computation and Programming Using Python: With Application to Understanding Data.* Mit Press, 2016.\n",
    "\n"
   ]
  },
  {
   "cell_type": "markdown",
   "metadata": {
    "slideshow": {
     "slide_type": "slide"
    }
   },
   "source": [
    "## Course Meetings\n",
    "\n",
    "* Ten two-hour lectures: Mondays 13:00–15:00 in KSW.G.01\n",
    "* Ten 1.5-hour computer classes\n",
    "  * Tuesdays 15:00–16:30 in TW2 4.03\n",
    "  * Thursdays 14:30–16:00 in STC S018\n",
    "  * Fridays 15:00–16:30 in STC S018\n",
    "* No lecture/class in Week 6!\n",
    "* Office hours\n",
    "  * Milena: Mondays 15:00–17:00, COL 8.03\n",
    "  * Ken: by appointment, COL 8.11"
   ]
  },
  {
   "cell_type": "markdown",
   "metadata": {
    "slideshow": {
     "slide_type": "slide"
    }
   },
   "source": [
    "## Assessment\n",
    "\n",
    "* In-class assessment (50%)\n",
    "  * 10 problem sets (due on Fridays of weeks 1-5 and 7-11)\n",
    "  * Grades available before lecture the week after"
   ]
  },
  {
   "cell_type": "markdown",
   "metadata": {
    "slideshow": {
     "slide_type": "-"
    }
   },
   "source": [
    "* Take-home exam (50%) \n",
    "  * Substantive project requiring you to demonstrate concepts and skills learned from the course\n",
    "  * Can choose either Python or R"
   ]
  },
  {
   "cell_type": "markdown",
   "metadata": {
    "slideshow": {
     "slide_type": "slide"
    }
   },
   "source": [
    "## Collaboration\n",
    "\n",
    "* All assignments are individual unless we instruct you otherwise\n",
    "* For individual assignments:\n",
    "  * You can discuss solutions with peers\n",
    "  * However, you are not allowed to copy-paste code – you need to write the code yourself\n",
    "* You can use online resources but always give credit in comments if you borrow code/solutions"
   ]
  },
  {
   "cell_type": "markdown",
   "metadata": {
    "slideshow": {
     "slide_type": "slide"
    }
   },
   "source": [
    "## Course Outline\n",
    "\n",
    "| Week   | Language  | Topic   \n",
    "| :----: |:---------:| :----------------------\n",
    "| 1      | –         | What is Computation?             \n",
    "| 2      | Python    | Data Types \n",
    "| 3      | Python    | Control Flow\n",
    "| 4      | Python    | Functions\n",
    "| 5      | Python    | Classes\n",
    "| 6      | –         | –\n",
    "| 7      | Python    | Testing and Debugging\n",
    "| 8      | R         | Data Types and Control Flow\n",
    "| 9      | R         | Functions and Debugging\n",
    "| 10     | Python, R | Algorithms and Order of Growth\n",
    "| 11     | Python, R | Searching and Sorting Algorithms"
   ]
  }
 ],
 "metadata": {
  "celltoolbar": "Slideshow",
  "kernelspec": {
   "display_name": "Python 3",
   "language": "python",
   "name": "python3"
  },
  "language_info": {
   "codemirror_mode": {
    "name": "ipython",
    "version": 3
   },
   "file_extension": ".py",
   "mimetype": "text/x-python",
   "name": "python",
   "nbconvert_exporter": "python",
   "pygments_lexer": "ipython3",
   "version": "3.6.0"
  }
 },
 "nbformat": 4,
 "nbformat_minor": 2
}
