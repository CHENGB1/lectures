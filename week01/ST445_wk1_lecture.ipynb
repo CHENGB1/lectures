{
 "cells": [
  {
   "cell_type": "markdown",
   "metadata": {
    "slideshow": {
     "slide_type": "slide"
    }
   },
   "source": [
    "### ST445 Managing and Visualizing Data\n",
    "\n",
    "# Introduction to Data\n",
    "\n",
    "### Week 1 Lecture, MT 2017 - Kenneth Benoit"
   ]
  },
  {
   "cell_type": "markdown",
   "metadata": {
    "slideshow": {
     "slide_type": "slide"
    }
   },
   "source": [
    "## Data is Fundamental\n",
    "\n",
    "\n",
    "> _\"You can have data without information, but you cannot have information without data.\"_ – Daniel Keys Moran, an American computer programmer and science fiction writer.\n",
    "\n"
   ]
  },
  {
   "cell_type": "markdown",
   "metadata": {
    "slideshow": {
     "slide_type": "fragment"
    }
   },
   "source": [
    "> _\"In God we trust. All others must bring data.\"_ – W. Edwards Deming, statistician, professor, author, lecturer, and consultant."
   ]
  },
  {
   "cell_type": "markdown",
   "metadata": {
    "slideshow": {
     "slide_type": "slide"
    }
   },
   "source": [
    "# Structured data: Index cards\n",
    "\n",
    "* Origins in the 19th century, with botanist [Carl Linnaeus](https://en.wikipedia.org/wiki/Carl_Linnaeus), who needed to record species that he was studying\n",
    "\n",
    "* This was a form of _database_\n",
    "    - each piece of information about a species formed a _field_\n",
    "    - each species' entry in the system formed a _record_\n",
    "    - the records were _indexed_ using some reference system"
   ]
  },
  {
   "cell_type": "markdown",
   "metadata": {
    "slideshow": {
     "slide_type": "slide"
    }
   },
   "source": [
    "### Heyday: Use in libraries to catalog books\n",
    "\n",
    "![card catalog](figs/cardcatalog.jpg \"Card catalog\") ![card catalog room](figs/cardcatalog3.jpg \"Card catalog room\")\n",
    "    "
   ]
  },
  {
   "cell_type": "markdown",
   "metadata": {
    "slideshow": {
     "slide_type": "slide"
    }
   },
   "source": [
    "### a record looked like this\n",
    "\n",
    "![card record](figs/cardcatalog2.jpg \"Card record\")"
   ]
  },
  {
   "cell_type": "markdown",
   "metadata": {
    "slideshow": {
     "slide_type": "slide"
    }
   },
   "source": [
    "## Dewey decimal system\n",
    "\n",
    "* a proprietary library classification system first published in the United States by Melvil Dewey in 1876\n",
    "* scheme is made up of ten classes, each divided into ten divisions, each having ten sections\n",
    "* the system's notation uses Arabic numbers, with three whole numbers making up the main classes and sub-classes and decimals creating further divisions\n"
   ]
  },
  {
   "cell_type": "markdown",
   "metadata": {
    "slideshow": {
     "slide_type": "fragment"
    }
   },
   "source": [
    "* Example:\n",
    "\n",
    "    ```\n",
    "    500 Natural sciences and mathematics\n",
    "        510 Mathematics\n",
    "            516 Geometry\n",
    "                516.3 Analytic geometries\n",
    "                    516.37 Metric differential geometries\n",
    "                        516.375 Finsler Geometry\n",
    "    ```"
   ]
  },
  {
   "cell_type": "markdown",
   "metadata": {
    "slideshow": {
     "slide_type": "slide"
    }
   },
   "source": [
    "# How to index?\n",
    "\n",
    "* Problem: Could only sort the cards one way\n",
    "* Re-referencing was literally a manual operation"
   ]
  },
  {
   "cell_type": "markdown",
   "metadata": {
    "slideshow": {
     "slide_type": "slide"
    }
   },
   "source": [
    "* Contrast with the idea of electronic indexes, where assets are stored once, and many indexing and reference systems can be applied\n",
    "    ![photos](figs/photos.png \"Apple Photos\")\n",
    "* In most photographic software, edits are \"non-destructive\", and stored separately from the original images"
   ]
  },
  {
   "cell_type": "markdown",
   "metadata": {
    "slideshow": {
     "slide_type": "slide"
    }
   },
   "source": [
    "## Modern database manager\n",
    "\n",
    "* \"Normalizes\" data into relational tables, linked by \"keys\" (more on this in [Week 3](https://lse-st445.github.io/#week-3-creating-and-managing-databases))\n",
    "\n",
    "    ![relational data](figs/relational_data.png \"Relational data\")\n"
   ]
  },
  {
   "cell_type": "markdown",
   "metadata": {
    "slideshow": {
     "slide_type": "slide"
    }
   },
   "source": [
    "## Punch cards (and legacy systems)\n",
    "\n",
    "* How we used to enter programs into the computer\n",
    "   ![punch card](figs/punchard.jpg \"Punchcard\")\n",
    "* Pre-computer origins: 18-th century use in textile looms\n",
    "* Responsible for the 80-character legacy\n"
   ]
  },
  {
   "cell_type": "markdown",
   "metadata": {
    "slideshow": {
     "slide_type": "slide"
    }
   },
   "source": [
    "### Who knows what this is?\n",
    "\n",
    "![piano roll](figs/pianoroll2.jpg \"Piano roll\")"
   ]
  },
  {
   "cell_type": "markdown",
   "metadata": {
    "slideshow": {
     "slide_type": "notes"
    }
   },
   "source": [
    "That is a [piano roll](https://en.wikipedia.org/wiki/Piano_roll), where music to be played by a [player piano](https://en.wikipedia.org/wiki/Player_piano) is encoded."
   ]
  },
  {
   "cell_type": "markdown",
   "metadata": {
    "slideshow": {
     "slide_type": "slide"
    }
   },
   "source": [
    "# Changes in the world of data\n",
    "\n",
    "* volume of data in the modern world: 90% of the world's data [generated in the last _two years_](https://www.sciencedaily.com/releases/2013/05/130522085217.htm)\n"
   ]
  },
  {
   "cell_type": "markdown",
   "metadata": {
    "slideshow": {
     "slide_type": "fragment"
    }
   },
   "source": [
    "* and that was _in 2013_"
   ]
  },
  {
   "cell_type": "markdown",
   "metadata": {
    "slideshow": {
     "slide_type": "fragment"
    }
   },
   "source": [
    "* SKA: Square Kilometer Array\n",
    "    - a southern hemisphere radio telescope with a total of 1 km$^2$ of data sensors\n",
    "    - will generate 1 exabyte _daily_ = $1 \\times 10^{18}$ bytes\n",
    "    - = 1,000,000,000,000,000,000 bytes"
   ]
  },
  {
   "cell_type": "markdown",
   "metadata": {
    "slideshow": {
     "slide_type": "slide"
    }
   },
   "source": [
    "* compare this with the Apollo Guidance Computer (1966), which guided the first humans to the moon\n",
    "    - 16-bit wordlength, 2048 words RAM (magnetic core memory) = _4KB_\n",
    "    - 36,864 words ROM (core rope memory) = _73KB_\n",
    "    ![](figs/agc.jpg)\n"
   ]
  },
  {
   "cell_type": "markdown",
   "metadata": {
    "slideshow": {
     "slide_type": "slide"
    }
   },
   "source": [
    "# Basic units of data\n",
    "\n",
    "* Bits\n",
    "   - smallest unit of storage, a 0 or 1\n",
    "   - anything that can store two states - now \"transistors\", used to be vacuum tubes\n",
    "   - with $n$ bits, can store $2^n$ patterns - so one byte can store 256 patterns\n"
   ]
  },
  {
   "cell_type": "markdown",
   "metadata": {
    "slideshow": {
     "slide_type": "slide"
    }
   },
   "source": [
    "* Bytes\n",
    "   - eight _bits_ = one _byte_\n",
    "   - \"eight bit encoding\" - represented characters, such as `A` represented as 65\n",
    "   \n",
    "  ![ASCII](figs/ASCII.png)"
   ]
  },
  {
   "cell_type": "markdown",
   "metadata": {
    "slideshow": {
     "slide_type": "slide"
    }
   },
   "source": [
    "### multi-byte units\n",
    "\n",
    "| unit     | abbreviation | total bytes  | nearest decimal equivalent |\n",
    "|:--------:|:------------:|-------------:|---------------------------:|\n",
    "| kilobyte |     KB       | 1,024^1      |             1000^1         |\n",
    "| megabyte |     MB       | 1,024^2      |             1000^2         |\n",
    "| gigabyte |     GB       | 1,024^3      |             1000^3         |\n",
    "| terabyte |     TB       | 1,024^4      |             1000^4         |\n",
    "| petabyte |     PB       | 1,024^5      |             1000^5         |\n",
    "| exabyte  |     EB       | 1,024^6      |             1000^6         |\n",
    "| zettabyte|     ZB       | 1,024^7      |             1000^7         |\n",
    "| yottabyte|     YB       | 1,024^8      |             1000^8         |\n",
    "\n",
    "* this is why 1GB is greater than 1 billion bytes"
   ]
  },
  {
   "cell_type": "markdown",
   "metadata": {
    "slideshow": {
     "slide_type": "slide"
    }
   },
   "source": [
    "![decimal v. binary](figs/decimalvbinary.png)"
   ]
  },
  {
   "cell_type": "markdown",
   "metadata": {
    "slideshow": {
     "slide_type": "slide"
    }
   },
   "source": [
    "# Data types: Generically\n",
    "\n",
    "* objects are _bound_ to an identifier, e.g."
   ]
  },
  {
   "cell_type": "code",
   "execution_count": 2,
   "metadata": {
    "slideshow": {
     "slide_type": "fragment"
    }
   },
   "outputs": [
    {
     "name": "stdout",
     "output_type": "stream",
     "text": [
      "98.6\n"
     ]
    }
   ],
   "source": [
    "temperature = 98.6\n",
    "print(temperature)"
   ]
  },
  {
   "cell_type": "markdown",
   "metadata": {
    "slideshow": {
     "slide_type": "fragment"
    }
   },
   "source": [
    "* here, `temperature` is a variable name assigned to the literal floating-point object with the value of 98.6\n",
    "* in Python, this is an instance of the **float** class\n",
    "* identifiers in R and Python are _case-sensitive_\n",
    "* some identifiers are typically reserved, e.g.\n",
    "    ```Python\n",
    "    False, True, None, or, and  # Python\n",
    "    FALSE, TRUE, NA             # R\n",
    "    ```"
   ]
  },
  {
   "cell_type": "markdown",
   "metadata": {
    "slideshow": {
     "slide_type": "fragment"
    }
   },
   "source": [
    "* All programming languages use comments, for humans to read\n",
    "    - this is anything that follows the `#` character in both Python and R\n",
    "\n",
    "> \"Let us change our traditional attitude to the construction of programs: Instead of imagining that our main task is to instruct a computer what to do, let us concentrate rather on explaining to human beings what we want a computer to do.\"  -- Donald Knuth, _Literate Programming_ (1984)"
   ]
  },
  {
   "cell_type": "markdown",
   "metadata": {
    "slideshow": {
     "slide_type": "slide"
    }
   },
   "source": [
    "### Instantiation\n",
    "\n",
    "* objects have _classes_, meaning they represent a \"type\" of object\n",
    "* _instantiation_ means creating a new instance of that class"
   ]
  },
  {
   "cell_type": "markdown",
   "metadata": {
    "slideshow": {
     "slide_type": "fragment"
    }
   },
   "source": [
    "* \"immutable\" objects cannot be subsequently changed\n",
    "    \n",
    "| **Python class** | **Immutable** | **Description**                   |  **R class** |\n",
    "|:-----------------|:-------------:|:----------------------------------|:------------:|\n",
    "| bool             |      Yes      | Boolean value                     |    logical   |\n",
    "| int              |      Yes      | integer number                    |    integer   |\n",
    "| float            |      Yes      | floating-point number             |    numeric   |\n",
    "| list             |       No      | mutable sequence of objects       |     list     |\n",
    "| tuple            |      Yes      | immutable sequence of objects     |       -      |\n",
    "| str              |      Yes      | character string                  |   character  |\n",
    "| set              |       No      | unordered set of distinct objects |       -      |\n",
    "| frozenset        |      Yes      | immutable form of set class       |       -      |\n",
    "| dict             |       No      | dictionary                        | (named) list |"
   ]
  },
  {
   "cell_type": "markdown",
   "metadata": {
    "slideshow": {
     "slide_type": "slide"
    }
   },
   "source": [
    "# How to index data\n",
    "\n",
    "* Endian debate\n",
    "   - Big Endian Byte Order: The most significant byte (the \"big end\") of the data is placed at the byte with the lowest address\n",
    "    - Little Endian Byte Order: The least significant byte (the \"little end\") of the data is placed at the byte with the lowest address\n",
    "    - Comes from _Gulliver's Travels_"
   ]
  },
  {
   "cell_type": "markdown",
   "metadata": {
    "slideshow": {
     "slide_type": "slide"
    }
   },
   "source": [
    "### (indexing data cont.)\n",
    "\n",
    "* index from 0 or from 1?\n",
    "\n",
    "   - where an index begins counting, when addressing elements of a data object\n",
    "   - [most languages index from 0](https://en.wikipedia.org/wiki/Comparison_of_programming_languages_%28array%29#Array_system_cross-reference_list)\n",
    "   - human ages - do they index from 0?"
   ]
  },
  {
   "cell_type": "code",
   "execution_count": 6,
   "metadata": {
    "slideshow": {
     "slide_type": "fragment"
    }
   },
   "outputs": [
    {
     "data": {
      "text/plain": [
       "'Hello'"
      ]
     },
     "execution_count": 6,
     "metadata": {},
     "output_type": "execute_result"
    }
   ],
   "source": [
    "string_example = \"Hello World\"\n",
    "string_example[0:5]"
   ]
  },
  {
   "cell_type": "markdown",
   "metadata": {
    "slideshow": {
     "slide_type": "fragment"
    }
   },
   "source": [
    "* Python indexes from 0, R from 1.  See [R example here](R_indexing.ipynb)\n"
   ]
  },
  {
   "cell_type": "markdown",
   "metadata": {
    "slideshow": {
     "slide_type": "slide"
    }
   },
   "source": [
    "# git\n",
    "\n",
    "* `git`: a revision control system\n",
    "* Allows for complete history of changes, branching, staging areas, and flexible and distributed workflows\n",
    "* simplified workflow (from [Anita Cheng's excellent blog post](http://anitacheng.com/git-for-non-developers))\n",
    "\n",
    "   ![](figs/git.jpg)"
   ]
  },
  {
   "cell_type": "markdown",
   "metadata": {
    "slideshow": {
     "slide_type": "slide"
    }
   },
   "source": [
    "* Works through the command line, or through GUI clients, or through most IDEs and (good) editors\n",
    "\n",
    "![command-line git](figs/commandgit.png \"command-line git\")"
   ]
  },
  {
   "cell_type": "markdown",
   "metadata": {
    "slideshow": {
     "slide_type": "slide"
    }
   },
   "source": [
    "* or through editors (here, the excellent [Atom](https://atom.io) editor)\n",
    "\n",
    "    ![atom git](figs/gitatom.png \"atom git\")"
   ]
  },
  {
   "cell_type": "markdown",
   "metadata": {
    "slideshow": {
     "slide_type": "slide"
    }
   },
   "source": [
    "# GitHub\n",
    "\n",
    "* a website and hosting platform for git repositories"
   ]
  },
  {
   "cell_type": "markdown",
   "metadata": {
    "slideshow": {
     "slide_type": "fragment"
    }
   },
   "source": [
    "* and so much more...\n",
    "    * publishing websites: http://kenbenoit.net, whose source code is at https://github.com/kbenoit/kbenoit.github.io\n",
    "    * \"continous integration\" hooks: https://github.com/kbenoit/spacyr (for instance - see the badges)\n",
    "    * Issue tracking: https://github.com/kbenoit/spacyr/issues\n",
    "    * Inspecting code: (e.g.) https://github.com/kbenoit/spacyr/blob/master/R/python-functions.R"
   ]
  },
  {
   "cell_type": "markdown",
   "metadata": {
    "slideshow": {
     "slide_type": "fragment"
    }
   },
   "source": [
    "* [GitHub classroom](https://classroom.github.com)\n",
    "* Free stuff for students! https://education.github.com/pack\n"
   ]
  },
  {
   "cell_type": "markdown",
   "metadata": {
    "slideshow": {
     "slide_type": "slide"
    }
   },
   "source": [
    "# More great resources for using git/GitHub\n",
    "\n",
    "* [An easy git Cheatsheet](http://rogerdudler.github.io/git-guide/files/git_cheat_sheet.pdf), by Nina Jaeschke and Roger Dudler \n",
    "* [git - the simple guide](http://rogerdudler.github.io/git-guide/) by Roger Dudler"
   ]
  },
  {
   "cell_type": "markdown",
   "metadata": {
    "slideshow": {
     "slide_type": "fragment"
    }
   },
   "source": [
    "### Some people have entire, open-source, user-commented books online, such as: \n",
    "\n",
    "* [_R for Data Science_](http://r4ds.had.co.nz)\n",
    "    - with [source code here](https://github.com/hadley/r4ds)\n",
    "    - with [GitHub issues here](https://github.com/hadley/r4ds/issues)\n",
    "    - and pull requests - [examples here](https://github.com/hadley/r4ds/pulls)"
   ]
  },
  {
   "cell_type": "markdown",
   "metadata": {
    "slideshow": {
     "slide_type": "slide"
    }
   },
   "source": [
    "# git Example\n",
    "\n",
    "### Fixing a broken R Jupyter notebook\n",
    "\n",
    "This Jupyter notebook is broken and needs to be fixed:\n",
    "\n",
    "https://github.com/lse-st445/lectures/blob/master/week01/R_example.ipynb\n"
   ]
  },
  {
   "cell_type": "markdown",
   "metadata": {
    "slideshow": {
     "slide_type": "fragment"
    }
   },
   "source": [
    "### How to fix it:\n",
    "* clone the repository\n",
    "* edit the file\n",
    "* stage the changes\n",
    "* commit the changes\n",
    "* issue a \"pull request\""
   ]
  },
  {
   "cell_type": "markdown",
   "metadata": {
    "slideshow": {
     "slide_type": "slide"
    }
   },
   "source": [
    "# Markdown (and other markup languages)\n",
    "\n",
    "* Idea of a \"markup\" language: HTML, XML, LaTeX\n",
    "* \"Markdown\"\n",
    "    - Created by John Gruber as a simple way for non-programming types to write in an easy-to-read format that could be converted directly into HTML\n",
    "    - No opening or closing tags\n",
    "    - Plain text, and can be read when not rendered\n",
    "* Markdown has [many \"flavours\"](https://github.com/commonmark/CommonMark/wiki/Markdown-Flavors)"
   ]
  },
  {
   "cell_type": "markdown",
   "metadata": {
    "slideshow": {
     "slide_type": "slide"
    }
   },
   "source": [
    "# Markdown example\n",
    "\n",
    "This is a markdown example.\n",
    "* bullet list 1\n",
    "* bullet list 2\n",
    "\n",
    "> \"[I love deadlines. I like the whooshing sound they make as they fly by.](https://www.brainyquote.com/quotes/quotes/d/douglasada134151.html?src=t_funny)\"  \n",
    "-- _Douglas Adams_"
   ]
  },
  {
   "cell_type": "markdown",
   "metadata": {
    "slideshow": {
     "slide_type": "fragment"
    }
   },
   "source": [
    "----\n",
    "```\n",
    "# Markdown example\n",
    "\n",
    "This is a markdown example\n",
    "* bullet list 1\n",
    "* bullet list 2\n",
    "\n",
    "> \"[I love deadlines. I like the whooshing sound they make as they fly by.](https://www.brainyquote.com/quotes/quotes/d/douglasada134151.html?src=t_funny)\"  \n",
    "-- _Douglas Adams_\n",
    "```\n"
   ]
  },
  {
   "cell_type": "markdown",
   "metadata": {
    "slideshow": {
     "slide_type": "notes"
    }
   },
   "source": [
    "A good reference for Markdown: https://ia.net/writer/support/general/markdown-guide/."
   ]
  },
  {
   "cell_type": "markdown",
   "metadata": {
    "slideshow": {
     "slide_type": "slide"
    }
   },
   "source": [
    "# Upcoming\n",
    "\n",
    "-------\n",
    "\n",
    "* **Lab**: Working with Jupyter, working with Github, setting up a web page\n",
    "* **Next week**: The shape of data"
   ]
  }
 ],
 "metadata": {
  "celltoolbar": "Slideshow",
  "kernelspec": {
   "display_name": "Python 3",
   "language": "python",
   "name": "python3"
  },
  "language_info": {
   "codemirror_mode": {
    "name": "ipython",
    "version": 3
   },
   "file_extension": ".py",
   "mimetype": "text/x-python",
   "name": "python",
   "nbconvert_exporter": "python",
   "pygments_lexer": "ipython3",
   "version": "3.6.1"
  }
 },
 "nbformat": 4,
 "nbformat_minor": 2
}
