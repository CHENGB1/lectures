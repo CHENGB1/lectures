{
 "cells": [
  {
   "cell_type": "markdown",
   "metadata": {
    "slideshow": {
     "slide_type": "slide"
    }
   },
   "source": [
    "### ST445 Managing and Visualizing Data\n",
    "\n",
    "# Introduction to Data\n",
    "\n",
    "### Week 1 Lecture, MT 2017 - Kenneth Benoit"
   ]
  },
  {
   "cell_type": "markdown",
   "metadata": {
    "slideshow": {
     "slide_type": "slide"
    }
   },
   "source": [
    "## Data is Fundamental\n",
    "\n",
    "\n",
    "> _\"You can have data without information, but you cannot have information without data.\"_ – Daniel Keys Moran, an American computer programmer and science fiction writer.\n",
    "\n"
   ]
  },
  {
   "cell_type": "markdown",
   "metadata": {
    "slideshow": {
     "slide_type": "fragment"
    }
   },
   "source": [
    "> _\"In God we trust. All others must bring data.\"_ – W. Edwards Deming, statistician, professor, author, lecturer, and consultant."
   ]
  },
  {
   "cell_type": "markdown",
   "metadata": {
    "slideshow": {
     "slide_type": "slide"
    }
   },
   "source": [
    "# Structured data: Index cards\n",
    "\n",
    "* Origins in the 19th century, with botanist [Carl Linnaeus](https://en.wikipedia.org/wiki/Carl_Linnaeus), who needed to record species that he was studying\n",
    "\n",
    "* This was a form of _database_\n",
    "    - each piece of information about a species formed a _field_\n",
    "    - each species' entry in the system formed a _record_\n",
    "    - the records were _indexed_ using some reference system"
   ]
  },
  {
   "cell_type": "markdown",
   "metadata": {
    "slideshow": {
     "slide_type": "slide"
    }
   },
   "source": [
    "* Heyday: Use in libraries to catalog books\n",
    "\n",
    "    ![card catalog](figs/cardcatalog.jpg \"Card catalog\")"
   ]
  },
  {
   "cell_type": "markdown",
   "metadata": {
    "slideshow": {
     "slide_type": "slide"
    }
   },
   "source": [
    "* a record looked like this\n",
    "\n",
    "![card record](figs/cardcatalog2.jpg \"Card record\")"
   ]
  },
  {
   "cell_type": "markdown",
   "metadata": {
    "slideshow": {
     "slide_type": "fragment"
    }
   },
   "source": [
    "## Dewey decimal system\n",
    "\n",
    "* a proprietary library classification system first published in the United States by Melvil Dewey in 1876\n",
    "* scheme is made up of ten classes, each divided into ten divisions, each having ten sections\n",
    "* the system's notation uses Arabic numbers, with three whole numbers making up the main classes and sub-classes and decimals creating further divisions\n"
   ]
  },
  {
   "cell_type": "markdown",
   "metadata": {
    "slideshow": {
     "slide_type": "fragment"
    }
   },
   "source": [
    "* Example:\n",
    "\n",
    "    ```\n",
    "    500 Natural sciences and mathematics\n",
    "        510 Mathematics\n",
    "            516 Geometry\n",
    "                516.3 Analytic geometries\n",
    "                    516.37 Metric differential geometries\n",
    "                        516.375 Finsler Geometry\n",
    "    ```"
   ]
  },
  {
   "cell_type": "markdown",
   "metadata": {
    "slideshow": {
     "slide_type": "slide"
    }
   },
   "source": [
    "# How to index?\n",
    "\n",
    "* Problem: Could only sort the cards one way\n",
    "* Re-referencing was literally a manual operation"
   ]
  },
  {
   "cell_type": "markdown",
   "metadata": {
    "slideshow": {
     "slide_type": "fragment"
    }
   },
   "source": [
    "* Contrast with the idea of electronic indexes, where assets are stored once, and many indexing and reference systems can be applied\n",
    "    ![photos](figs/photos.png \"Apple Photos\")\n",
    "* In most photographic software, edits are \"non-destructive\", and stored separately from the original images"
   ]
  },
  {
   "cell_type": "markdown",
   "metadata": {
    "slideshow": {
     "slide_type": "slide"
    }
   },
   "source": [
    "## Modern database manager\n",
    "\n",
    "* \"Normalizes\" data into relational tables, linked by \"keys\" (more on this in [Week 3](https://lse-st445.github.io/#week-3-creating-and-managing-databases)\n",
    "\n",
    "    ![relational data](figs/relational_data.png \"Relational data\")\n"
   ]
  },
  {
   "cell_type": "markdown",
   "metadata": {
    "slideshow": {
     "slide_type": "slide"
    }
   },
   "source": [
    "## Punch cards (and legacy systems)\n",
    "\n",
    "* How we used to enter programs into the computer\n",
    "   ![punch card](figs/punchard.jpg \"Punchcard\")\n",
    "* Pre-computer origins: 18-th century use in textile looms\n",
    "* Responsible for the 80-character legacy\n"
   ]
  },
  {
   "cell_type": "markdown",
   "metadata": {
    "slideshow": {
     "slide_type": "slide"
    }
   },
   "source": [
    "* Who knows what this is?\n",
    "   ![piano roll](figs/pianoroll.png \"Piano roll\")"
   ]
  },
  {
   "cell_type": "markdown",
   "metadata": {
    "slideshow": {
     "slide_type": "notes"
    }
   },
   "source": [
    "That is a [piano roll](https://en.wikipedia.org/wiki/Piano_roll), where music to be played by a [player piano](https://en.wikipedia.org/wiki/Player_piano) is encoded."
   ]
  },
  {
   "cell_type": "markdown",
   "metadata": {
    "slideshow": {
     "slide_type": "slide"
    }
   },
   "source": [
    "# Changes in the world of data\n",
    "\n",
    "* volume of data in the modern world\n",
    "* Apollo landing module (from inaugural lecture)"
   ]
  },
  {
   "cell_type": "markdown",
   "metadata": {
    "slideshow": {
     "slide_type": "fragment"
    }
   },
   "source": [
    "* and hugely varied and complex ways for computers to communicate data"
   ]
  },
  {
   "cell_type": "markdown",
   "metadata": {
    "slideshow": {
     "slide_type": "slide"
    }
   },
   "source": [
    "# Basic units of data\n",
    "\n",
    "https://web.stanford.edu/class/cs101/bits-bytes.html\n",
    "\n",
    "* Bits\n",
    "* Bytes\n",
    "* Why we count in hexadecimal (for example)\n"
   ]
  },
  {
   "cell_type": "markdown",
   "metadata": {
    "slideshow": {
     "slide_type": "slide"
    }
   },
   "source": [
    "# Data types: Generically\n",
    "\n"
   ]
  },
  {
   "cell_type": "markdown",
   "metadata": {
    "slideshow": {
     "slide_type": "slide"
    }
   },
   "source": [
    "# Data types: Python\n",
    "\n"
   ]
  },
  {
   "cell_type": "markdown",
   "metadata": {
    "slideshow": {
     "slide_type": "slide"
    }
   },
   "source": [
    "# Data types: R\n",
    "\n"
   ]
  },
  {
   "cell_type": "markdown",
   "metadata": {
    "slideshow": {
     "slide_type": "slide"
    }
   },
   "source": [
    "# git\n",
    "\n",
    "* `git`: a revision control system\n",
    "* Allows for complete history of changes, branching, staging areas, and flexible and distributed workflows\n"
   ]
  },
  {
   "cell_type": "markdown",
   "metadata": {
    "slideshow": {
     "slide_type": "fragment"
    }
   },
   "source": [
    "* Works through the command line, or through GUI clients, or through most IDEs and (good) editors\n",
    "\n",
    "![command-line git](figs/commandgit.png \"command-line git\")"
   ]
  },
  {
   "cell_type": "markdown",
   "metadata": {
    "slideshow": {
     "slide_type": "slide"
    }
   },
   "source": [
    "* or through editors (here, the excellent [Atom](https://atom.io) editor)\n",
    "\n",
    "    ![atom git](figs/gitatom.png \"atom git\")"
   ]
  },
  {
   "cell_type": "markdown",
   "metadata": {
    "slideshow": {
     "slide_type": "slide"
    }
   },
   "source": [
    "# GitHub\n",
    "\n",
    "* a website and hosting platform for git repositories"
   ]
  },
  {
   "cell_type": "markdown",
   "metadata": {
    "slideshow": {
     "slide_type": "fragment"
    }
   },
   "source": [
    "* and so much more...\n",
    "    * publishing websites: http://kenbenoit.net, whose source code is at https://github.com/kbenoit/kbenoit.github.io\n",
    "    * \"continous integration\" hooks: https://github.com/kbenoit/spacyr (for instance - see the badges)\n",
    "    * Issue tracking: https://github.com/kbenoit/spacyr/issues\n",
    "    * Inspecting code: (e.g.) https://github.com/kbenoit/spacyr/blob/master/R/python-functions.R"
   ]
  },
  {
   "cell_type": "markdown",
   "metadata": {
    "slideshow": {
     "slide_type": "fragment"
    }
   },
   "source": [
    "* [GitHub classroom](https://classroom.github.com)\n",
    "* Free stuff for students! https://education.github.com/pack\n"
   ]
  },
  {
   "cell_type": "markdown",
   "metadata": {
    "slideshow": {
     "slide_type": "slide"
    }
   },
   "source": [
    "# git Example\n",
    "\n",
    "## Fixing a broken R Jupyter notebook\n",
    "\n"
   ]
  },
  {
   "cell_type": "markdown",
   "metadata": {
    "slideshow": {
     "slide_type": "slide"
    }
   },
   "source": [
    "# Markdown (and other markup languages)\n",
    "\n",
    "* Idea of a \"markup\" language\n",
    "    - HTML\n",
    "    - XML\n",
    "    - LaTeX\n",
    "* \"Markdown\" and why it exists\n"
   ]
  },
  {
   "cell_type": "markdown",
   "metadata": {
    "slideshow": {
     "slide_type": "slide"
    }
   },
   "source": [
    "# Markdown example\n",
    "\n",
    "This is a markdown example.\n",
    "* bullet list 1\n",
    "* bullet list 2\n",
    "\n",
    "> \"[I love deadlines. I like the whooshing sound they make as they fly by.](https://www.brainyquote.com/quotes/quotes/d/douglasada134151.html?src=t_funny)\"  \n",
    "-- _Douglas Adams_"
   ]
  },
  {
   "cell_type": "markdown",
   "metadata": {
    "slideshow": {
     "slide_type": "fragment"
    }
   },
   "source": [
    "Markdown source:\n",
    "\n",
    "---\n",
    "\n",
    "```\n",
    "# Markdown example\n",
    "\n",
    "This is a markdown example\n",
    "* bullet list 1\n",
    "* bullet list 2\n",
    "\n",
    "> \"[I love deadlines. I like the whooshing sound they make as they fly by.](https://www.brainyquote.com/quotes/quotes/d/douglasada134151.html?src=t_funny)\"  \n",
    "-- _Douglas Adams_\n",
    "```\n",
    "---\n",
    "\n",
    "A good reference for Markdown: https://ia.net/writer/support/general/markdown-guide/\n"
   ]
  },
  {
   "cell_type": "markdown",
   "metadata": {
    "slideshow": {
     "slide_type": "slide"
    }
   },
   "source": []
  },
  {
   "cell_type": "markdown",
   "metadata": {
    "slideshow": {
     "slide_type": "slide"
    }
   },
   "source": [
    "### Static Semantics in Programming Languages\n",
    "\n",
    "* Rules for forming meaningful syntactically valid strings"
   ]
  },
  {
   "cell_type": "code",
   "execution_count": null,
   "metadata": {
    "collapsed": true,
    "slideshow": {
     "slide_type": "fragment"
    }
   },
   "outputs": [],
   "source": [
    "'MY'/470"
   ]
  },
  {
   "cell_type": "markdown",
   "metadata": {
    "slideshow": {
     "slide_type": "slide"
    }
   },
   "source": [
    "### Semantics in Programming Languages\n",
    "\n",
    "* The meaning associated with a syntactically correct string that has no static semantic errors\n",
    "* Programming languages have simple semantics — statements have only one meaning"
   ]
  },
  {
   "cell_type": "markdown",
   "metadata": {
    "slideshow": {
     "slide_type": "fragment"
    }
   },
   "source": [
    "* **But this may not be the meaning the programmer had in mind!**"
   ]
  },
  {
   "cell_type": "markdown",
   "metadata": {
    "slideshow": {
     "slide_type": "slide"
    }
   },
   "source": [
    "## Types of Programming Languages\n",
    "\n",
    "* Low-level vs. high-level\n",
    "* Genral vs. application-targetted\n",
    "* Interpreted vs. compiled"
   ]
  },
  {
   "cell_type": "markdown",
   "metadata": {
    "slideshow": {
     "slide_type": "slide"
    }
   },
   "source": [
    "## Computer Program\n",
    "\n",
    "* A sequence of definitions and commands\n",
    "  * Commands (or \"statements\") instruct the computer to do something\n",
    "* For interpreted languages:\n",
    "  * Programs are executed by the language interpreter (or \"shell\")\n",
    "  * They can be typed directly in the shell \n",
    "  * Or they can be stored in a file and run from the shell\n"
   ]
  },
  {
   "cell_type": "markdown",
   "metadata": {
    "slideshow": {
     "slide_type": "slide"
    }
   },
   "source": [
    "## Objects, Data Types, and Expressions\n",
    "\n",
    "* Programs manipulate objects\n",
    "* Objects have types\n",
    "  * Scalar — indivisible\n",
    "  * Non-scalar — with internal structure\n",
    "* Expressions combine objects and operators\n"
   ]
  },
  {
   "cell_type": "code",
   "execution_count": null,
   "metadata": {
    "collapsed": true,
    "slideshow": {
     "slide_type": "fragment"
    }
   },
   "outputs": [],
   "source": [
    "# scalar objects\n",
    "2\n",
    "0.125\n",
    "True\n",
    "\n",
    "# non-scalar objects\n",
    "'This is a string.'\n",
    "[1, 2, 3, 'a', 'x']\n",
    "\n",
    "# expressions\n",
    "2 / 0.125\n",
    "'MY' + '470'"
   ]
  },
  {
   "cell_type": "markdown",
   "metadata": {
    "slideshow": {
     "slide_type": "slide"
    }
   },
   "source": [
    "## Variables\n",
    "\n",
    "* Variables associate objects with a name"
   ]
  },
  {
   "cell_type": "code",
   "execution_count": null,
   "metadata": {
    "collapsed": true,
    "slideshow": {
     "slide_type": "fragment"
    }
   },
   "outputs": [],
   "source": [
    "a = 3.14\n",
    "b = 11.2\n",
    "c = a*(b**2)"
   ]
  },
  {
   "cell_type": "code",
   "execution_count": null,
   "metadata": {
    "collapsed": true,
    "slideshow": {
     "slide_type": "fragment"
    }
   },
   "outputs": [],
   "source": [
    "pi = 3.14\n",
    "diameter = 11.2\n",
    "area = pi*(diameter**2)"
   ]
  },
  {
   "cell_type": "markdown",
   "metadata": {
    "slideshow": {
     "slide_type": "fragment"
    }
   },
   "source": [
    "* **Variable names help humans read programs!**"
   ]
  },
  {
   "cell_type": "markdown",
   "metadata": {
    "slideshow": {
     "slide_type": "fragment"
    }
   },
   "source": [
    "* **Comments also improve readabilty!**"
   ]
  },
  {
   "cell_type": "code",
   "execution_count": null,
   "metadata": {
    "collapsed": true,
    "slideshow": {
     "slide_type": "-"
    }
   },
   "outputs": [],
   "source": [
    "pi = 3.14\n",
    "diameter = 11.2 # diameter of circle\n",
    "area = pi*((diameter/2)**2) # estimate area of circle using diameter "
   ]
  },
  {
   "cell_type": "markdown",
   "metadata": {
    "slideshow": {
     "slide_type": "slide"
    }
   },
   "source": [
    "## Computer Bugs\n",
    "\n",
    "![Computer Bug](figs/bug.jpg \"Computer Bug\")\n",
    "\n",
    "The actual first computer bug. On September 9, 1947, Admiral Grace Hopper found this moth trapped on a relay of the Harvard Mark II computer."
   ]
  },
  {
   "cell_type": "markdown",
   "metadata": {
    "slideshow": {
     "slide_type": "slide"
    }
   },
   "source": [
    "## What Is Computation?\n",
    "\n",
    "We use programming languages to write programs that instruct computers to perform algorithms, which calculate results or process data.\n"
   ]
  },
  {
   "cell_type": "markdown",
   "metadata": {
    "slideshow": {
     "slide_type": "fragment"
    }
   },
   "source": [
    "-------\n",
    "\n",
    "* **Lab**: Installing Anaconda, working with Jupyter, and uploading assignments on Github\n",
    "* **Next week**: Data types in Python"
   ]
  }
 ],
 "metadata": {
  "celltoolbar": "Slideshow",
  "kernelspec": {
   "display_name": "Python 3",
   "language": "python",
   "name": "python3"
  },
  "language_info": {
   "codemirror_mode": {
    "name": "ipython",
    "version": 3
   },
   "file_extension": ".py",
   "mimetype": "text/x-python",
   "name": "python",
   "nbconvert_exporter": "python",
   "pygments_lexer": "ipython3",
   "version": "3.6.1"
  }
 },
 "nbformat": 4,
 "nbformat_minor": 2
}
