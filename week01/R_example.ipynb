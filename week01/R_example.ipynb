{
 "cells": [
  {
   "cell_type": "markdown",
   "metadata": {},
   "source": [
    "# My simple git example\n",
    "\n",
    "This is an example of a simple Jupyter notebook that can be edited and fixed.\n",
    "\n",
    "There is an R programming block that contains an intentional mistake below."
   ]
  },
  {
   "cell_type": "code",
   "execution_count": 1,
   "metadata": {
    "scrolled": true
   },
   "outputs": [
    {
     "ename": "ERROR",
     "evalue": "Error in plot(wt, mpg, main = \"Scatterplot Example\", xlab = \"Car Weight \", : object 'wt' not found\n",
     "output_type": "error",
     "traceback": [
      "Error in plot(wt, mpg, main = \"Scatterplot Example\", xlab = \"Car Weight \", : object 'wt' not found\nTraceback:\n",
      "1. plot(wt, mpg, main = \"Scatterplot Example\", xlab = \"Car Weight \", \n .     ylab = \"Miles Per Gallon \", pch = 19)"
     ]
    }
   ],
   "source": [
    "plot(wt, mpg, \n",
    "     main = \"Scatterplot Example\", \n",
    "     xlab = \"Car Weight \", ylab = \"Miles Per Gallon \", \n",
    "     pch = 19)\n",
    "\n",
    "# Add fit lines\n",
    "abline(lm(mpg ~ wt), col = \"red\")    # regression line (y~x) \n",
    "lines(lowess(wt, mpg), col = \"blue\") # lowess line (x,y)"
   ]
  },
  {
   "cell_type": "code",
   "execution_count": null,
   "metadata": {
    "collapsed": true
   },
   "outputs": [],
   "source": []
  }
 ],
 "metadata": {
  "kernelspec": {
   "display_name": "R",
   "language": "R",
   "name": "ir"
  },
  "language_info": {
   "codemirror_mode": "r",
   "file_extension": ".r",
   "mimetype": "text/x-r-source",
   "name": "R",
   "pygments_lexer": "r",
   "version": "3.4.1"
  }
 },
 "nbformat": 4,
 "nbformat_minor": 2
}
