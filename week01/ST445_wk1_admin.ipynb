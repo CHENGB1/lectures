{
 "cells": [
  {
   "cell_type": "markdown",
   "metadata": {
    "slideshow": {
     "slide_type": "slide"
    }
   },
   "source": [
    "# ST445 Managing and Visualizing Data\n",
    "\n",
    "\n",
    "## Week 1, MT 2017\n",
    "\n",
    "### [Kenneth Benoit](mailto:kbenoit@lse.ac.uk) (Methodology) and [Milan Vojnovic](mailto:m.vojnovic@lse.ac.uk) (Statistics)\n",
    "\n",
    "#### [Christine Yuen](L.T.Yuen@lse.ac.uk), TA"
   ]
  },
  {
   "cell_type": "markdown",
   "metadata": {
    "slideshow": {
     "slide_type": "slide"
    }
   },
   "source": [
    "# Plan today\n",
    "\n",
    "* Administration and logisitics (DONE)\n",
    "* A brief history of data and the origins of databases\n",
    "* Information versus data\n",
    "* How big is big data?\n",
    "* Data types and storage units\n",
    "* git and Github\n",
    "* Markdown in brief\n",
    "* Lab preview"
   ]
  },
  {
   "cell_type": "markdown",
   "metadata": {
    "slideshow": {
     "slide_type": "slide"
    }
   },
   "source": [
    "# Why take this course?\n",
    "\n"
   ]
  },
  {
   "cell_type": "markdown",
   "metadata": {
    "slideshow": {
     "slide_type": "fragment"
    }
   },
   "source": [
    "* You have to"
   ]
  },
  {
   "cell_type": "markdown",
   "metadata": {
    "slideshow": {
     "slide_type": "fragment"
    }
   },
   "source": [
    "* It provides \"data science literacy\""
   ]
  },
  {
   "cell_type": "markdown",
   "metadata": {
    "slideshow": {
     "slide_type": "fragment"
    }
   },
   "source": [
    "* You will learn\n",
    "    - basic data types and structures\n",
    "    - the use of git and [GitHub](http://github.com)\n",
    "    - how to clean, organize, and reshape data\n",
    "    - how to create and use databases\n",
    "    - how to scrape data from the Internet\n",
    "    - how to work with APIs\n",
    "    - data visualization, including principles and practicals\n",
    "    "
   ]
  },
  {
   "cell_type": "markdown",
   "metadata": {
    "slideshow": {
     "slide_type": "slide"
    }
   },
   "source": [
    "# Course Outline\n",
    "\n",
    "| **Week** | **Topic**                            | **Week** | **Topic**      |\n",
    "|:----------:|:--------------------------------------|:----:|:----|\n",
    "| 1        | [Introduction to Data](#week-1-introduction-to-data) | 7        | [Exploratory data analysis](#week-7-exploratory-data-analysis)          |\n",
    "| 2        | [The shape of data](#week-2-the-shape-of-data)                  | 8        | [Exploratory data analysis (cont'd)](#week-8-exploratory-data-analysis-contd) |\n",
    "| 3        | [Creating and managing databases](#week-3-creating-and-managing-databases)    | 9        | [Model evaluation](#week-9-model-evaluation)                   |\n",
    "| 4        | [Using data from the Internet](#week-4-using-data-from-the-internet)       | 10       | [Dimensionality reduction](#week-10-dimensionality-reduction)           |\n",
    "| 5        | [Working with APIs](#week-5-working-with-apis)                  |  11       | [Graph data visualization](#week11-graph-data-visualization)           |\n",
    "| 6        | _Reading Week_                       |\n"
   ]
  },
  {
   "cell_type": "markdown",
   "metadata": {
    "slideshow": {
     "slide_type": "slide"
    }
   },
   "source": [
    "# Prerequisites and Software\n",
    "\n",
    "* Introductory course — no prerequisites"
   ]
  },
  {
   "cell_type": "markdown",
   "metadata": {
    "slideshow": {
     "slide_type": "fragment"
    }
   },
   "source": [
    "* Software\n",
    "  * Python and R (Anaconda distributions) for basic work\n",
    "  * SQLite (though Anaconda)\n",
    "  * Jupyter notebooks for writing code and working with data\n",
    "  * Github to share course documents and assignments\n",
    "  \n",
    "* Mirrors similar tool usage and learning in MY470"
   ]
  },
  {
   "cell_type": "markdown",
   "metadata": {
    "slideshow": {
     "slide_type": "slide"
    }
   },
   "source": [
    "# Readings\n",
    "\n",
    "* Mixed set of readings, very specific to each week. \n",
    "    - For instance, [Week 1](https://lse-st445.github.io/#week-1-introduction-to-data)'s readings\n",
    "    - Often available electronically, otherwise, available for purchase from Amazon (often in Kindle versions)\n",
    "   "
   ]
  },
  {
   "cell_type": "markdown",
   "metadata": {
    "slideshow": {
     "slide_type": "fragment"
    }
   },
   "source": [
    "* Often linked to Internet sources\n",
    "\n",
    "    - Some books are available online and in print, and the online version may be more recent"
   ]
  },
  {
   "cell_type": "markdown",
   "metadata": {
    "slideshow": {
     "slide_type": "slide"
    }
   },
   "source": [
    "# Course Meetings\n",
    "\n",
    "* Ten two-hour lectures: Tuesday 10:00–12:00 in CLM.2.02\n",
    "* Ten 1.5-hour classes (\"labs\")\n",
    "  * Thursdays 13:00–14:30 in TW2.4.02\n",
    "* No lecture/class in Week 6\n",
    "* Office hours\n",
    "  * Ken: Mondays 16:00-17:00, Thursdays 11-12:00\n",
    "  * Milan: TBC"
   ]
  },
  {
   "cell_type": "markdown",
   "metadata": {
    "slideshow": {
     "slide_type": "slide"
    }
   },
   "source": [
    "# Assessment\n",
    "\n",
    "\n",
    "* 4 problem sets will be assessed (40%)\n",
    "* Other problem sets will be marked with feedback, but not form part of the final grade\n",
    "\n"
   ]
  },
  {
   "cell_type": "markdown",
   "metadata": {
    "slideshow": {
     "slide_type": "fragment"
    }
   },
   "source": [
    "* Project (60%)\n",
    "  * Work with a dataset to produce a series of visualizations\n",
    "  * You may use either Python or R\n"
   ]
  },
  {
   "cell_type": "markdown",
   "metadata": {
    "slideshow": {
     "slide_type": "slide"
    }
   },
   "source": [
    "## Project data will be provided \n",
    "\n",
    "Examples:\n",
    "  - a dataset of human-annotated political texts, via https://manifesto-project.wzb.eu\n",
    "  - a dataset of Tweets on Brexit, about 15 million from June 2016 (Ken to provide)\n",
    "  - the Hansard corpus of speeches from the UK parliament (Ken to provide)\n",
    "  - UK government data from https://data.gov.uk\n",
    "  - Yelp academic dataset https://www.yelp.com/dataset \n",
    "  - UK Policing dataset https://data.police.uk/data/"
   ]
  },
  {
   "cell_type": "markdown",
   "metadata": {
    "slideshow": {
     "slide_type": "slide"
    }
   },
   "source": [
    "## Collaboration\n",
    "\n",
    "* All assignments are individual unless we instruct you otherwise\n",
    "* For individual assignments:\n",
    "  * You can discuss solutions with peers\n",
    "  * However, you are not allowed to copy-paste code – you need to write the code yourself\n",
    "* You can use online resources but always give credit in comments if you borrow code/solutions\n",
    "* We may very well assign teams for the project (still being discussed)"
   ]
  },
  {
   "cell_type": "markdown",
   "metadata": {
    "slideshow": {
     "slide_type": "slide"
    }
   },
   "source": [
    "# A note on tools\n",
    "\n",
    "* Lab computers will be provided, but you will probably want to use your own\n",
    "* In this and in MY470, we will be encouraging you to install Anaconda locally, and use Jupyter from your local machine's server"
   ]
  },
  {
   "cell_type": "markdown",
   "metadata": {
    "slideshow": {
     "slide_type": "fragment"
    }
   },
   "source": [
    "* However, you may also use Jupyter from the HPC system\n",
    "\n",
    "    - Address: https://fabiancloud.lse.ac.uk/jupyter\n",
    "    -  You first need to email [fabian@lse.ac.uk](mailto:fabian@lse.ac.uk) to request an account\n",
    "    - Instructions may be found on the [Fabian/HPC Moodle page](https://moodle.lse.ac.uk/course/view.php?name=fabian)\n"
   ]
  },
  {
   "cell_type": "markdown",
   "metadata": {
    "slideshow": {
     "slide_type": "-"
    }
   },
   "source": [
    "* As with MY470, we will use GitHub Classroom for the course, so you will need to send us your GitHub username so we can sign you up for the [**lse-st445** organization](http://github.com/lse-st445)"
   ]
  }
 ],
 "metadata": {
  "celltoolbar": "Slideshow",
  "kernelspec": {
   "display_name": "Python 3",
   "language": "python",
   "name": "python3"
  },
  "language_info": {
   "codemirror_mode": {
    "name": "ipython",
    "version": 3
   },
   "file_extension": ".py",
   "mimetype": "text/x-python",
   "name": "python",
   "nbconvert_exporter": "python",
   "pygments_lexer": "ipython3",
   "version": "3.6.1"
  }
 },
 "nbformat": 4,
 "nbformat_minor": 2
}
