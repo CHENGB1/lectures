{
 "cells": [
  {
   "cell_type": "markdown",
   "metadata": {
    "slideshow": {
     "slide_type": "slide"
    }
   },
   "source": [
    "### ST445 Managing and Visualizing Data\n",
    "# Working with Revision Control\n",
    "### Week 1 Lab, MT 2017"
   ]
  },
  {
   "cell_type": "code",
   "execution_count": null,
   "metadata": {
    "collapsed": true
   },
   "outputs": [],
   "source": []
  },
  {
   "cell_type": "markdown",
   "metadata": {
    "slideshow": {
     "slide_type": "slide"
    }
   },
   "source": [
    "## IDEs\n",
    "\n",
    "* Integrated development environment\n",
    "* A software application that facilitates computer programming and software development\n",
    "  * Text editor with syntax highlighting, auto completion and smart identation\n",
    "  * Shell with syntax highlighting\n",
    "  * Popular libraries\n",
    "  * (Debugger)"
   ]
  },
  {
   "cell_type": "markdown",
   "metadata": {
    "slideshow": {
     "slide_type": "slide"
    }
   },
   "source": [
    "## Anaconda\n",
    "\n",
    "* Freemium open-source cross-platform distribution of the Python and R programming languages\n",
    "  * *conda* – package management system\n",
    "  * *git*, *pandas*, *scikit-learn*, *nltk*, etc. – packages for data science \n",
    "  * Anaconda Navigator – graphical user interface\n",
    "  * Jupyter Notebook – web app for creating and sharing code"
   ]
  },
  {
   "cell_type": "markdown",
   "metadata": {
    "slideshow": {
     "slide_type": "slide"
    }
   },
   "source": [
    "## Installing Anaconda\n",
    "\n",
    "* Go to https://www.continuum.io/downloads\n",
    "* Select your OS\n",
    "* **Download Python 3.6 version**\n",
    "* Follow instructions"
   ]
  },
  {
   "cell_type": "markdown",
   "metadata": {
    "slideshow": {
     "slide_type": "slide"
    }
   },
   "source": [
    "## Jupyter\n",
    "\n",
    "* Open-source web application for creating and sharing documents with:\n",
    "  * Live code\n",
    "  * Equations\n",
    "  * Visualizations\n",
    "  * Explanatory text\n",
    "* Supports more than 40 programming languages, including Python and R\n",
    "* Notebook files have *.ipynb* extension and can be easily shared, e.g. on GitHub"
   ]
  },
  {
   "cell_type": "markdown",
   "metadata": {
    "slideshow": {
     "slide_type": "slide"
    }
   },
   "source": [
    "## Launching Jupyter\n",
    "\n",
    "* Launch **Anaconda Navigator** and click on Jupyter Notebook icon\n",
    "\n",
    "or \n",
    "\n",
    "* Open Terminal/cmd and type: \n",
    "\n",
    "```\n",
    "> jupyter notebook\n",
    "```"
   ]
  },
  {
   "cell_type": "markdown",
   "metadata": {
    "slideshow": {
     "slide_type": "slide"
    }
   },
   "source": [
    "## Using Jupyter\n",
    "\n",
    "* New &rarr; Notebook: Python 3\n",
    "* Insert &rarr; Insert Cell Below\n",
    "* Cell &rarr; Cell Type &rarr;\n",
    "  * Markdown\n",
    "    * ST445 Managing and Visualizing Data\n",
    "    * Cheatsheets, for example: https://github.com/adam-p/markdown-here/wiki/Markdown-Cheatsheet\n",
    "  * Code"
   ]
  },
  {
   "cell_type": "markdown",
   "metadata": {
    "slideshow": {
     "slide_type": "slide"
    }
   },
   "source": [
    "## The `print` Function in Python"
   ]
  },
  {
   "cell_type": "code",
   "execution_count": 1,
   "metadata": {
    "slideshow": {
     "slide_type": "-"
    }
   },
   "outputs": [
    {
     "name": "stdout",
     "output_type": "stream",
     "text": [
      "The\n",
      "The winning number is 7 .\n",
      "The winning number is 10.\n"
     ]
    }
   ],
   "source": [
    "print('The')\n",
    "print('The', 'winning', 'number', 'is', 7, '.')\n",
    "print('The winning number is '+ str(10) + '.')"
   ]
  },
  {
   "cell_type": "markdown",
   "metadata": {
    "slideshow": {
     "slide_type": "slide"
    }
   },
   "source": [
    "## Using Jupyter for Slides\n",
    "\n",
    "* Install RISE\n",
    "  \n",
    "```\n",
    "> conda install -c damianavila82 rise\n",
    "```    \n",
    "  \n",
    "* Restart Jupyter\n",
    "* View &rarr; Cell Toolbar &rarr; Slideshow to determine slideshow flow\n",
    "* Click on Enter/Exit Live Rveal Slideshow\n",
    "    "
   ]
  },
  {
   "cell_type": "markdown",
   "metadata": {
    "slideshow": {
     "slide_type": "slide"
    }
   },
   "source": [
    "## Shutting Down Jupyter\n",
    "\n",
    "* Do not forget to Command+S / CTRL+S !\n",
    "* Jupyter is a server and closing the browser window will not shut it down\n",
    "* To shut down:\n",
    "    * File &rarr; Close and Halt\n",
    "    * Notebook Dashboard &rarr; Slect notebook &rarr; Shutdown\n",
    "    * Terminal &rarr; CTRL+C &rarr; `y`"
   ]
  },
  {
   "cell_type": "markdown",
   "metadata": {
    "slideshow": {
     "slide_type": "slide"
    }
   },
   "source": [
    "## Alternatives: IDEs\n",
    "\n",
    "* Use another IDE, such as spyder (Python) or the excellent Rstudio (R)\n",
    "* Can use R Notebooks from RStudio\n",
    "\n",
    "or \n",
    "\n",
    "* Use text editor (e.g. Atom) to create .py files\n",
    "* Run files in Terminal/cmd\n",
    "\n",
    "```\n",
    "> cd Path/to/file\n",
    "> python filename.py\n",
    "```"
   ]
  },
  {
   "cell_type": "markdown",
   "metadata": {
    "slideshow": {
     "slide_type": "slide"
    }
   },
   "source": [
    "## GitHub\n",
    "\n",
    "* Code hosting platform for version control and collaboration\n",
    "* Based on Git\n",
    "  * Version control system for tracking changes in computer files and coordinating work on those files among multiple people\n",
    "  * Created in 2005 by Linus Torvalds\n",
    "* Largest host of source code in the world"
   ]
  },
  {
   "cell_type": "markdown",
   "metadata": {
    "slideshow": {
     "slide_type": "slide"
    }
   },
   "source": [
    "## GitHub Lingo\n",
    "\n",
    "* Repository – a space for a project/assignment\n",
    "* Clone – a copy of the repository that lives on your computer\n",
    "* Branch – a paralel version of the repository\n",
    "* Commit – save changes with a short description\n",
    "* Pull request – ask changes to be merged\n",
    "* Merge – incorporate changes (then delete branch)"
   ]
  },
  {
   "cell_type": "markdown",
   "metadata": {
    "slideshow": {
     "slide_type": "slide"
    }
   },
   "source": [
    "## Getting Started with GitHub\n",
    "\n",
    "* Create personal account on GitHub\n",
    "* Go to https://education.github.com/ and get the Student Developer Pack for some cool freebies"
   ]
  },
  {
   "cell_type": "markdown",
   "metadata": {
    "slideshow": {
     "slide_type": "fragment"
    }
   },
   "source": [
    "* Syllabus and lectures can be found at http://lse-st445.github.com, and the source repositories for this at http://github.com/lse-st445.\n",
    "  * Use http://nbviewer.jupyter.org/github/lse-st445/ to view them online\n",
    "  * For better results, download/clone them and use Jupyter"
   ]
  },
  {
   "cell_type": "markdown",
   "metadata": {
    "slideshow": {
     "slide_type": "fragment"
    }
   },
   "source": [
    "* E-mails with links to assignments will be sent in due course"
   ]
  },
  {
   "cell_type": "markdown",
   "metadata": {
    "slideshow": {
     "slide_type": "slide"
    }
   },
   "source": [
    "## Submitting Assignments on GitHub (Web Version)\n",
    "\n",
    "1. Accept the emailed invitation to each assignment\n",
    "* **Clone/download** your branch repository (GitHub web interface)\n",
    "* Make changes in downloaded files and/or create new files (Jupyter)\n",
    "* Upload and **commit** new and/or changed files to your branch (GitHub web interface)\n",
    "* Create a **pull request** to submit assignment (GitHub web interface) \n",
    "* Wait for new commit from us for mark and comments\n",
    "\n",
    "Remember to give credit when borrowing code or solutions!"
   ]
  },
  {
   "cell_type": "markdown",
   "metadata": {
    "slideshow": {
     "slide_type": "slide"
    }
   },
   "source": [
    "## Submitting Assignments on GitHub Classroom\n",
    "\n",
    "1. Accept the invitation to each assignment\n",
    "* Make changes directly in files and/or create new files (Jupyter)\n",
    "* Upload or commit new and/or changed files to your branch\n",
    "* Wait for new commit from us for mark and comments\n",
    "\n",
    "Remember to give credit when borrowing code or solutions!"
   ]
  },
  {
   "cell_type": "markdown",
   "metadata": {
    "slideshow": {
     "slide_type": "slide"
    }
   },
   "source": [
    "## Week 1 Assignment\n",
    "\n",
    "* Setting up GitHub\n",
    "* Editing a page, and submitting a pull request\n",
    "* Setting up a personal web page on GitHub\n",
    "* Editing a file, and submitting on GitHub Classroom"
   ]
  }
 ],
 "metadata": {
  "celltoolbar": "Slideshow",
  "kernelspec": {
   "display_name": "Python 3",
   "language": "python",
   "name": "python3"
  },
  "language_info": {
   "codemirror_mode": {
    "name": "ipython",
    "version": 3
   },
   "file_extension": ".py",
   "mimetype": "text/x-python",
   "name": "python",
   "nbconvert_exporter": "python",
   "pygments_lexer": "ipython3",
   "version": "3.6.1"
  }
 },
 "nbformat": 4,
 "nbformat_minor": 2
}
